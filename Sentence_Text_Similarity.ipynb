{
 "cells": [
  {
   "cell_type": "code",
   "execution_count": null,
   "metadata": {
    "id": "O36XMI5EE_j0"
   },
   "outputs": [],
   "source": [
    "!pip install transformers \n",
    "!pip install -U sentence-transformers\n",
    "!pip install wordcloud"
   ]
  },
  {
   "cell_type": "code",
   "execution_count": null,
   "metadata": {
    "id": "8X1N1A0RFF11"
   },
   "outputs": [],
   "source": [
    "# Data loading and manipulation\n",
    "import pandas as pd\n",
    "import numpy as np\n",
    "\n",
    "import tensorflow as tf \n",
    "import torch \n",
    "from sentence_transformers import SentenceTransformer, util \n",
    "from sklearn.metrics.pairwise import cosine_similarity\n",
    "from scipy.stats import spearmanr\n",
    "from itertools import chain\n",
    "\n",
    "import nltk\n",
    "from nltk.tokenize import sent_tokenize \n",
    "from nltk.tokenize import word_tokenize\n"
   ]
  },
  {
   "cell_type": "code",
   "execution_count": null,
   "metadata": {
    "colab": {
     "base_uri": "https://localhost:8080/"
    },
    "id": "3jhYcfXgFLOX",
    "outputId": "76824b1a-b5bf-4bfc-a066-721876f3630a"
   },
   "outputs": [
    {
     "name": "stdout",
     "output_type": "stream",
     "text": [
      "/device:GPU:0\n"
     ]
    }
   ],
   "source": [
    "# Get the GPU device name. \n",
    "device_name = tf.test.gpu_device_name()\n",
    "print(device_name)"
   ]
  },
  {
   "cell_type": "code",
   "execution_count": null,
   "metadata": {
    "colab": {
     "base_uri": "https://localhost:8080/"
    },
    "id": "w7Py7iibxQ5K",
    "outputId": "2ba2b009-cb37-41ba-9f7e-3dbd3e96c2e4"
   },
   "outputs": [
    {
     "name": "stdout",
     "output_type": "stream",
     "text": [
      "There are 1 GPU(s) available.\n",
      "We will use the GPU: Tesla K80\n"
     ]
    }
   ],
   "source": [
    "#In order for torch to use the GPU, we need to identify and specify the GPU as the device.\n",
    "if torch.cuda.is_available():\n",
    "  device = torch.device(\"cuda\")\n",
    "\n",
    "  print('There are %d GPU(s) available.' % torch.cuda.device_count())\n",
    "  print('We will use the GPU:',torch.cuda.get_device_name(0))\n",
    "\n",
    "else:\n",
    "  print('No GPU available, using the CPU instead')\n",
    "  device = torch.device(\"cpu\")"
   ]
  },
  {
   "cell_type": "code",
   "execution_count": null,
   "metadata": {
    "colab": {
     "base_uri": "https://localhost:8080/",
     "height": 195
    },
    "id": "PNjT_IRC2N_z",
    "outputId": "c90e8b4e-ad77-4a01-fe14-9841c6c29ba8"
   },
   "outputs": [
    {
     "data": {
      "text/html": [
       "<div>\n",
       "<style scoped>\n",
       "    .dataframe tbody tr th:only-of-type {\n",
       "        vertical-align: middle;\n",
       "    }\n",
       "\n",
       "    .dataframe tbody tr th {\n",
       "        vertical-align: top;\n",
       "    }\n",
       "\n",
       "    .dataframe thead th {\n",
       "        text-align: right;\n",
       "    }\n",
       "</style>\n",
       "<table border=\"1\" class=\"dataframe\">\n",
       "  <thead>\n",
       "    <tr style=\"text-align: right;\">\n",
       "      <th></th>\n",
       "      <th>Unique_ID</th>\n",
       "      <th>text1</th>\n",
       "      <th>text2</th>\n",
       "    </tr>\n",
       "  </thead>\n",
       "  <tbody>\n",
       "    <tr>\n",
       "      <th>0</th>\n",
       "      <td>0</td>\n",
       "      <td>savvy searchers fail to spot ads internet sear...</td>\n",
       "      <td>newcastle 2-1 bolton kieron dyer smashed home ...</td>\n",
       "    </tr>\n",
       "    <tr>\n",
       "      <th>1</th>\n",
       "      <td>1</td>\n",
       "      <td>millions to miss out on the net by 2025  40% o...</td>\n",
       "      <td>nasdaq planning $100m share sale the owner of ...</td>\n",
       "    </tr>\n",
       "    <tr>\n",
       "      <th>2</th>\n",
       "      <td>2</td>\n",
       "      <td>young debut cut short by ginepri fifteen-year-...</td>\n",
       "      <td>ruddock backs yapp s credentials wales coach m...</td>\n",
       "    </tr>\n",
       "    <tr>\n",
       "      <th>3</th>\n",
       "      <td>3</td>\n",
       "      <td>diageo to buy us wine firm diageo  the world s...</td>\n",
       "      <td>mci shares climb on takeover bid shares in us ...</td>\n",
       "    </tr>\n",
       "    <tr>\n",
       "      <th>4</th>\n",
       "      <td>4</td>\n",
       "      <td>be careful how you code a new european directi...</td>\n",
       "      <td>media gadgets get moving pocket-sized devices ...</td>\n",
       "    </tr>\n",
       "  </tbody>\n",
       "</table>\n",
       "</div>"
      ],
      "text/plain": [
       "   Unique_ID  ...                                              text2\n",
       "0          0  ...  newcastle 2-1 bolton kieron dyer smashed home ...\n",
       "1          1  ...  nasdaq planning $100m share sale the owner of ...\n",
       "2          2  ...  ruddock backs yapp s credentials wales coach m...\n",
       "3          3  ...  mci shares climb on takeover bid shares in us ...\n",
       "4          4  ...  media gadgets get moving pocket-sized devices ...\n",
       "\n",
       "[5 rows x 3 columns]"
      ]
     },
     "execution_count": 37,
     "metadata": {
      "tags": []
     },
     "output_type": "execute_result"
    }
   ],
   "source": [
    "#Loading the data\n",
    "df = pd.read_csv('/content/drive/MyDrive/Text_Similarity_Dataset.csv')\n",
    "df.head()"
   ]
  },
  {
   "cell_type": "markdown",
   "metadata": {
    "id": "x7lQxHl-3MKE"
   },
   "source": [
    "The two columns text1 and text2 needs to be analysed. Let's look at a single row for better understanding of the data(document)."
   ]
  },
  {
   "cell_type": "code",
   "execution_count": null,
   "metadata": {
    "colab": {
     "base_uri": "https://localhost:8080/"
    },
    "id": "OMa0hC5L7PFx",
    "outputId": "61f0ac72-6be4-468c-b9db-ea434b2b4b7a"
   },
   "outputs": [
    {
     "data": {
      "text/plain": [
       "(4023, 3)"
      ]
     },
     "execution_count": 38,
     "metadata": {
      "tags": []
     },
     "output_type": "execute_result"
    }
   ],
   "source": [
    "#Looking at the shape of the data\n",
    "df.shape"
   ]
  },
  {
   "cell_type": "code",
   "execution_count": null,
   "metadata": {
    "colab": {
     "base_uri": "https://localhost:8080/"
    },
    "id": "VkGazcaCebTz",
    "outputId": "3da8264b-3789-43bb-ec76-fc9ba32b0ff3"
   },
   "outputs": [
    {
     "data": {
      "text/plain": [
       "Unique_ID    0\n",
       "text1        0\n",
       "text2        0\n",
       "dtype: int64"
      ]
     },
     "execution_count": 39,
     "metadata": {
      "tags": []
     },
     "output_type": "execute_result"
    }
   ],
   "source": [
    "df.isnull().sum()"
   ]
  },
  {
   "cell_type": "code",
   "execution_count": null,
   "metadata": {
    "colab": {
     "base_uri": "https://localhost:8080/",
     "height": 120
    },
    "id": "mtbNBJ633iQs",
    "outputId": "4d7e2411-3801-4e8a-eb5b-167cf45a74f8"
   },
   "outputs": [
    {
     "data": {
      "application/vnd.google.colaboratory.intrinsic+json": {
       "type": "string"
      },
      "text/plain": [
       "'savvy searchers fail to spot ads internet search engine users are an odd mix of naive and sophisticated  suggests a report into search habits.  the report by the us pew research center reveals that 87% of searchers usually find what they were looking for when using a search engine. it also shows that few can spot the difference between paid-for results and organic ones. the report reveals that 84% of net users say they regularly use google  ask jeeves  msn and yahoo when online.  almost 50% of those questioned said they would trust search engines much less  if they knew information about who paid for results was being hidden. according to figures gathered by the pew researchers the average users spends about 43 minutes per month carrying out 34 separate searches and looks at 1.9 webpages for each hunt. a significant chunk of net users  36%  carry out a search at least weekly and 29% of those asked only look every few weeks. for 44% of those questioned  the information they are looking for is critical to what they are doing and is information they simply have to find.  search engine users also tend to be very loyal and once they have found a site they feel they can trust tend to stick with it. according to pew research 44% of searchers use just a single search engine  48% use two or three and a small number  7%  consult more than three sites. tony macklin  spokesman for ask jeeves  said the results reflected its own research which showed that people use different search engines because the way the sites gather information means they can provide different results for the same query. despite this liking for search sites half of those questioned said they could get the same information via other routes. a small number  17%  said they wouldn t really miss search engines if they did not exist. the remaining 33% said they could not live without search sites. more than two-thirds of those questioned  68%  said they thought that the results they were presented with were a fair and unbiased selection of the information on a topic that can be found on the net. alongside the growing sophistication of net users is a lack of awareness about paid-for results that many search engines provide alongside lists of websites found by indexing the web. of those asked  62% were unaware that someone has paid for some of the results they see when they carry out a search. only 18% of all searchers say they can tell which results are paid for and which are not. said the pew report:  this finding is ironic  since nearly half of all users say they would stop using search engines if they thought engines were not being clear about how they presented paid results.  commenting mr macklin said sponsored results must be clearly marked and though they might help with some queries user testing showed that people need to be able to spot the difference.'"
      ]
     },
     "execution_count": 40,
     "metadata": {
      "tags": []
     },
     "output_type": "execute_result"
    }
   ],
   "source": [
    "df['text1'][0] #document of text1(UniqueID = 0)"
   ]
  },
  {
   "cell_type": "code",
   "execution_count": null,
   "metadata": {
    "colab": {
     "base_uri": "https://localhost:8080/",
     "height": 120
    },
    "id": "K15xDcsv4fx2",
    "outputId": "e1df61bb-dd6d-43f0-8418-650c6a012acb"
   },
   "outputs": [
    {
     "data": {
      "application/vnd.google.colaboratory.intrinsic+json": {
       "type": "string"
      },
      "text/plain": [
       "'newcastle 2-1 bolton kieron dyer smashed home the winner to end bolton s 10-game unbeaten run.  lee bowyer put newcastle ahead when he fed stephen carr on the right flank  then sprinted into the area to power home a header from the resultant cross. wanderers hit back through stelios giannakopoulos  who ended a fluid passing move with a well-struck volley. but dyer had the last word in a game of few chances  pouncing on a loose ball after alan shearer s shot was blocked and firing into the top corner. neither side lacked urgency in the early stages of the game  with plenty of tackles flying in  but opportunities in front of goal were harder to come by. bolton keeper jussi jaaskelainen had to make two saves in quick succession midway through the first-half - keeping out shearer s low shot and dyer s close-range header - but that was the only goalmouth action of note. and it was almost out of nothing that the magpies took the lead on 35 minutes. bowyer found space with a neat turn on the half-way line and striding forward picked out carr to his right. he then continued his run and with perfect timing made his way into the box where he met carr s cross with a downward header into the far corner. bolton had produced little going forward at this point but they responded well.  they were level within six minutes thanks to a smart finish from giannakopoulos. jay-jay okocha twisted and turned on the edge of the area and after a neat exchange of passes involving kevin davies and gary speed  the greek striker found the bottom corner with a first-time strike. the magpies were opened up again before half-time as davies set giannakopoulos in space and given had to block at his near post. but the home side survived  and they should have re-taken the lead with the first meaningful attack of the second half. fernando hierro cynically chopped down dyer on the edge of the area with the midfielder clean through. but the veteran defender escaped with a booking as there were other defenders nearby  and from the resultant free-kick laurent robert curled the ball just wide. bolton were creating little going forward and they seemed content to frustrate the magpies. their strategy seemed to be working until the 69th minute. alan shearer s snap-shot was charged down and dyer reacted first to smash the ball past the despairing jaaskelainen from six yards.  - bolton boss sam allardyce  i am bitterly disappointed with the result  but i am probably more disappointed with the second-half performance.  in the first half we had put them under a lot of pressure  and our goal matched theirs in quality.  i thought it would lift us and that they might be tired after playing a lot of games  but unfortunately we were not up for the battle in the second half.  we allowed them to heap too much pressure on us  and in the end we cracked.    - newcastle boss graeme souness  we deserved the win. we had a really good second half.  bolton are a difficult side to play. you have to match them physically first but we did that  and then we played some football.  we had a slow first 45 minutes when we looked a bit tired but we got going after that. the scoreline flattered them and we could have had one or two more goals.  newcastle: given  carr  boumsong  bramble  babayaro  dyer  faye  bowyer  robert (jenas 77)  ameobi  shearer. subs not used: butt  harper  milner  hughes. goals: bowyer 35  dyer 69. bolton: jaaskelainen  hunt (fadiga 14)  n gotty  ben haim  candela  giannakopoulos  okocha (vaz te 77)  hierro (campo 64)  speed  gardner  davies. subs not used: jaidi  poole. booked: ben haim  hierro. goals: giannakopoulos 41. att: 50 430 ref: s dunn (gloucestershire).'"
      ]
     },
     "execution_count": 41,
     "metadata": {
      "tags": []
     },
     "output_type": "execute_result"
    }
   ],
   "source": [
    "df['text2'][0] #document of text2(UniqueID = 0)"
   ]
  },
  {
   "cell_type": "markdown",
   "metadata": {
    "id": "rn02BDuH43YY"
   },
   "source": [
    "- Looking at the document, 'text1' and 'text2' consists of corpora of around 500-800 words. \n",
    "- The corpus altered to lower cases. \n",
    "- We can use any of the BERT models for sentence text similarity(STS). \n",
    "- Since the corpus is quite large(4023,3), I will use Sentence-BERT(SBERT) which is a modification of the BERT network using siamese and triplet networks. \n",
    "- Sentence Text Similarity can be performed with extreme effeciency with SBERT model. We can get almost the same efficiency of BERT, RoBERTa models with very little computational power. "
   ]
  },
  {
   "cell_type": "markdown",
   "metadata": {
    "id": "RtOPCBxT87Yx"
   },
   "source": [
    "## Architecture of SBERT: \n",
    "- We feed the sentence into the transformer network like BERT. \n",
    "- BERT produces contextual word embeddings for all the input tokens in our text i.e. 501 word tokens for example 1(text1[0])\n",
    "- As we want a fixed sized output representation, we need a pooling layer. Different pooling layers are available and the most basic one is Mean-Pooling. \n",
    "- It simply averages all the contextualised word embeddings of BERT. This gives 768 dimensional output vector which is independent of how long our input vector(corpus).\n",
    "- We can then use, Cosine Similarity for analysis where cosine similarity is cosine of the angle between two vectors. \n",
    "- Not removing stop words as bert models understand the semantic structure of the sentences."
   ]
  },
  {
   "cell_type": "code",
   "execution_count": null,
   "metadata": {
    "id": "Tzopo4U69esh"
   },
   "outputs": [],
   "source": [
    "model_name = 'bert-base-nli-mean-tokens' #SBERT model from huggingface"
   ]
  },
  {
   "cell_type": "code",
   "execution_count": null,
   "metadata": {
    "colab": {
     "base_uri": "https://localhost:8080/"
    },
    "id": "_Sg60sDmAMK_",
    "outputId": "664e74c2-1308-4080-bbcb-cca2dc0675a3"
   },
   "outputs": [
    {
     "name": "stderr",
     "output_type": "stream",
     "text": [
      "Some weights of the model checkpoint at /root/.cache/torch/sentence_transformers/sbert.net_models_bert-base-nli-mean-tokens/0_BERT were not used when initializing BertModel: ['classifier.bias', 'classifier.weight']\n",
      "- This IS expected if you are initializing BertModel from the checkpoint of a model trained on another task or with another architecture (e.g. initializing a BertForSequenceClassification model from a BertForPreTraining model).\n",
      "- This IS NOT expected if you are initializing BertModel from the checkpoint of a model that you expect to be exactly identical (initializing a BertForSequenceClassification model from a BertForSequenceClassification model).\n"
     ]
    },
    {
     "data": {
      "text/plain": [
       "array([[-0.54137397,  1.2598132 , -0.77625245, ...,  0.29636627,\n",
       "         0.43212074,  0.19745058],\n",
       "       [-0.26046246,  0.61270577,  0.06184964, ..., -0.42472935,\n",
       "         0.3006261 ,  0.34556156],\n",
       "       [-0.6884721 ,  0.44877404,  0.34996334, ...,  0.7363529 ,\n",
       "         0.5277435 , -0.51108295],\n",
       "       ...,\n",
       "       [-0.5758161 ,  1.1334713 , -0.889428  , ..., -0.09568016,\n",
       "         0.44836384, -0.04462703],\n",
       "       [-0.33474427,  0.56737816,  0.661795  , ..., -0.1679    ,\n",
       "        -0.30790818, -0.05841556],\n",
       "       [ 0.07700596,  0.6332016 , -0.03906994, ...,  0.18423545,\n",
       "        -0.02406658,  0.5077925 ]], dtype=float32)"
      ]
     },
     "execution_count": 43,
     "metadata": {
      "tags": []
     },
     "output_type": "execute_result"
    }
   ],
   "source": [
    "model = SentenceTransformer(model_name)\n",
    "\n",
    "sentence_vecs = model.encode(df['text1']) #Feeding the 'text1' column into the transformer.\n",
    "sentence_vecs"
   ]
  },
  {
   "cell_type": "code",
   "execution_count": null,
   "metadata": {
    "colab": {
     "base_uri": "https://localhost:8080/"
    },
    "id": "RwDltVvcBLeW",
    "outputId": "677384aa-0814-44b4-a228-99b0d80098f7"
   },
   "outputs": [
    {
     "data": {
      "text/plain": [
       "array([[-0.4202749 ,  0.6990345 , -0.2226019 , ...,  0.17469361,\n",
       "         0.46033466,  0.14973462],\n",
       "       [-0.55514956,  0.32917708, -0.482527  , ..., -0.60323   ,\n",
       "         0.36121878,  0.0349756 ],\n",
       "       [-0.29840308,  0.2588199 , -0.00465268, ...,  0.53657174,\n",
       "         0.5570576 , -0.42199388],\n",
       "       ...,\n",
       "       [-0.30856845,  0.85962766,  0.04093473, ...,  0.01395581,\n",
       "         0.23926379, -0.17645541],\n",
       "       [-0.38147604,  0.60046315, -0.83278316, ..., -0.33495563,\n",
       "         0.23949596, -0.02967873],\n",
       "       [-0.76588607,  0.01247211,  1.0528333 , ..., -0.36547437,\n",
       "         0.43119842, -0.06551446]], dtype=float32)"
      ]
     },
     "execution_count": 44,
     "metadata": {
      "tags": []
     },
     "output_type": "execute_result"
    }
   ],
   "source": [
    "sentence_vecs2 = model.encode(df['text2']) #Feeding the 'text2' column into the transformer.\n",
    "sentence_vecs2"
   ]
  },
  {
   "cell_type": "code",
   "execution_count": null,
   "metadata": {
    "colab": {
     "base_uri": "https://localhost:8080/"
    },
    "id": "avo_TqhUB9nk",
    "outputId": "f7022127-3b95-4ac9-bac7-19d165800676"
   },
   "outputs": [
    {
     "name": "stdout",
     "output_type": "stream",
     "text": [
      "[-5.41373968e-01  1.25981319e+00 -7.76252449e-01  1.10632345e-01\n",
      " -1.89218000e-02 -4.67766941e-01  1.39817238e+00  2.55670458e-01\n",
      "  1.24648303e-01  2.24206179e-01 -2.87715614e-01  4.45956409e-01\n",
      "  2.02211037e-01  1.97331652e-01 -1.07689178e+00  7.82637477e-01\n",
      "  4.50377285e-01  4.25819129e-01 -1.87249959e-01 -3.51529479e-01\n",
      " -9.31338817e-02 -4.24977660e-01 -2.70688891e-01  1.58277620e-02\n",
      "  9.57239151e-01  9.63204384e-01 -3.80303323e-01 -5.57951748e-01\n",
      " -1.05252397e+00  2.84790546e-01 -2.60121912e-01  6.82908356e-01\n",
      "  3.12892854e-01 -1.26097783e-01  1.32913113e-01  1.78146392e-01\n",
      "  4.81873721e-01 -3.44094522e-02  5.29673696e-01  3.12636316e-01\n",
      "  5.82854986e-01  3.82691771e-02  1.97854489e-02  1.86933354e-01\n",
      " -3.71493697e-01 -6.54961020e-02  9.68555287e-02  8.31038415e-01\n",
      "  6.59093916e-01 -2.02466950e-01 -5.36180735e-02  5.73645413e-01\n",
      "  9.84294057e-01  3.12417805e-01 -5.14605284e-01  2.36952990e-01\n",
      "  8.25038373e-01 -7.36944914e-01 -6.19647563e-01 -3.74562800e-01\n",
      " -8.80797803e-01  4.97478604e-01 -3.17193687e-01 -6.13011003e-01\n",
      " -5.85511804e-01  3.81797224e-01 -1.29983753e-01  1.23242939e+00\n",
      " -9.60597575e-01 -1.07654095e+00 -9.71426256e-04 -1.52496886e+00\n",
      " -7.16734648e-01 -5.27434051e-01 -4.51342702e-01 -5.84657043e-02\n",
      " -1.83963627e-01  2.10079253e-01  9.69190657e-01 -4.53339100e-01\n",
      " -7.42983580e-01  2.96725035e-01 -5.22410154e-01 -6.16873085e-01\n",
      "  5.52540779e-01 -5.08620381e-01  1.86624512e-01 -6.97703660e-01\n",
      "  3.13820779e-01  3.72438431e-01  7.88866997e-01 -1.58373654e-01\n",
      "  1.13799608e+00 -2.21845150e-01 -1.65744841e+00 -7.48937011e-01\n",
      "  1.06599875e-01  5.86858511e-01  3.44519168e-02  3.96045536e-01\n",
      "  2.91601151e-01  1.45422578e-01  4.79335971e-02  7.93180943e-01\n",
      " -6.60781622e-01  5.67335546e-01  6.01985037e-01  2.71814894e-02\n",
      " -4.89075124e-01  1.94805622e-01  5.11499763e-01  5.19381166e-01\n",
      " -8.67876768e-01  1.41268671e-01 -7.15981483e-01 -3.72582935e-02\n",
      " -2.82245904e-01  4.59238440e-01  3.74390900e-01 -1.43722996e-01\n",
      "  9.95902896e-01 -1.43354177e-01  8.86502191e-02 -3.41961801e-01\n",
      " -1.05956033e-01  1.87056452e-01  3.69011372e-01  8.03734004e-01\n",
      "  2.71092169e-02  3.11517358e-01  7.17244267e-01  5.62988997e-01\n",
      "  1.57793418e-01 -1.19782686e-01 -2.69607723e-01  2.21892968e-01\n",
      "  5.91072023e-01  3.22633423e-03  9.40217555e-01 -6.79035664e-01\n",
      "  3.41257274e-01 -1.47380307e-01  6.11570477e-01 -6.55367255e-01\n",
      " -1.57518983e-01 -4.38154250e-01  4.87118125e-01 -7.13952422e-01\n",
      " -1.84598938e-02  5.58892712e-02  2.60507464e-01  2.64647752e-02\n",
      " -6.00870907e-01  2.36539811e-01  5.07988155e-01 -8.06534663e-03\n",
      " -6.27511740e-01 -1.41091359e+00  3.11112285e-01  4.77151871e-01\n",
      " -1.68163627e-01  2.62507081e-01 -1.64359957e-01  1.94512784e-01\n",
      "  3.55475128e-01 -5.18382072e-01  7.00885713e-01 -4.68067169e-01\n",
      "  6.61519393e-02  1.18625104e-01 -4.63296235e-01  9.93011355e-01\n",
      "  1.74060965e+00 -6.05162978e-03  5.68668723e-01  2.24261165e-01\n",
      "  2.32007682e-01  5.18492907e-02 -3.87371510e-01 -1.98353648e-01\n",
      " -4.94116426e-01  4.18275803e-01 -9.18649316e-01  7.19407797e-01\n",
      "  9.69132304e-01 -2.40655884e-01  1.33180678e+00 -1.25778675e-01\n",
      "  2.56404340e-01 -2.52186000e-01 -6.06824577e-01 -4.05775994e-01\n",
      "  2.65470803e-01 -1.81961507e-01  2.99520344e-01 -7.46440291e-02\n",
      "  2.50874281e-01  9.60363090e-01  5.78176916e-01  7.29830489e-02\n",
      " -6.04804039e-01  4.59101588e-01 -2.33867794e-01 -3.39648187e-01\n",
      " -1.10277247e+00  4.46450949e-01  2.59289503e-01 -1.09860756e-01\n",
      " -1.41241884e+00 -3.58763635e-01 -7.44073093e-01  2.55710691e-01\n",
      " -9.04817581e-02  3.37089598e-01  4.84062165e-01  3.82876754e-01\n",
      "  6.67210966e-02 -3.24010611e-01  1.02132583e+00  8.22437644e-01\n",
      "  6.41241074e-01  3.00541729e-01 -1.32896572e-01  1.12643051e+00\n",
      " -4.63500619e-01  6.35891378e-01  5.78132808e-01 -2.48188168e-01\n",
      " -7.50839055e-01  8.44401181e-01  7.39318952e-02  2.78785080e-03\n",
      " -4.82793927e-01 -1.50299072e-01 -1.17485479e-01 -6.07354462e-01\n",
      " -9.70086813e-01  1.22294158e-01  1.02541840e+00 -3.83074820e-01\n",
      " -2.77434677e-01 -1.10064834e-01 -1.33315921e-01  7.11702347e-01\n",
      " -5.56494594e-01 -1.97987452e-01 -3.20806839e-02 -4.09697115e-01\n",
      " -4.80089694e-01 -1.27875328e-01 -6.98769808e-01  8.36039543e-01\n",
      "  6.77931085e-02 -7.29010224e-01  4.69909906e-01 -2.11778015e-01\n",
      "  1.26278862e-01  7.05208123e-01 -1.85532629e-01 -2.43302584e-01\n",
      " -1.88091010e-01  8.29987377e-02 -4.50965554e-01  3.45997393e-01\n",
      " -1.21428117e-01  1.98004112e-01 -5.87040067e-01  2.72924840e-01\n",
      " -8.54278147e-01 -1.28806243e-03 -2.08137259e-01 -9.50505376e-01\n",
      " -3.79070967e-01  9.85456467e-01 -5.82369328e-01 -1.32881761e-01\n",
      " -2.52841592e-01  3.94396603e-01  7.82709122e-01 -1.50666818e-01\n",
      " -1.24657087e-01  5.94607472e-01 -2.02624500e-01  3.58903259e-02\n",
      " -6.76097512e-01  4.45999086e-01 -1.42144546e-01 -6.29052937e-01\n",
      " -4.30360168e-01 -3.07700843e-01  6.96928561e-01  2.01918438e-01\n",
      " -8.75768214e-02 -8.24689984e-01  1.05045795e-01  4.19501901e-01\n",
      "  4.19912577e-01 -7.32085228e-01  1.05777240e+00  1.01173449e+00\n",
      "  2.90766537e-01  3.29890549e-02 -8.43092620e-01  5.04739940e-01\n",
      " -1.43325830e+00 -2.76369393e-01  4.46286827e-01  2.08296508e-01\n",
      " -1.44182706e+00  1.23330936e-01 -4.70004618e-01 -6.38361096e-01\n",
      " -2.38961980e-01  1.18139672e+00  9.82099295e-01 -4.11808789e-01\n",
      "  2.74834275e-01  5.24730802e-01 -1.27087384e-01 -5.47856927e-01\n",
      " -2.13015348e-01  5.56750238e-01  5.67779779e-01  2.82434046e-01\n",
      "  1.09657562e+00 -1.18800685e-01  7.18920350e-01 -1.25111520e-01\n",
      " -7.45202526e-02 -4.97561157e-01  6.15933001e-01 -4.73623455e-01\n",
      " -4.85697668e-03  1.11873507e+00  5.51408827e-01 -1.44387066e-01\n",
      " -6.06053829e-01  9.16001797e-01  1.92860976e-01  2.08297059e-01\n",
      "  2.34275222e-01 -5.49412131e-01 -8.86966959e-02  1.69235826e-01\n",
      "  3.54693532e-01  1.91924527e-01  3.54683638e-01  9.99263525e-01\n",
      " -6.76286459e-01  4.25832868e-01  4.86498713e-01  5.73801100e-01\n",
      "  1.79427433e+00  2.57495999e-01  8.49983543e-02 -8.81251931e-01\n",
      " -7.35580802e-01  2.97476083e-01 -5.16814351e-01 -1.61532611e-01\n",
      " -6.92934275e-01  1.01537657e+00  2.25117922e-01 -8.35191488e-01\n",
      "  3.17324460e-01  7.09868789e-01 -4.50833619e-01 -3.61940086e-01\n",
      "  1.00044072e-01  1.39169753e-01  1.16400689e-01  5.75693965e-01\n",
      " -1.42746997e+00 -3.35299492e-01  6.61227256e-02 -5.19878626e-01\n",
      "  4.49067093e-02  5.88237405e-01 -8.73071849e-01 -2.05741823e-01\n",
      " -3.93224955e-02 -3.21790397e-01  4.22830045e-01 -9.97683406e-01\n",
      " -1.62573248e-01  1.99749380e-01  8.90838504e-02  7.26620018e-01\n",
      " -2.41023228e-01  5.99214196e-01 -5.84211767e-01  3.76015961e-01\n",
      " -5.65880716e-01 -1.28431368e+00 -1.83638662e-01  9.80091155e-01\n",
      " -6.08256310e-02 -3.90001595e-01  1.37109637e-01 -1.97166249e-01\n",
      " -5.89852035e-01 -1.68223679e-01  9.51459050e-01  1.92359602e-03\n",
      "  6.64684057e-01  2.97943294e-01  3.57619226e-01 -1.60713028e-02\n",
      "  2.75899470e-01 -6.54004574e-01 -5.64310737e-02 -1.52346683e+00\n",
      " -2.85329849e-01  3.60343188e-01 -3.14009368e-01  2.96974212e-01\n",
      " -3.88304263e-01 -2.34763414e-01 -1.17098677e+00  4.83412743e-01\n",
      " -2.00971872e-01  1.97894186e-01  1.07439530e+00  4.18218791e-01\n",
      "  1.64104447e-01 -3.97353500e-01 -7.22414136e-01 -1.90464675e-01\n",
      " -2.17738539e-01  5.82480967e-01 -2.19573546e-02 -7.37394631e-01\n",
      " -9.95939076e-01 -1.03253603e+00 -8.57007429e-02 -6.45254850e-01\n",
      "  5.54411970e-02 -8.21208358e-01  5.67673028e-01 -3.19331706e-01\n",
      " -2.33658582e-01 -7.21201301e-01  6.35142684e-01 -9.75140572e-01\n",
      " -2.43612885e-01  6.32124186e-01 -1.77913338e-01  5.50778747e-01\n",
      "  7.33389854e-01  1.44988164e-01  4.77106959e-01 -2.42038235e-01\n",
      "  1.96121782e-01  3.55297863e-01  6.10841632e-01 -7.58835375e-01\n",
      " -7.22309768e-01 -1.95026964e-01 -1.38285100e+00 -2.38202989e-01\n",
      "  1.15911531e+00  2.94833988e-01  4.36965942e-01 -5.65358996e-02\n",
      "  5.56443632e-01  3.44260275e-01 -4.72919285e-01 -1.05883145e+00\n",
      "  2.44964629e-01 -6.94682479e-01 -8.25616494e-02 -1.05392598e-01\n",
      "  8.97536516e-01  8.29153180e-01 -4.69621658e-01 -8.98756981e-01\n",
      " -5.53673029e-01  4.02318537e-01 -1.14070714e-01 -1.58156097e-01\n",
      " -2.98935801e-01 -1.22095689e-01  4.86095279e-01  5.72665930e-01\n",
      " -3.87380198e-02 -4.94238913e-01 -2.74182051e-01 -8.83220062e-02\n",
      " -9.41197395e-01 -5.88328362e-01 -3.08445960e-01  2.93138504e-01\n",
      "  3.39898646e-01 -6.45023823e-01  4.27329332e-01  6.71901256e-02\n",
      " -5.29375613e-01  2.81319678e-01  1.86216861e-01 -3.76817375e-01\n",
      "  1.46484590e+00 -7.24695623e-02  7.30443358e-01 -3.27476114e-01\n",
      "  1.20768845e+00  6.04591891e-03 -3.13312173e-01 -1.90351248e-01\n",
      "  5.33358097e-01 -6.93677962e-01 -3.04298520e-01 -5.03553748e-01\n",
      "  5.43761671e-01 -6.42911613e-01  3.26993614e-01  7.33077288e-01\n",
      " -5.49841762e-01  3.61830235e-01 -5.23580194e-01 -7.21664667e-01\n",
      " -7.93565035e-01 -2.41441369e-01  8.93070459e-01  2.55196393e-01\n",
      " -5.09622097e-01  2.30179727e-01 -1.96926177e-01  5.51287830e-01\n",
      " -8.72756124e-01 -3.03523183e-01 -7.55266488e-01  5.09366728e-02\n",
      "  2.84139097e-01  2.75931478e-01  1.21259287e-01 -2.61417270e-01\n",
      " -4.45388854e-01 -1.00926042e+00 -4.39496815e-01 -3.50270540e-01\n",
      " -1.70168340e-01  4.04723942e-01  1.19810987e+00 -9.11442786e-02\n",
      " -4.28041458e-01  1.91786289e-02 -8.63910392e-02 -6.60488307e-02\n",
      " -1.61555684e+00  2.70736992e-01 -2.71743178e-01  1.46956503e-01\n",
      "  8.85433733e-01  6.69064879e-01 -8.40053916e-01 -3.70399415e-01\n",
      " -3.68313491e-01 -6.17002621e-02 -1.14512675e-01  6.49368048e-01\n",
      "  7.12008119e-01  1.14822531e+00 -2.91608512e-01 -7.26195425e-02\n",
      " -4.94753830e-02 -6.86900258e-01  1.27393499e-01 -3.50171745e-01\n",
      " -9.84889090e-01 -4.94752347e-01  6.06145322e-01  3.53181660e-02\n",
      " -5.48805177e-01  3.10271382e-01 -5.91922522e-01 -9.50569510e-02\n",
      "  5.53914130e-01 -5.97475290e-01  5.84298849e-01  1.34868398e-01\n",
      " -2.26834178e-01  4.94444072e-01 -7.54283667e-01  4.51756939e-02\n",
      "  8.41479748e-02 -1.16126211e-02  5.45592792e-03  1.39628947e-01\n",
      " -4.10405427e-01 -3.47180486e-01  3.01957846e-01  5.32343686e-02\n",
      "  9.93624032e-02 -4.37804639e-01  2.19989330e-01 -2.56150037e-01\n",
      " -2.14396536e-01 -2.21961886e-01 -5.35382748e-01 -2.80580074e-01\n",
      "  1.25304744e-01 -4.67298955e-01 -7.94664681e-01 -6.04321241e-01\n",
      " -1.50500208e-01 -3.77021968e-01 -2.45947130e-02  1.04364716e-01\n",
      " -1.56789958e-01 -4.96668190e-01  1.13414657e+00 -3.48821342e-01\n",
      "  8.25031698e-02  5.55778444e-01 -6.54649973e-01 -3.00963402e-01\n",
      "  6.50227547e-01 -9.15759683e-01 -3.61992627e-01  1.76715478e-01\n",
      "  4.19330657e-01  3.86000961e-01 -2.32145190e-01 -1.15795457e+00\n",
      "  5.06998539e-01 -3.71630192e-01  5.09333849e-01  1.60271823e-01\n",
      " -7.25845337e-01  4.37245667e-01  6.68469667e-02 -3.89889479e-02\n",
      " -3.95034313e-01  5.40369391e-01 -2.67578989e-01  3.02433074e-01\n",
      "  7.28965223e-01  9.17815745e-01 -6.81215376e-02  5.25185227e-01\n",
      "  2.12939605e-02  9.74838614e-01 -1.22668993e+00 -6.60874963e-01\n",
      "  6.53674424e-01 -1.49334621e+00 -1.04691193e-01  2.21225712e-02\n",
      " -7.78449550e-02  2.56704241e-01  1.54418290e-01  1.33615780e+00\n",
      " -7.76152372e-01 -6.56950027e-02 -5.24807334e-01 -5.70797682e-01\n",
      " -2.88939476e-01  6.89597547e-01 -8.51285577e-01  8.31387341e-01\n",
      " -1.30627647e-01  2.04560518e-01 -4.05951262e-01 -1.26380906e-01\n",
      "  3.17484796e-01  1.14957631e+00 -1.90600887e-01  2.80494578e-02\n",
      "  1.89715400e-01  3.29871029e-01 -3.30793500e-01  1.65305752e-02\n",
      "  7.07995057e-01 -2.49597341e-01  3.04475456e-01 -3.09833199e-01\n",
      " -3.54815245e-01  1.93532825e-01 -2.04525679e-01 -5.75716376e-01\n",
      "  1.18338391e-01 -9.69752491e-01 -1.45471677e-01 -9.17554677e-01\n",
      "  1.45219159e+00  1.02614038e-01 -9.38017726e-01  1.95511788e-01\n",
      "  3.03209841e-01  3.93335462e-01  1.90067619e-01  1.90517738e-01\n",
      " -6.49671614e-01 -1.29217997e-01 -4.30637598e-01  3.88263226e-01\n",
      "  4.22640890e-02  3.38249207e-01  3.88193429e-01  4.77024257e-01\n",
      " -9.03765798e-01  9.28901613e-01 -8.48400831e-01 -3.92860323e-01\n",
      "  5.34085870e-01  3.81893158e-01 -8.49516988e-02  2.25301564e-01\n",
      "  3.26051921e-01 -4.05181348e-01  3.99610102e-01  1.24386120e+00\n",
      " -1.28581911e-01  4.07511473e-01 -7.74574041e-01 -4.80001360e-01\n",
      " -3.06360006e-01 -5.64772308e-01 -7.31976151e-01 -1.93009600e-01\n",
      "  2.41774410e-01 -9.62361097e-01  5.69190681e-01 -1.27205133e+00\n",
      "  5.84625959e-01 -4.36879992e-01 -7.62661397e-02 -3.48061472e-02\n",
      " -1.08886942e-01 -3.42580974e-01 -1.08455479e-01 -9.09708858e-01\n",
      "  9.21373487e-01  1.83502734e-01  1.38399497e-01  4.53318581e-02\n",
      " -1.58945695e-01 -4.94952083e-01 -6.33956432e-01 -7.79034197e-01\n",
      "  1.36080801e-01  4.07476485e-01 -8.04985613e-02 -1.16084671e+00\n",
      "  4.60161030e-01  4.62421834e-01  1.34055942e-01  1.74336702e-01\n",
      " -3.13868225e-01 -1.35649294e-01 -4.79989722e-02 -1.21338034e+00\n",
      " -1.41792983e-01  1.45393455e+00  4.49722886e-01 -4.62668806e-01\n",
      " -8.28397274e-03  6.95172548e-02 -4.98312771e-01 -2.44668663e-01\n",
      " -1.52066898e+00 -1.11137116e+00  1.20156415e-01 -4.85854685e-01\n",
      "  3.12017947e-01  2.96366274e-01  4.32120740e-01  1.97450578e-01]\n",
      "\n",
      "(4023, 768)\n"
     ]
    }
   ],
   "source": [
    "#looking at the sentence vector\n",
    "print(sentence_vecs[0])\n",
    "print('')\n",
    "print(sentence_vecs.shape)"
   ]
  },
  {
   "cell_type": "markdown",
   "metadata": {
    "id": "KqJafaL6Cp6V"
   },
   "source": [
    "- Each of the row is converted into an array of 768 dimension(768,)\n",
    "- Now, we can compare the arrays using cosine similarity.  "
   ]
  },
  {
   "cell_type": "markdown",
   "metadata": {
    "id": "riDg5dZ0MVJe"
   },
   "source": [
    "## Cosine Similarity"
   ]
  },
  {
   "cell_type": "code",
   "execution_count": null,
   "metadata": {
    "colab": {
     "base_uri": "https://localhost:8080/"
    },
    "id": "e3XXnt58CvMb",
    "outputId": "41d9d2d8-e136-4513-8ac8-cc2e652cdb40"
   },
   "outputs": [
    {
     "data": {
      "text/plain": [
       "array([[0.61139774]], dtype=float32)"
      ]
     },
     "execution_count": 46,
     "metadata": {
      "tags": []
     },
     "output_type": "execute_result"
    }
   ],
   "source": [
    "#let's look at the cosine similarity. \n",
    "cosine_similarity([sentence_vecs[4]],[sentence_vecs2[4]])"
   ]
  },
  {
   "cell_type": "code",
   "execution_count": null,
   "metadata": {
    "colab": {
     "base_uri": "https://localhost:8080/"
    },
    "id": "NOikXOSIGxY0",
    "outputId": "ef4966a3-bce2-4e0c-e81e-3121d0cb8b09"
   },
   "outputs": [
    {
     "name": "stdout",
     "output_type": "stream",
     "text": [
      "[array([[0.5196991]], dtype=float32), array([[0.6724569]], dtype=float32), array([[0.70906794]], dtype=float32), array([[0.76264703]], dtype=float32), array([[0.61139774]], dtype=float32), array([[0.66226476]], dtype=float32), array([[0.51556075]], dtype=float32), array([[0.82694936]], dtype=float32), array([[0.66762996]], dtype=float32), array([[0.7012521]], dtype=float32), array([[0.6506639]], dtype=float32), array([[0.7778119]], dtype=float32), array([[0.69653076]], dtype=float32), array([[0.582692]], dtype=float32), array([[0.7049339]], dtype=float32), array([[0.6675392]], dtype=float32), array([[0.6215814]], dtype=float32), array([[0.42613533]], dtype=float32), array([[0.6364039]], dtype=float32), array([[0.68371034]], dtype=float32), array([[0.49066374]], dtype=float32), array([[0.709445]], dtype=float32), array([[0.68763137]], dtype=float32), array([[0.5441983]], dtype=float32), array([[0.8368628]], dtype=float32), array([[0.7649214]], dtype=float32), array([[0.60027254]], dtype=float32), array([[0.59445083]], dtype=float32), array([[0.6250644]], dtype=float32), array([[0.7381904]], dtype=float32), array([[0.5245664]], dtype=float32), array([[0.6543381]], dtype=float32), array([[0.8418512]], dtype=float32), array([[0.679263]], dtype=float32), array([[0.69233805]], dtype=float32), array([[0.6518362]], dtype=float32), array([[0.6790998]], dtype=float32), array([[0.6894535]], dtype=float32), array([[0.70283693]], dtype=float32), array([[0.6893845]], dtype=float32), array([[0.5243913]], dtype=float32), array([[0.5466044]], dtype=float32), array([[0.5256648]], dtype=float32), array([[0.8261181]], dtype=float32), array([[0.6945014]], dtype=float32), array([[0.7496537]], dtype=float32), array([[0.6012062]], dtype=float32), array([[0.68507016]], dtype=float32), array([[0.7593336]], dtype=float32), array([[0.7431644]], dtype=float32), array([[0.58701396]], dtype=float32), array([[0.60215414]], dtype=float32), array([[0.56902754]], dtype=float32), array([[0.7146239]], dtype=float32), array([[0.5533286]], dtype=float32), array([[0.67230797]], dtype=float32), array([[0.6972954]], dtype=float32), array([[0.6506332]], dtype=float32), array([[0.6911337]], dtype=float32), array([[0.6679743]], dtype=float32), array([[0.8765591]], dtype=float32), array([[0.7536724]], dtype=float32), array([[0.596508]], dtype=float32), array([[0.5211394]], dtype=float32), array([[0.7373003]], dtype=float32), array([[0.48806483]], dtype=float32), array([[0.7092423]], dtype=float32), array([[0.6221343]], dtype=float32), array([[0.82757556]], dtype=float32), array([[0.66881335]], dtype=float32), array([[0.732334]], dtype=float32), array([[0.68272626]], dtype=float32), array([[0.49922726]], dtype=float32), array([[0.64190155]], dtype=float32), array([[0.44984782]], dtype=float32), array([[0.6557107]], dtype=float32), array([[0.7677465]], dtype=float32), array([[0.6918466]], dtype=float32), array([[0.7615007]], dtype=float32), array([[0.7773498]], dtype=float32), array([[0.6107744]], dtype=float32), array([[0.7567386]], dtype=float32), array([[0.6534168]], dtype=float32), array([[0.6306864]], dtype=float32), array([[0.5966723]], dtype=float32), array([[0.62886876]], dtype=float32), array([[0.68456626]], dtype=float32), array([[0.7737465]], dtype=float32), array([[0.6257479]], dtype=float32), array([[0.73238075]], dtype=float32), array([[0.6874808]], dtype=float32), array([[0.6493535]], dtype=float32), array([[0.7282329]], dtype=float32), array([[0.7051624]], dtype=float32), array([[0.6881653]], dtype=float32), array([[0.5323908]], dtype=float32), array([[0.62135375]], dtype=float32), array([[0.5322484]], dtype=float32), array([[0.79078114]], dtype=float32), array([[0.7065736]], dtype=float32), array([[0.6588534]], dtype=float32), array([[0.52300555]], dtype=float32), array([[0.7044229]], dtype=float32), array([[0.70832044]], dtype=float32), array([[0.759588]], dtype=float32), array([[0.687037]], dtype=float32), array([[0.71898323]], dtype=float32), array([[0.6358777]], dtype=float32), array([[0.6379543]], dtype=float32), array([[0.61478066]], dtype=float32), array([[0.6893169]], dtype=float32), array([[0.57011056]], dtype=float32), array([[0.7380692]], dtype=float32), array([[0.7763525]], dtype=float32), array([[0.70708144]], dtype=float32), array([[0.7929671]], dtype=float32), array([[0.7266791]], dtype=float32), array([[0.6156014]], dtype=float32), array([[0.44804424]], dtype=float32), array([[0.7209714]], dtype=float32), array([[0.66923493]], dtype=float32), array([[0.7484307]], dtype=float32), array([[0.7333354]], dtype=float32), array([[0.64423597]], dtype=float32), array([[0.70840436]], dtype=float32), array([[0.7552707]], dtype=float32), array([[0.6990573]], dtype=float32), array([[0.5613097]], dtype=float32), array([[0.6698742]], dtype=float32), array([[0.5317185]], dtype=float32), array([[0.6271221]], dtype=float32), array([[0.68260825]], dtype=float32), array([[0.72156656]], dtype=float32), array([[0.56508076]], dtype=float32), array([[0.59359694]], dtype=float32), array([[0.8392325]], dtype=float32), array([[0.7174737]], dtype=float32), array([[0.50522363]], dtype=float32), array([[0.7374692]], dtype=float32), array([[0.5937369]], dtype=float32), array([[0.6014511]], dtype=float32), array([[0.68458635]], dtype=float32), array([[0.60976046]], dtype=float32), array([[0.66368836]], dtype=float32), array([[0.7155568]], dtype=float32), array([[0.6302428]], dtype=float32), array([[0.717499]], dtype=float32), array([[0.76180965]], dtype=float32), array([[0.70477057]], dtype=float32), array([[0.70666593]], dtype=float32), array([[0.7083888]], dtype=float32), array([[0.5081185]], dtype=float32), array([[0.71114147]], dtype=float32), array([[0.6903616]], dtype=float32), array([[0.74082017]], dtype=float32), array([[0.6347122]], dtype=float32), array([[0.74505043]], dtype=float32), array([[0.7300818]], dtype=float32), array([[0.65222764]], dtype=float32), array([[0.78395426]], dtype=float32), array([[0.7021086]], dtype=float32), array([[0.7901834]], dtype=float32), array([[0.7241777]], dtype=float32), array([[0.5554731]], dtype=float32), array([[0.67601913]], dtype=float32), array([[0.66063786]], dtype=float32), array([[0.6527294]], dtype=float32), array([[0.71467817]], dtype=float32), array([[0.7423451]], dtype=float32), array([[0.70520353]], dtype=float32), array([[0.6224402]], dtype=float32), array([[0.531837]], dtype=float32), array([[0.6324822]], dtype=float32), array([[0.5663532]], dtype=float32), array([[0.6456698]], dtype=float32), array([[0.73256445]], dtype=float32), array([[0.6261857]], dtype=float32), array([[0.7964016]], dtype=float32), array([[0.67961633]], dtype=float32), array([[0.548188]], dtype=float32), array([[0.4889891]], dtype=float32), array([[0.84836376]], dtype=float32), array([[0.6073023]], dtype=float32), array([[0.7366499]], dtype=float32), array([[0.78334296]], dtype=float32), array([[0.64597]], dtype=float32), array([[0.68745494]], dtype=float32), array([[0.6262822]], dtype=float32), array([[0.7206019]], dtype=float32), array([[0.6297586]], dtype=float32), array([[0.70878613]], dtype=float32), array([[0.6170659]], dtype=float32), array([[0.5877131]], dtype=float32), array([[0.7582675]], dtype=float32), array([[0.6263429]], dtype=float32), array([[0.44707584]], dtype=float32), array([[0.761684]], dtype=float32), array([[0.57919776]], dtype=float32), array([[0.71374154]], dtype=float32), array([[0.7150634]], dtype=float32), array([[0.6624718]], dtype=float32), array([[0.5933677]], dtype=float32), array([[0.5221959]], dtype=float32), array([[0.6807482]], dtype=float32), array([[0.5891354]], dtype=float32), array([[0.68258345]], dtype=float32), array([[0.6465017]], dtype=float32), array([[0.63189834]], dtype=float32), array([[0.6364074]], dtype=float32), array([[0.72774434]], dtype=float32), array([[0.67200136]], dtype=float32), array([[0.69848347]], dtype=float32), array([[0.46108362]], dtype=float32), array([[0.5512365]], dtype=float32), array([[0.5523225]], dtype=float32), array([[0.5968349]], dtype=float32), array([[0.5301717]], dtype=float32), array([[0.59394836]], dtype=float32), array([[0.72681135]], dtype=float32), array([[0.5925331]], dtype=float32), array([[0.6899226]], dtype=float32), array([[0.725556]], dtype=float32), array([[0.5887228]], dtype=float32), array([[0.6999067]], dtype=float32), array([[0.70269585]], dtype=float32), array([[0.77619255]], dtype=float32), array([[0.6680362]], dtype=float32), array([[0.7357421]], dtype=float32), array([[0.6158627]], dtype=float32), array([[0.5735377]], dtype=float32), array([[0.6309118]], dtype=float32), array([[0.6200985]], dtype=float32), array([[0.6027635]], dtype=float32), array([[0.680612]], dtype=float32), array([[0.82562923]], dtype=float32), array([[0.56481224]], dtype=float32), array([[0.77465904]], dtype=float32), array([[0.59108543]], dtype=float32), array([[0.41532677]], dtype=float32), array([[0.72068703]], dtype=float32), array([[0.56795645]], dtype=float32), array([[0.613556]], dtype=float32), array([[0.5312342]], dtype=float32), array([[0.53617716]], dtype=float32), array([[0.6130887]], dtype=float32), array([[0.75329775]], dtype=float32), array([[0.75758195]], dtype=float32), array([[0.6259593]], dtype=float32), array([[0.556438]], dtype=float32), array([[0.64408755]], dtype=float32), array([[0.61640483]], dtype=float32), array([[0.4936252]], dtype=float32), array([[0.47907773]], dtype=float32), array([[0.7150723]], dtype=float32), array([[0.77769476]], dtype=float32), array([[0.6510644]], dtype=float32), array([[0.7289657]], dtype=float32), array([[0.6338265]], dtype=float32), array([[0.46096903]], dtype=float32), array([[0.64928186]], dtype=float32), array([[0.6682709]], dtype=float32), array([[0.6202569]], dtype=float32), array([[0.71678174]], dtype=float32), array([[0.7895404]], dtype=float32), array([[0.7808385]], dtype=float32), array([[0.6638972]], dtype=float32), array([[0.785719]], dtype=float32), array([[0.57679]], dtype=float32), array([[0.75338626]], dtype=float32), array([[0.53150505]], dtype=float32), array([[0.6489415]], dtype=float32), array([[0.5816392]], dtype=float32), array([[0.66589177]], dtype=float32), array([[0.5236677]], dtype=float32), array([[0.9135581]], dtype=float32), array([[0.80043304]], dtype=float32), array([[0.46226323]], dtype=float32), array([[0.4980007]], dtype=float32), array([[0.68750393]], dtype=float32), array([[0.59062505]], dtype=float32), array([[0.7120353]], dtype=float32), array([[0.4959119]], dtype=float32), array([[0.5707312]], dtype=float32), array([[0.69274473]], dtype=float32), array([[0.85060906]], dtype=float32), array([[0.7325782]], dtype=float32), array([[0.57484406]], dtype=float32), array([[0.67976815]], dtype=float32), array([[0.56874007]], dtype=float32), array([[0.5229702]], dtype=float32), array([[0.6088672]], dtype=float32), array([[0.80245745]], dtype=float32), array([[0.682531]], dtype=float32), array([[0.5088721]], dtype=float32), array([[0.77741104]], dtype=float32), array([[0.6003282]], dtype=float32), array([[0.6794822]], dtype=float32), array([[0.62687576]], dtype=float32), array([[0.5878571]], dtype=float32), array([[0.764364]], dtype=float32), array([[0.7805717]], dtype=float32), array([[0.61756516]], dtype=float32), array([[0.64019096]], dtype=float32), array([[0.6802196]], dtype=float32), array([[0.7824915]], dtype=float32), array([[0.71248794]], dtype=float32), array([[0.6824145]], dtype=float32), array([[0.73125386]], dtype=float32), array([[0.60847944]], dtype=float32), array([[0.6177476]], dtype=float32), array([[0.78208256]], dtype=float32), array([[0.5717737]], dtype=float32), array([[0.5915937]], dtype=float32), array([[0.48535314]], dtype=float32), array([[0.8510973]], dtype=float32), array([[0.5410219]], dtype=float32), array([[0.60781527]], dtype=float32), array([[0.64739716]], dtype=float32), array([[0.66480845]], dtype=float32), array([[0.7626492]], dtype=float32), array([[0.67193425]], dtype=float32), array([[0.6579694]], dtype=float32), array([[0.8287517]], dtype=float32), array([[0.6615026]], dtype=float32), array([[0.57673085]], dtype=float32), array([[0.461207]], dtype=float32), array([[0.7579751]], dtype=float32), array([[0.83709276]], dtype=float32), array([[0.6807411]], dtype=float32), array([[0.85951126]], dtype=float32), array([[0.6601541]], dtype=float32), array([[0.6395924]], dtype=float32), array([[0.5220195]], dtype=float32), array([[0.7911072]], dtype=float32), array([[0.7245218]], dtype=float32), array([[0.7348248]], dtype=float32), array([[0.6669433]], dtype=float32), array([[0.7174647]], dtype=float32), array([[0.6694492]], dtype=float32), array([[0.5926765]], dtype=float32), array([[0.6437123]], dtype=float32), array([[0.5835401]], dtype=float32), array([[0.7367617]], dtype=float32), array([[0.58749455]], dtype=float32), array([[0.7402112]], dtype=float32), array([[0.6121202]], dtype=float32), array([[0.5445551]], dtype=float32), array([[0.57201695]], dtype=float32), array([[0.74200344]], dtype=float32), array([[0.6079967]], dtype=float32), array([[0.5382362]], dtype=float32), array([[0.75637114]], dtype=float32), array([[0.7352315]], dtype=float32), array([[0.67637014]], dtype=float32), array([[0.65201306]], dtype=float32), array([[0.5980996]], dtype=float32), array([[0.71831226]], dtype=float32), array([[0.5903608]], dtype=float32), array([[0.63773113]], dtype=float32), array([[0.7668102]], dtype=float32), array([[0.6736182]], dtype=float32), array([[0.7896576]], dtype=float32), array([[0.6705273]], dtype=float32), array([[0.6579013]], dtype=float32), array([[0.6385423]], dtype=float32), array([[0.6269702]], dtype=float32), array([[0.6592408]], dtype=float32), array([[0.61471355]], dtype=float32), array([[0.61117744]], dtype=float32), array([[0.43966025]], dtype=float32), array([[0.5948616]], dtype=float32), array([[0.6420351]], dtype=float32), array([[0.7066711]], dtype=float32), array([[0.67551035]], dtype=float32), array([[0.5912354]], dtype=float32), array([[0.820187]], dtype=float32), array([[0.52148724]], dtype=float32), array([[0.61569864]], dtype=float32), array([[0.6634366]], dtype=float32), array([[0.67476225]], dtype=float32), array([[0.74359703]], dtype=float32), array([[0.7199295]], dtype=float32), array([[0.65277666]], dtype=float32), array([[0.6611091]], dtype=float32), array([[0.48720908]], dtype=float32), array([[0.80425155]], dtype=float32), array([[0.62644315]], dtype=float32), array([[0.74278164]], dtype=float32), array([[0.7000923]], dtype=float32), array([[0.6241193]], dtype=float32), array([[0.49341944]], dtype=float32), array([[0.69785976]], dtype=float32), array([[0.8417392]], dtype=float32), array([[0.5655465]], dtype=float32), array([[0.6416526]], dtype=float32), array([[0.6429638]], dtype=float32), array([[0.6226393]], dtype=float32), array([[0.60664403]], dtype=float32), array([[0.6313216]], dtype=float32), array([[0.6901863]], dtype=float32), array([[0.74585557]], dtype=float32), array([[0.6866064]], dtype=float32), array([[0.53142667]], dtype=float32), array([[0.60095257]], dtype=float32), array([[0.6571983]], dtype=float32), array([[0.6760822]], dtype=float32), array([[0.5572379]], dtype=float32), array([[0.8069522]], dtype=float32), array([[0.71879315]], dtype=float32), array([[0.74600774]], dtype=float32), array([[0.6037792]], dtype=float32), array([[0.65531254]], dtype=float32), array([[0.76764214]], dtype=float32), array([[0.58783424]], dtype=float32), array([[0.67575884]], dtype=float32), array([[0.67804277]], dtype=float32), array([[0.6079749]], dtype=float32), array([[0.5438374]], dtype=float32), array([[0.6131303]], dtype=float32), array([[0.6664391]], dtype=float32), array([[0.6817433]], dtype=float32), array([[0.6964278]], dtype=float32), array([[0.68513983]], dtype=float32), array([[0.7716176]], dtype=float32), array([[0.74094695]], dtype=float32), array([[0.5897441]], dtype=float32), array([[0.7604393]], dtype=float32), array([[0.60662633]], dtype=float32), array([[0.7802075]], dtype=float32), array([[0.63503194]], dtype=float32), array([[0.71877074]], dtype=float32), array([[0.632926]], dtype=float32), array([[0.5198434]], dtype=float32), array([[0.6341158]], dtype=float32), array([[0.65639913]], dtype=float32), array([[0.4226507]], dtype=float32), array([[0.5512904]], dtype=float32), array([[0.76394874]], dtype=float32), array([[0.72208655]], dtype=float32), array([[0.6654173]], dtype=float32), array([[0.7310728]], dtype=float32), array([[0.6822586]], dtype=float32), array([[0.8389847]], dtype=float32), array([[0.60445714]], dtype=float32), array([[0.6837182]], dtype=float32), array([[0.58921325]], dtype=float32), array([[0.6976178]], dtype=float32), array([[0.6363627]], dtype=float32), array([[0.6023674]], dtype=float32), array([[0.79599375]], dtype=float32), array([[0.6346511]], dtype=float32), array([[0.66621053]], dtype=float32), array([[0.671424]], dtype=float32), array([[0.72205746]], dtype=float32), array([[0.6866313]], dtype=float32), array([[0.5737313]], dtype=float32), array([[0.51871216]], dtype=float32), array([[0.3983449]], dtype=float32), array([[0.51315063]], dtype=float32), array([[0.69460016]], dtype=float32), array([[0.8640519]], dtype=float32), array([[0.535833]], dtype=float32), array([[0.6615663]], dtype=float32), array([[0.715142]], dtype=float32), array([[0.6059183]], dtype=float32), array([[0.510473]], dtype=float32), array([[0.79909235]], dtype=float32), array([[0.59436226]], dtype=float32), array([[0.5522481]], dtype=float32), array([[0.6097656]], dtype=float32), array([[0.5826945]], dtype=float32), array([[0.64433]], dtype=float32), array([[0.76433545]], dtype=float32), array([[0.62422556]], dtype=float32), array([[0.6903866]], dtype=float32), array([[0.68423843]], dtype=float32), array([[0.7006141]], dtype=float32), array([[0.71410275]], dtype=float32), array([[0.55623615]], dtype=float32), array([[0.60531574]], dtype=float32), array([[0.47073576]], dtype=float32), array([[0.7660667]], dtype=float32), array([[0.63199914]], dtype=float32), array([[0.6224414]], dtype=float32), array([[0.52311105]], dtype=float32), array([[0.75637794]], dtype=float32), array([[0.5020062]], dtype=float32), array([[0.70941454]], dtype=float32), array([[0.6929606]], dtype=float32), array([[0.62140775]], dtype=float32), array([[0.51666987]], dtype=float32), array([[0.63882995]], dtype=float32), array([[0.49103588]], dtype=float32), array([[0.77256477]], dtype=float32), array([[0.5818192]], dtype=float32), array([[0.8635756]], dtype=float32), array([[0.6471075]], dtype=float32), array([[0.6440921]], dtype=float32), array([[0.60189116]], dtype=float32), array([[0.75160336]], dtype=float32), array([[0.6814811]], dtype=float32), array([[0.82937527]], dtype=float32), array([[0.79038]], dtype=float32), array([[0.6279059]], dtype=float32), array([[0.6739261]], dtype=float32), array([[0.56142354]], dtype=float32), array([[0.6269723]], dtype=float32), array([[0.6493798]], dtype=float32), array([[0.683393]], dtype=float32), array([[0.8116101]], dtype=float32), array([[0.6370679]], dtype=float32), array([[0.58802325]], dtype=float32), array([[0.8277794]], dtype=float32), array([[0.5855334]], dtype=float32), array([[0.60358554]], dtype=float32), array([[0.668066]], dtype=float32), array([[0.53664505]], dtype=float32), array([[0.62079424]], dtype=float32), array([[0.6796164]], dtype=float32), array([[0.48500678]], dtype=float32), array([[0.6492306]], dtype=float32), array([[0.5222075]], dtype=float32), array([[0.5988288]], dtype=float32), array([[0.68715477]], dtype=float32), array([[0.6862853]], dtype=float32), array([[0.83347595]], dtype=float32), array([[0.77761674]], dtype=float32), array([[0.764508]], dtype=float32), array([[0.43665504]], dtype=float32), array([[0.7168582]], dtype=float32), array([[0.5824114]], dtype=float32), array([[0.7043127]], dtype=float32), array([[0.73637706]], dtype=float32), array([[0.63105834]], dtype=float32), array([[0.6705353]], dtype=float32), array([[0.8086562]], dtype=float32), array([[0.6322927]], dtype=float32), array([[0.68648386]], dtype=float32), array([[0.5214236]], dtype=float32), array([[0.85108036]], dtype=float32), array([[0.79713386]], dtype=float32), array([[0.54650426]], dtype=float32), array([[0.78846765]], dtype=float32), array([[0.63862014]], dtype=float32), array([[0.61283624]], dtype=float32), array([[0.7466916]], dtype=float32), array([[0.60340613]], dtype=float32), array([[0.63880414]], dtype=float32), array([[0.6490382]], dtype=float32), array([[0.7832203]], dtype=float32), array([[0.56433785]], dtype=float32), array([[0.7850163]], dtype=float32), array([[0.7128544]], dtype=float32), array([[0.71300495]], dtype=float32), array([[0.81541616]], dtype=float32), array([[0.6952229]], dtype=float32), array([[0.6651407]], dtype=float32), array([[0.6814728]], dtype=float32), array([[0.78397644]], dtype=float32), array([[0.48509875]], dtype=float32), array([[0.53697497]], dtype=float32), array([[0.6755931]], dtype=float32), array([[0.6229307]], dtype=float32), array([[0.6870285]], dtype=float32), array([[0.56480896]], dtype=float32), array([[0.44668835]], dtype=float32), array([[0.6940245]], dtype=float32), array([[0.77538294]], dtype=float32), array([[0.7022074]], dtype=float32), array([[0.72407174]], dtype=float32), array([[0.6778095]], dtype=float32), array([[0.71928024]], dtype=float32), array([[0.78731465]], dtype=float32), array([[0.65145755]], dtype=float32), array([[0.66656053]], dtype=float32), array([[0.5748913]], dtype=float32), array([[0.8285437]], dtype=float32), array([[0.5546072]], dtype=float32), array([[0.6213071]], dtype=float32), array([[0.69588536]], dtype=float32), array([[0.5125793]], dtype=float32), array([[0.73631024]], dtype=float32), array([[0.5758324]], dtype=float32), array([[0.6815991]], dtype=float32), array([[0.55060196]], dtype=float32), array([[0.7706774]], dtype=float32), array([[0.7759236]], dtype=float32), array([[0.57809263]], dtype=float32), array([[0.56921023]], dtype=float32), array([[0.6933793]], dtype=float32), array([[0.69310606]], dtype=float32), array([[0.57970035]], dtype=float32), array([[0.61972475]], dtype=float32), array([[0.70990205]], dtype=float32), array([[0.64897203]], dtype=float32), array([[0.70161325]], dtype=float32), array([[0.73999333]], dtype=float32), array([[0.694914]], dtype=float32), array([[0.75523823]], dtype=float32), array([[0.62088346]], dtype=float32), array([[0.6191249]], dtype=float32), array([[0.5179373]], dtype=float32), array([[0.77016497]], dtype=float32), array([[0.79159784]], dtype=float32), array([[0.68217695]], dtype=float32), array([[0.64876187]], dtype=float32), array([[0.56766796]], dtype=float32), array([[0.7874435]], dtype=float32), array([[0.67566186]], dtype=float32), array([[0.79601395]], dtype=float32), array([[0.6130947]], dtype=float32), array([[0.6584878]], dtype=float32), array([[0.69186836]], dtype=float32), array([[0.6525789]], dtype=float32), array([[0.6845015]], dtype=float32), array([[0.6786114]], dtype=float32), array([[0.5830805]], dtype=float32), array([[0.5363416]], dtype=float32), array([[0.6384443]], dtype=float32), array([[0.8058288]], dtype=float32), array([[0.74165285]], dtype=float32), array([[0.5287622]], dtype=float32), array([[0.7322049]], dtype=float32), array([[0.6554185]], dtype=float32), array([[0.6208428]], dtype=float32), array([[0.6392963]], dtype=float32), array([[0.71213305]], dtype=float32), array([[0.6443746]], dtype=float32), array([[0.77438116]], dtype=float32), array([[0.58145815]], dtype=float32), array([[0.5097918]], dtype=float32), array([[0.7188847]], dtype=float32), array([[0.6894221]], dtype=float32), array([[0.73507667]], dtype=float32), array([[0.5190553]], dtype=float32), array([[0.5009335]], dtype=float32), array([[0.7004659]], dtype=float32), array([[0.42557058]], dtype=float32), array([[0.78680176]], dtype=float32), array([[0.5986092]], dtype=float32), array([[0.74501795]], dtype=float32), array([[0.6713258]], dtype=float32), array([[0.65868115]], dtype=float32), array([[0.6907053]], dtype=float32), array([[0.6255164]], dtype=float32), array([[0.6909455]], dtype=float32), array([[0.6511681]], dtype=float32), array([[0.75586766]], dtype=float32), array([[0.5752473]], dtype=float32), array([[0.6678823]], dtype=float32), array([[0.5325966]], dtype=float32), array([[0.6236359]], dtype=float32), array([[0.7837485]], dtype=float32), array([[0.5065017]], dtype=float32), array([[0.6664217]], dtype=float32), array([[0.5454923]], dtype=float32), array([[0.8114842]], dtype=float32), array([[0.54777277]], dtype=float32), array([[0.56360245]], dtype=float32), array([[0.76828]], dtype=float32), array([[0.75104094]], dtype=float32), array([[0.7440847]], dtype=float32), array([[0.67060447]], dtype=float32), array([[0.7178535]], dtype=float32), array([[0.7104394]], dtype=float32), array([[0.60835934]], dtype=float32), array([[0.49522394]], dtype=float32), array([[0.7661168]], dtype=float32), array([[0.64189655]], dtype=float32), array([[0.67609966]], dtype=float32), array([[0.7198713]], dtype=float32), array([[0.64791644]], dtype=float32), array([[0.6881381]], dtype=float32), array([[0.61335623]], dtype=float32), array([[0.60716]], dtype=float32), array([[0.67238164]], dtype=float32), array([[0.66042066]], dtype=float32), array([[0.6047715]], dtype=float32), array([[0.6328876]], dtype=float32), array([[0.6702176]], dtype=float32), array([[0.69102]], dtype=float32), array([[0.8332318]], dtype=float32), array([[0.7236624]], dtype=float32), array([[0.6292598]], dtype=float32), array([[0.67967415]], dtype=float32), array([[0.74399745]], dtype=float32), array([[0.7473587]], dtype=float32), array([[0.69686425]], dtype=float32), array([[0.62888205]], dtype=float32), array([[0.44897658]], dtype=float32), array([[0.72066]], dtype=float32), array([[0.66978526]], dtype=float32), array([[0.6836077]], dtype=float32), array([[0.7133752]], dtype=float32), array([[0.7787843]], dtype=float32), array([[0.74572057]], dtype=float32), array([[0.77124834]], dtype=float32), array([[0.7078366]], dtype=float32), array([[0.77544415]], dtype=float32), array([[0.64315414]], dtype=float32), array([[0.3931431]], dtype=float32), array([[0.63759995]], dtype=float32), array([[0.6893612]], dtype=float32), array([[0.8052094]], dtype=float32), array([[0.5519445]], dtype=float32), array([[0.66417295]], dtype=float32), array([[0.5605695]], dtype=float32), array([[0.67565423]], dtype=float32), array([[0.59302163]], dtype=float32), array([[0.6869503]], dtype=float32), array([[0.5048264]], dtype=float32), array([[0.7624438]], dtype=float32), array([[0.6410229]], dtype=float32), array([[0.5726691]], dtype=float32), array([[0.6977182]], dtype=float32), array([[0.56837404]], dtype=float32), array([[0.78156936]], dtype=float32), array([[0.6177382]], dtype=float32), array([[0.7634574]], dtype=float32), array([[0.7917547]], dtype=float32), array([[0.79600227]], dtype=float32), array([[0.76030016]], dtype=float32), array([[0.76388353]], dtype=float32), array([[0.6108572]], dtype=float32), array([[0.7482636]], dtype=float32), array([[0.62419415]], dtype=float32), array([[0.58870065]], dtype=float32), array([[0.7753705]], dtype=float32), array([[0.67122716]], dtype=float32), array([[0.67140263]], dtype=float32), array([[0.79777706]], dtype=float32), array([[0.71281797]], dtype=float32), array([[0.6257601]], dtype=float32), array([[0.746001]], dtype=float32), array([[0.44777852]], dtype=float32), array([[0.6932995]], dtype=float32), array([[0.51127255]], dtype=float32), array([[0.6456988]], dtype=float32), array([[0.74717253]], dtype=float32), array([[0.58983564]], dtype=float32), array([[0.68754464]], dtype=float32), array([[0.55418193]], dtype=float32), array([[0.66973865]], dtype=float32), array([[0.56702614]], dtype=float32), array([[0.63619375]], dtype=float32), array([[0.474998]], dtype=float32), array([[0.6388877]], dtype=float32), array([[0.7681301]], dtype=float32), array([[0.7751643]], dtype=float32), array([[0.6052053]], dtype=float32), array([[0.7805747]], dtype=float32), array([[0.65521234]], dtype=float32), array([[0.58443904]], dtype=float32), array([[0.72360814]], dtype=float32), array([[0.6822815]], dtype=float32), array([[0.71260625]], dtype=float32), array([[0.7359051]], dtype=float32), array([[0.6179904]], dtype=float32), array([[0.45725787]], dtype=float32), array([[0.6225202]], dtype=float32), array([[0.7276375]], dtype=float32), array([[0.7060294]], dtype=float32), array([[0.5896149]], dtype=float32), array([[0.45773345]], dtype=float32), array([[0.67743593]], dtype=float32), array([[0.67422616]], dtype=float32), array([[0.65255326]], dtype=float32), array([[0.6665055]], dtype=float32), array([[0.7830132]], dtype=float32), array([[0.62742525]], dtype=float32), array([[0.63434136]], dtype=float32), array([[0.69549704]], dtype=float32), array([[0.64051974]], dtype=float32), array([[0.65810394]], dtype=float32), array([[0.6975162]], dtype=float32), array([[0.5904795]], dtype=float32), array([[0.58933127]], dtype=float32), array([[0.6059747]], dtype=float32), array([[0.6494326]], dtype=float32), array([[0.6690912]], dtype=float32), array([[0.5678061]], dtype=float32), array([[0.6079693]], dtype=float32), array([[0.69224536]], dtype=float32), array([[0.7556462]], dtype=float32), array([[0.8197072]], dtype=float32), array([[0.7572417]], dtype=float32), array([[0.77428025]], dtype=float32), array([[0.6937014]], dtype=float32), array([[0.7692771]], dtype=float32), array([[0.849573]], dtype=float32), array([[0.57519835]], dtype=float32), array([[0.62101185]], dtype=float32), array([[0.7162647]], dtype=float32), array([[0.5981059]], dtype=float32), array([[0.61283267]], dtype=float32), array([[0.88265646]], dtype=float32), array([[0.6357595]], dtype=float32), array([[0.6413346]], dtype=float32), array([[0.6175022]], dtype=float32), array([[0.6515106]], dtype=float32), array([[0.57215023]], dtype=float32), array([[0.82837176]], dtype=float32), array([[0.5730655]], dtype=float32), array([[0.77800816]], dtype=float32), array([[0.71120536]], dtype=float32), array([[0.6511305]], dtype=float32), array([[0.72578883]], dtype=float32), array([[0.6320571]], dtype=float32), array([[0.5211851]], dtype=float32), array([[0.5670371]], dtype=float32), array([[0.60267705]], dtype=float32), array([[0.5649326]], dtype=float32), array([[0.4382014]], dtype=float32), array([[0.7494863]], dtype=float32), array([[0.5398703]], dtype=float32), array([[0.7079875]], dtype=float32), array([[0.64137506]], dtype=float32), array([[0.61359024]], dtype=float32), array([[0.65805924]], dtype=float32), array([[0.5912006]], dtype=float32), array([[0.71221936]], dtype=float32), array([[0.52139306]], dtype=float32), array([[0.8046691]], dtype=float32), array([[0.57119495]], dtype=float32), array([[0.71215624]], dtype=float32), array([[0.49022147]], dtype=float32), array([[0.62420106]], dtype=float32), array([[0.67024064]], dtype=float32), array([[0.62621033]], dtype=float32), array([[0.7223404]], dtype=float32), array([[0.6055554]], dtype=float32), array([[0.57443804]], dtype=float32), array([[0.7411572]], dtype=float32), array([[0.6798283]], dtype=float32), array([[0.67332226]], dtype=float32), array([[0.6243531]], dtype=float32), array([[0.79266137]], dtype=float32), array([[0.7038644]], dtype=float32), array([[0.5811045]], dtype=float32), array([[0.70584875]], dtype=float32), array([[0.50257283]], dtype=float32), array([[0.6837518]], dtype=float32), array([[0.64029336]], dtype=float32), array([[0.7517177]], dtype=float32), array([[0.6675345]], dtype=float32), array([[0.59116364]], dtype=float32), array([[0.64180475]], dtype=float32), array([[0.6363443]], dtype=float32), array([[0.84861434]], dtype=float32), array([[0.6833042]], dtype=float32), array([[0.694605]], dtype=float32), array([[0.7049707]], dtype=float32), array([[0.7438201]], dtype=float32), array([[0.68528956]], dtype=float32), array([[0.5966426]], dtype=float32), array([[0.47736984]], dtype=float32), array([[0.67265046]], dtype=float32), array([[0.62382483]], dtype=float32), array([[0.6551027]], dtype=float32), array([[0.7317133]], dtype=float32), array([[0.6245247]], dtype=float32), array([[0.6706184]], dtype=float32), array([[0.6023965]], dtype=float32), array([[0.80130476]], dtype=float32), array([[0.6276748]], dtype=float32), array([[0.6653938]], dtype=float32), array([[0.6705022]], dtype=float32), array([[0.63746226]], dtype=float32), array([[0.57173747]], dtype=float32), array([[0.62835515]], dtype=float32), array([[0.61599207]], dtype=float32), array([[0.5901522]], dtype=float32), array([[0.73333585]], dtype=float32), array([[0.679531]], dtype=float32), array([[0.79223394]], dtype=float32), array([[0.64315695]], dtype=float32), array([[0.7568155]], dtype=float32), array([[0.6320208]], dtype=float32), array([[0.59041834]], dtype=float32), array([[0.592079]], dtype=float32), array([[0.7705052]], dtype=float32), array([[0.7202701]], dtype=float32), array([[0.7514435]], dtype=float32), array([[0.7135775]], dtype=float32), array([[0.6053617]], dtype=float32), array([[0.7343401]], dtype=float32), array([[0.6589733]], dtype=float32), array([[0.6240293]], dtype=float32), array([[0.6808151]], dtype=float32), array([[0.64071196]], dtype=float32), array([[0.62799907]], dtype=float32), array([[0.7488126]], dtype=float32), array([[0.53126514]], dtype=float32), array([[0.7260208]], dtype=float32), array([[0.7213959]], dtype=float32), array([[0.78855455]], dtype=float32), array([[0.6525994]], dtype=float32), array([[0.7233516]], dtype=float32), array([[0.64637214]], dtype=float32), array([[0.6020029]], dtype=float32), array([[0.6699054]], dtype=float32), array([[0.6786193]], dtype=float32), array([[0.5189358]], dtype=float32), array([[0.7387408]], dtype=float32), array([[0.64698654]], dtype=float32), array([[0.6773386]], dtype=float32), array([[0.68804204]], dtype=float32), array([[0.61110765]], dtype=float32), array([[0.53007877]], dtype=float32), array([[0.57456696]], dtype=float32), array([[0.67713225]], dtype=float32), array([[0.70497155]], dtype=float32), array([[0.69392264]], dtype=float32), array([[0.60092556]], dtype=float32), array([[0.68150115]], dtype=float32), array([[0.7019245]], dtype=float32), array([[0.5825897]], dtype=float32), array([[0.67360175]], dtype=float32), array([[0.5442119]], dtype=float32), array([[0.74310523]], dtype=float32), array([[0.82222307]], dtype=float32), array([[0.4687149]], dtype=float32), array([[0.68294585]], dtype=float32), array([[0.79371196]], dtype=float32), array([[0.52607584]], dtype=float32), array([[0.667009]], dtype=float32), array([[0.50260085]], dtype=float32), array([[0.75952494]], dtype=float32), array([[0.7526163]], dtype=float32), array([[0.68292606]], dtype=float32), array([[0.7081555]], dtype=float32), array([[0.6911857]], dtype=float32), array([[0.7755319]], dtype=float32), array([[0.6552901]], dtype=float32), array([[0.61398417]], dtype=float32), array([[0.6271012]], dtype=float32), array([[0.6812114]], dtype=float32), array([[0.6688788]], dtype=float32), array([[0.61023414]], dtype=float32), array([[0.5858939]], dtype=float32), array([[0.6687051]], dtype=float32), array([[0.538257]], dtype=float32), array([[0.6439631]], dtype=float32), array([[0.5313721]], dtype=float32), array([[0.56186664]], dtype=float32), array([[0.59080905]], dtype=float32), array([[0.8146415]], dtype=float32), array([[0.5793645]], dtype=float32), array([[0.7379266]], dtype=float32), array([[0.66980654]], dtype=float32), array([[0.5950887]], dtype=float32), array([[0.71048766]], dtype=float32), array([[0.7492227]], dtype=float32), array([[0.65458655]], dtype=float32), array([[0.5687951]], dtype=float32), array([[0.68938094]], dtype=float32), array([[0.65659475]], dtype=float32), array([[0.65343827]], dtype=float32), array([[0.72665393]], dtype=float32), array([[0.6045642]], dtype=float32), array([[0.6290401]], dtype=float32), array([[0.6449925]], dtype=float32), array([[0.7728516]], dtype=float32), array([[0.4848011]], dtype=float32), array([[0.7775647]], dtype=float32), array([[0.6656612]], dtype=float32), array([[0.666489]], dtype=float32), array([[0.6711806]], dtype=float32), array([[0.5216513]], dtype=float32), array([[0.7713462]], dtype=float32), array([[0.67009246]], dtype=float32), array([[0.74622357]], dtype=float32), array([[0.6668881]], dtype=float32), array([[0.6803307]], dtype=float32), array([[0.5987278]], dtype=float32), array([[0.41946778]], dtype=float32), array([[0.75711966]], dtype=float32), array([[0.6129271]], dtype=float32), array([[0.57184047]], dtype=float32), array([[0.8099656]], dtype=float32), array([[0.5401871]], dtype=float32), array([[0.8542385]], dtype=float32), array([[0.68785167]], dtype=float32), array([[0.603271]], dtype=float32), array([[0.55445695]], dtype=float32), array([[0.7520664]], dtype=float32), array([[0.7007372]], dtype=float32), array([[0.55765843]], dtype=float32), array([[0.6537291]], dtype=float32), array([[0.5898525]], dtype=float32), array([[0.6184997]], dtype=float32), array([[0.76978076]], dtype=float32), array([[0.7539477]], dtype=float32), array([[0.86642283]], dtype=float32), array([[0.7117394]], dtype=float32), array([[0.59688914]], dtype=float32), array([[0.5654709]], dtype=float32), array([[0.8357032]], dtype=float32), array([[0.4709242]], dtype=float32), array([[0.7165258]], dtype=float32), array([[0.6734049]], dtype=float32), array([[0.5895933]], dtype=float32), array([[0.62147045]], dtype=float32), array([[0.75634605]], dtype=float32), array([[0.68689615]], dtype=float32), array([[0.6764585]], dtype=float32), array([[0.7679958]], dtype=float32), array([[0.57049084]], dtype=float32), array([[0.60924834]], dtype=float32), array([[0.77339035]], dtype=float32), array([[0.66890895]], dtype=float32), array([[0.6606616]], dtype=float32), array([[0.62598985]], dtype=float32), array([[0.5196874]], dtype=float32), array([[0.78008205]], dtype=float32), array([[0.64124775]], dtype=float32), array([[0.5706887]], dtype=float32), array([[0.4911671]], dtype=float32), array([[0.6728613]], dtype=float32), array([[0.72989595]], dtype=float32), array([[0.66794217]], dtype=float32), array([[0.69356656]], dtype=float32), array([[0.64870095]], dtype=float32), array([[0.6769526]], dtype=float32), array([[0.7541905]], dtype=float32), array([[0.6028124]], dtype=float32), array([[0.7205344]], dtype=float32), array([[0.7169502]], dtype=float32), array([[0.5591427]], dtype=float32), array([[0.3877024]], dtype=float32), array([[0.7363626]], dtype=float32), array([[0.4006158]], dtype=float32), array([[0.63306296]], dtype=float32), array([[0.6398268]], dtype=float32), array([[0.54037297]], dtype=float32), array([[0.6900126]], dtype=float32), array([[0.67373157]], dtype=float32), array([[0.7808964]], dtype=float32), array([[0.63846797]], dtype=float32), array([[0.7820976]], dtype=float32), array([[0.6600395]], dtype=float32), array([[0.75777924]], dtype=float32), array([[0.681409]], dtype=float32), array([[0.6269409]], dtype=float32), array([[0.639851]], dtype=float32), array([[0.6136545]], dtype=float32), array([[0.6698313]], dtype=float32), array([[0.65057683]], dtype=float32), array([[0.64793867]], dtype=float32), array([[0.6995804]], dtype=float32), array([[0.43171096]], dtype=float32), array([[0.5932547]], dtype=float32), array([[0.71579623]], dtype=float32), array([[0.6861447]], dtype=float32), array([[0.6328634]], dtype=float32), array([[0.7887831]], dtype=float32), array([[0.6159183]], dtype=float32), array([[0.78257936]], dtype=float32), array([[0.4809569]], dtype=float32), array([[0.6635262]], dtype=float32), array([[0.64706695]], dtype=float32), array([[0.79791796]], dtype=float32), array([[0.84556663]], dtype=float32), array([[0.62472105]], dtype=float32), array([[0.71311194]], dtype=float32), array([[0.7430502]], dtype=float32), array([[0.57634854]], dtype=float32), array([[0.78710234]], dtype=float32), array([[0.75337774]], dtype=float32), array([[0.8812686]], dtype=float32), array([[0.65023446]], dtype=float32), array([[0.6328601]], dtype=float32), array([[0.67667174]], dtype=float32), array([[0.7253518]], dtype=float32), array([[0.6775234]], dtype=float32), array([[0.69611627]], dtype=float32), array([[0.64018375]], dtype=float32), array([[0.63534904]], dtype=float32), array([[0.8524028]], dtype=float32), array([[0.8018651]], dtype=float32), array([[0.60008657]], dtype=float32), array([[0.76140606]], dtype=float32), array([[0.66117823]], dtype=float32), array([[0.6467885]], dtype=float32), array([[0.6654136]], dtype=float32), array([[0.6431333]], dtype=float32), array([[0.5256374]], dtype=float32), array([[0.53393865]], dtype=float32), array([[0.5399487]], dtype=float32), array([[0.75815123]], dtype=float32), array([[0.69155836]], dtype=float32), array([[0.5773899]], dtype=float32), array([[0.6214545]], dtype=float32), array([[0.53430486]], dtype=float32), array([[0.62605774]], dtype=float32), array([[0.54486036]], dtype=float32), array([[0.7103244]], dtype=float32), array([[0.65499663]], dtype=float32), array([[0.57720876]], dtype=float32), array([[0.63583136]], dtype=float32), array([[0.7341738]], dtype=float32), array([[0.7846497]], dtype=float32), array([[0.5725652]], dtype=float32), array([[0.6668584]], dtype=float32), array([[0.6111994]], dtype=float32), array([[0.55568045]], dtype=float32), array([[0.6472264]], dtype=float32), array([[0.7469263]], dtype=float32), array([[0.80325395]], dtype=float32), array([[0.591987]], dtype=float32), array([[0.6728009]], dtype=float32), array([[0.73598933]], dtype=float32), array([[0.7085075]], dtype=float32), array([[0.7276944]], dtype=float32), array([[0.7383111]], dtype=float32), array([[0.5595491]], dtype=float32), array([[0.7706055]], dtype=float32), array([[0.6744878]], dtype=float32), array([[0.8081311]], dtype=float32), array([[0.6064559]], dtype=float32), array([[0.7180959]], dtype=float32), array([[0.68290436]], dtype=float32), array([[0.6677891]], dtype=float32), array([[0.80743253]], dtype=float32), array([[0.6169445]], dtype=float32), array([[0.6738154]], dtype=float32), array([[0.61241025]], dtype=float32), array([[0.5568071]], dtype=float32), array([[0.50795054]], dtype=float32), array([[0.75231254]], dtype=float32), array([[0.55724424]], dtype=float32), array([[0.5818006]], dtype=float32), array([[0.7277334]], dtype=float32), array([[0.7599168]], dtype=float32), array([[0.626017]], dtype=float32), array([[0.58955455]], dtype=float32), array([[0.7488049]], dtype=float32), array([[0.87643045]], dtype=float32), array([[0.771145]], dtype=float32), array([[0.69635147]], dtype=float32), array([[0.66940135]], dtype=float32), array([[0.6949427]], dtype=float32), array([[0.7932764]], dtype=float32), array([[0.7668512]], dtype=float32), array([[0.62847775]], dtype=float32), array([[0.86716163]], dtype=float32), array([[0.6994277]], dtype=float32), array([[0.7644216]], dtype=float32), array([[0.68693066]], dtype=float32), array([[0.7227788]], dtype=float32), array([[0.6755378]], dtype=float32), array([[0.82282424]], dtype=float32), array([[0.6777904]], dtype=float32), array([[0.6753128]], dtype=float32), array([[0.6219984]], dtype=float32), array([[0.4907082]], dtype=float32), array([[0.699017]], dtype=float32), array([[0.74707294]], dtype=float32), array([[0.6426911]], dtype=float32), array([[0.55213434]], dtype=float32), array([[0.5550382]], dtype=float32), array([[0.65380895]], dtype=float32), array([[0.60964036]], dtype=float32), array([[0.6905483]], dtype=float32), array([[0.6621273]], dtype=float32), array([[0.51708037]], dtype=float32), array([[0.5848076]], dtype=float32), array([[0.8266771]], dtype=float32), array([[0.58238053]], dtype=float32), array([[0.55431265]], dtype=float32), array([[0.7638322]], dtype=float32), array([[0.55467117]], dtype=float32), array([[0.65153134]], dtype=float32), array([[0.7375715]], dtype=float32), array([[0.7224561]], dtype=float32), array([[0.6294039]], dtype=float32), array([[0.6300342]], dtype=float32), array([[0.66067874]], dtype=float32), array([[0.7395687]], dtype=float32), array([[0.7260294]], dtype=float32), array([[0.67694664]], dtype=float32), array([[0.61319304]], dtype=float32), array([[0.6813905]], dtype=float32), array([[0.76977926]], dtype=float32), array([[0.71613413]], dtype=float32), array([[0.49478167]], dtype=float32), array([[0.67164034]], dtype=float32), array([[0.6978251]], dtype=float32), array([[0.5389302]], dtype=float32), array([[0.5091771]], dtype=float32), array([[0.6071491]], dtype=float32), array([[0.5359132]], dtype=float32), array([[0.5289844]], dtype=float32), array([[0.5813228]], dtype=float32), array([[0.7990407]], dtype=float32), array([[0.66618276]], dtype=float32), array([[0.586464]], dtype=float32), array([[0.75584054]], dtype=float32), array([[0.6714209]], dtype=float32), array([[0.66251105]], dtype=float32), array([[0.69907063]], dtype=float32), array([[0.75488424]], dtype=float32), array([[0.59214294]], dtype=float32), array([[0.67448187]], dtype=float32), array([[0.7163322]], dtype=float32), array([[0.8126159]], dtype=float32), array([[0.7434843]], dtype=float32), array([[0.796291]], dtype=float32), array([[0.6489026]], dtype=float32), array([[0.65378904]], dtype=float32), array([[0.6270136]], dtype=float32), array([[0.61450046]], dtype=float32), array([[0.74883765]], dtype=float32), array([[0.89161354]], dtype=float32), array([[0.6415547]], dtype=float32), array([[0.6395638]], dtype=float32), array([[0.78296787]], dtype=float32), array([[0.6196561]], dtype=float32), array([[0.62448955]], dtype=float32), array([[0.6806079]], dtype=float32), array([[0.65970016]], dtype=float32), array([[0.6457355]], dtype=float32), array([[0.5520032]], dtype=float32), array([[0.66024995]], dtype=float32), array([[0.65531623]], dtype=float32), array([[0.5933604]], dtype=float32), array([[0.60494745]], dtype=float32), array([[0.6853964]], dtype=float32), array([[0.5601332]], dtype=float32), array([[0.8382624]], dtype=float32), array([[0.59447324]], dtype=float32), array([[0.6832124]], dtype=float32), array([[0.640661]], dtype=float32), array([[0.67267334]], dtype=float32), array([[0.68588835]], dtype=float32), array([[0.65792054]], dtype=float32), array([[0.6161325]], dtype=float32), array([[0.5773753]], dtype=float32), array([[0.43876773]], dtype=float32), array([[0.7273999]], dtype=float32), array([[0.6881075]], dtype=float32), array([[0.7252763]], dtype=float32), array([[0.80838686]], dtype=float32), array([[0.6487835]], dtype=float32), array([[0.55685294]], dtype=float32), array([[0.6270993]], dtype=float32), array([[0.704478]], dtype=float32), array([[0.6726922]], dtype=float32), array([[0.5948339]], dtype=float32), array([[0.65822965]], dtype=float32), array([[0.43470693]], dtype=float32), array([[0.6776791]], dtype=float32), array([[0.8341353]], dtype=float32), array([[0.6455809]], dtype=float32), array([[0.56267095]], dtype=float32), array([[0.61757886]], dtype=float32), array([[0.7528947]], dtype=float32), array([[0.7315823]], dtype=float32), array([[0.6224215]], dtype=float32), array([[0.69276094]], dtype=float32), array([[0.66357017]], dtype=float32), array([[0.6458905]], dtype=float32), array([[0.8398683]], dtype=float32), array([[0.7878249]], dtype=float32), array([[0.60803235]], dtype=float32), array([[0.6180612]], dtype=float32), array([[0.62566316]], dtype=float32), array([[0.7445117]], dtype=float32), array([[0.5804124]], dtype=float32), array([[0.74647474]], dtype=float32), array([[0.58795553]], dtype=float32), array([[0.6505857]], dtype=float32), array([[0.82959247]], dtype=float32), array([[0.55195427]], dtype=float32), array([[0.7330749]], dtype=float32), array([[0.70513856]], dtype=float32), array([[0.5931649]], dtype=float32), array([[0.7588855]], dtype=float32), array([[0.65422076]], dtype=float32), array([[0.64973766]], dtype=float32), array([[0.7596569]], dtype=float32), array([[0.6001147]], dtype=float32), array([[0.5865541]], dtype=float32), array([[0.69816446]], dtype=float32), array([[0.6144638]], dtype=float32), array([[0.6257329]], dtype=float32), array([[0.5846032]], dtype=float32), array([[0.7143137]], dtype=float32), array([[0.48647135]], dtype=float32), array([[0.58070207]], dtype=float32), array([[0.72041285]], dtype=float32), array([[0.6366387]], dtype=float32), array([[0.5025663]], dtype=float32), array([[0.78269005]], dtype=float32), array([[0.6504644]], dtype=float32), array([[0.71983093]], dtype=float32), array([[0.83036256]], dtype=float32), array([[0.65571105]], dtype=float32), array([[0.66313106]], dtype=float32), array([[0.7622197]], dtype=float32), array([[0.5355527]], dtype=float32), array([[0.6256337]], dtype=float32), array([[0.8298661]], dtype=float32), array([[0.6580802]], dtype=float32), array([[0.47924107]], dtype=float32), array([[0.7850746]], dtype=float32), array([[0.6506969]], dtype=float32), array([[0.6925936]], dtype=float32), array([[0.6569605]], dtype=float32), array([[0.47975188]], dtype=float32), array([[0.64922094]], dtype=float32), array([[0.77599436]], dtype=float32), array([[0.69435036]], dtype=float32), array([[0.79112077]], dtype=float32), array([[0.62956977]], dtype=float32), array([[0.64500284]], dtype=float32), array([[0.72035396]], dtype=float32), array([[0.6856055]], dtype=float32), array([[0.64451313]], dtype=float32), array([[0.64998645]], dtype=float32), array([[0.69720423]], dtype=float32), array([[0.8118841]], dtype=float32), array([[0.7273195]], dtype=float32), array([[0.50110483]], dtype=float32), array([[0.5540868]], dtype=float32), array([[0.51786983]], dtype=float32), array([[0.56279933]], dtype=float32), array([[0.6009768]], dtype=float32), array([[0.69232917]], dtype=float32), array([[0.6867978]], dtype=float32), array([[0.675189]], dtype=float32), array([[0.7629253]], dtype=float32), array([[0.6893516]], dtype=float32), array([[0.8059726]], dtype=float32), array([[0.71005416]], dtype=float32), array([[0.5331143]], dtype=float32), array([[0.5950628]], dtype=float32), array([[0.6636458]], dtype=float32), array([[0.8667836]], dtype=float32), array([[0.62934935]], dtype=float32), array([[0.72992706]], dtype=float32), array([[0.80670166]], dtype=float32), array([[0.6846186]], dtype=float32), array([[0.54062855]], dtype=float32), array([[0.6199847]], dtype=float32), array([[0.6088947]], dtype=float32), array([[0.67372125]], dtype=float32), array([[0.7893896]], dtype=float32), array([[0.55216455]], dtype=float32), array([[0.7014938]], dtype=float32), array([[0.8201829]], dtype=float32), array([[0.6103945]], dtype=float32), array([[0.5937029]], dtype=float32), array([[0.59716237]], dtype=float32), array([[0.760071]], dtype=float32), array([[0.56842625]], dtype=float32), array([[0.69124293]], dtype=float32), array([[0.67764044]], dtype=float32), array([[0.641875]], dtype=float32), array([[0.75375736]], dtype=float32), array([[0.6703328]], dtype=float32), array([[0.61214864]], dtype=float32), array([[0.5817175]], dtype=float32), array([[0.59587616]], dtype=float32), array([[0.48371342]], dtype=float32), array([[0.6422572]], dtype=float32), array([[0.65071094]], dtype=float32), array([[0.7556428]], dtype=float32), array([[0.52977407]], dtype=float32), array([[0.69484335]], dtype=float32), array([[0.62269646]], dtype=float32), array([[0.89443356]], dtype=float32), array([[0.60610795]], dtype=float32), array([[0.7857511]], dtype=float32), array([[0.51483655]], dtype=float32), array([[0.55251396]], dtype=float32), array([[0.5041633]], dtype=float32), array([[0.73443717]], dtype=float32), array([[0.81143117]], dtype=float32), array([[0.7458838]], dtype=float32), array([[0.80794644]], dtype=float32), array([[0.6854092]], dtype=float32), array([[0.6696824]], dtype=float32), array([[0.67003906]], dtype=float32), array([[0.60448325]], dtype=float32), array([[0.6726922]], dtype=float32), array([[0.5985993]], dtype=float32), array([[0.70218515]], dtype=float32), array([[0.63817585]], dtype=float32), array([[0.5953471]], dtype=float32), array([[0.5178708]], dtype=float32), array([[0.57534647]], dtype=float32), array([[0.7795751]], dtype=float32), array([[0.70806855]], dtype=float32), array([[0.7775084]], dtype=float32), array([[0.7161505]], dtype=float32), array([[0.68240124]], dtype=float32), array([[0.6978546]], dtype=float32), array([[0.6317123]], dtype=float32), array([[0.6151025]], dtype=float32), array([[0.7526722]], dtype=float32), array([[0.6108286]], dtype=float32), array([[0.64395237]], dtype=float32), array([[0.74446076]], dtype=float32), array([[0.62718856]], dtype=float32), array([[0.65868187]], dtype=float32), array([[0.7041124]], dtype=float32), array([[0.7371174]], dtype=float32), array([[0.59613013]], dtype=float32), array([[0.74925864]], dtype=float32), array([[0.65154445]], dtype=float32), array([[0.76579314]], dtype=float32), array([[0.736429]], dtype=float32), array([[0.63490033]], dtype=float32), array([[0.7354548]], dtype=float32), array([[0.6391082]], dtype=float32), array([[0.74940926]], dtype=float32), array([[0.70244026]], dtype=float32), array([[0.69939065]], dtype=float32), array([[0.5774733]], dtype=float32), array([[0.743907]], dtype=float32), array([[0.54358447]], dtype=float32), array([[0.70246536]], dtype=float32), array([[0.8073015]], dtype=float32), array([[0.44254798]], dtype=float32), array([[0.6838852]], dtype=float32), array([[0.57106614]], dtype=float32), array([[0.54016566]], dtype=float32), array([[0.65938056]], dtype=float32), array([[0.55062157]], dtype=float32), array([[0.82137525]], dtype=float32), array([[0.6353336]], dtype=float32), array([[0.58373237]], dtype=float32), array([[0.73559517]], dtype=float32), array([[0.73056483]], dtype=float32), array([[0.7662939]], dtype=float32), array([[0.5805073]], dtype=float32), array([[0.74265337]], dtype=float32), array([[0.5385715]], dtype=float32), array([[0.7347745]], dtype=float32), array([[0.67069453]], dtype=float32), array([[0.5932861]], dtype=float32), array([[0.6597252]], dtype=float32), array([[0.8896443]], dtype=float32), array([[0.6807374]], dtype=float32), array([[0.7237569]], dtype=float32), array([[0.57725847]], dtype=float32), array([[0.5813689]], dtype=float32), array([[0.72033715]], dtype=float32), array([[0.59581596]], dtype=float32), array([[0.7594908]], dtype=float32), array([[0.83065295]], dtype=float32), array([[0.6788147]], dtype=float32), array([[0.6609098]], dtype=float32), array([[0.6247735]], dtype=float32), array([[0.6311258]], dtype=float32), array([[0.5285215]], dtype=float32), array([[0.7942705]], dtype=float32), array([[0.7224526]], dtype=float32), array([[0.7208563]], dtype=float32), array([[0.5846822]], dtype=float32), array([[0.6332673]], dtype=float32), array([[0.6826641]], dtype=float32), array([[0.63795704]], dtype=float32), array([[0.6175197]], dtype=float32), array([[0.7522246]], dtype=float32), array([[0.70105654]], dtype=float32), array([[0.63799715]], dtype=float32), array([[0.76964265]], dtype=float32), array([[0.67432094]], dtype=float32), array([[0.6072757]], dtype=float32), array([[0.6011248]], dtype=float32), array([[0.661529]], dtype=float32), array([[0.722436]], dtype=float32), array([[0.63833714]], dtype=float32), array([[0.8225877]], dtype=float32), array([[0.7914037]], dtype=float32), array([[0.5625335]], dtype=float32), array([[0.70020497]], dtype=float32), array([[0.6258095]], dtype=float32), array([[0.6947103]], dtype=float32), array([[0.4601733]], dtype=float32), array([[0.63533425]], dtype=float32), array([[0.60357517]], dtype=float32), array([[0.69968116]], dtype=float32), array([[0.67542076]], dtype=float32), array([[0.66154623]], dtype=float32), array([[0.64839166]], dtype=float32), array([[0.8345548]], dtype=float32), array([[0.6987636]], dtype=float32), array([[0.5698522]], dtype=float32), array([[0.58695364]], dtype=float32), array([[0.6386985]], dtype=float32), array([[0.7338855]], dtype=float32), array([[0.5906961]], dtype=float32), array([[0.58495]], dtype=float32), array([[0.7147896]], dtype=float32), array([[0.4897911]], dtype=float32), array([[0.5849988]], dtype=float32), array([[0.530864]], dtype=float32), array([[0.557441]], dtype=float32), array([[0.60929054]], dtype=float32), array([[0.6633863]], dtype=float32), array([[0.6791159]], dtype=float32), array([[0.7542378]], dtype=float32), array([[0.67405105]], dtype=float32), array([[0.63561237]], dtype=float32), array([[0.44107586]], dtype=float32), array([[0.6507074]], dtype=float32), array([[0.7365546]], dtype=float32), array([[0.71941674]], dtype=float32), array([[0.7129531]], dtype=float32), array([[0.7610704]], dtype=float32), array([[0.6297941]], dtype=float32), array([[0.62565285]], dtype=float32), array([[0.57796943]], dtype=float32), array([[0.67550695]], dtype=float32), array([[0.63974404]], dtype=float32), array([[0.67471075]], dtype=float32), array([[0.68647015]], dtype=float32), array([[0.7358246]], dtype=float32), array([[0.6866083]], dtype=float32), array([[0.82586825]], dtype=float32), array([[0.776277]], dtype=float32), array([[0.7403036]], dtype=float32), array([[0.7235357]], dtype=float32), array([[0.78188825]], dtype=float32), array([[0.7743444]], dtype=float32), array([[0.610687]], dtype=float32), array([[0.83305705]], dtype=float32), array([[0.63163614]], dtype=float32), array([[0.58194697]], dtype=float32), array([[0.57774854]], dtype=float32), array([[0.5981527]], dtype=float32), array([[0.68588245]], dtype=float32), array([[0.78483844]], dtype=float32), array([[0.76703316]], dtype=float32), array([[0.54764795]], dtype=float32), array([[0.8112953]], dtype=float32), array([[0.6188996]], dtype=float32), array([[0.7028414]], dtype=float32), array([[0.6665894]], dtype=float32), array([[0.68596]], dtype=float32), array([[0.62773335]], dtype=float32), array([[0.6592876]], dtype=float32), array([[0.8974966]], dtype=float32), array([[0.53219175]], dtype=float32), array([[0.52462256]], dtype=float32), array([[0.7897081]], dtype=float32), array([[0.8225056]], dtype=float32), array([[0.55360556]], dtype=float32), array([[0.6882683]], dtype=float32), array([[0.60161567]], dtype=float32), array([[0.8352014]], dtype=float32), array([[0.66462636]], dtype=float32), array([[0.70223117]], dtype=float32), array([[0.77340645]], dtype=float32), array([[0.66562307]], dtype=float32), array([[0.68550134]], dtype=float32), array([[0.6991867]], dtype=float32), array([[0.38565046]], dtype=float32), array([[0.6481974]], dtype=float32), array([[0.48595598]], dtype=float32), array([[0.72362244]], dtype=float32), array([[0.64366317]], dtype=float32), array([[0.712332]], dtype=float32), array([[0.69598377]], dtype=float32), array([[0.5779764]], dtype=float32), array([[0.6201498]], dtype=float32), array([[0.7523169]], dtype=float32), array([[0.79052675]], dtype=float32), array([[0.72111106]], dtype=float32), array([[0.5809291]], dtype=float32), array([[0.6217377]], dtype=float32), array([[0.6377311]], dtype=float32), array([[0.5946455]], dtype=float32), array([[0.51165]], dtype=float32), array([[0.6528436]], dtype=float32), array([[0.6590401]], dtype=float32), array([[0.7160351]], dtype=float32), array([[0.7006552]], dtype=float32), array([[0.6964357]], dtype=float32), array([[0.6153774]], dtype=float32), array([[0.6575062]], dtype=float32), array([[0.66818273]], dtype=float32), array([[0.5496672]], dtype=float32), array([[0.66308427]], dtype=float32), array([[0.7953819]], dtype=float32), array([[0.59007084]], dtype=float32), array([[0.7057553]], dtype=float32), array([[0.7026975]], dtype=float32), array([[0.65118]], dtype=float32), array([[0.4371779]], dtype=float32), array([[0.5658342]], dtype=float32), array([[0.72494346]], dtype=float32), array([[0.6169828]], dtype=float32), array([[0.6960966]], dtype=float32), array([[0.7243882]], dtype=float32), array([[0.5446835]], dtype=float32), array([[0.6690985]], dtype=float32), array([[0.5639632]], dtype=float32), array([[0.609035]], dtype=float32), array([[0.6320655]], dtype=float32), array([[0.67755187]], dtype=float32), array([[0.6990658]], dtype=float32), array([[0.6436925]], dtype=float32), array([[0.5798454]], dtype=float32), array([[0.6449617]], dtype=float32), array([[0.57596385]], dtype=float32), array([[0.6260121]], dtype=float32), array([[0.8135133]], dtype=float32), array([[0.72277355]], dtype=float32), array([[0.6183881]], dtype=float32), array([[0.8003099]], dtype=float32), array([[0.79759085]], dtype=float32), array([[0.6032042]], dtype=float32), array([[0.7401908]], dtype=float32), array([[0.63900185]], dtype=float32), array([[0.48894477]], dtype=float32), array([[0.632105]], dtype=float32), array([[0.6949899]], dtype=float32), array([[0.6219123]], dtype=float32), array([[0.5817543]], dtype=float32), array([[0.7315265]], dtype=float32), array([[0.68642366]], dtype=float32), array([[0.5511098]], dtype=float32), array([[0.7150028]], dtype=float32), array([[0.6879629]], dtype=float32), array([[0.68600106]], dtype=float32), array([[0.87005913]], dtype=float32), array([[0.7199161]], dtype=float32), array([[0.57324153]], dtype=float32), array([[0.5893438]], dtype=float32), array([[0.7377823]], dtype=float32), array([[0.47346276]], dtype=float32), array([[0.71768796]], dtype=float32), array([[0.8098965]], dtype=float32), array([[0.5952184]], dtype=float32), array([[0.7363939]], dtype=float32), array([[0.5889392]], dtype=float32), array([[0.6214555]], dtype=float32), array([[0.5923368]], dtype=float32), array([[0.72166395]], dtype=float32), array([[0.7585536]], dtype=float32), array([[0.5252328]], dtype=float32), array([[0.6801206]], dtype=float32), array([[0.5433333]], dtype=float32), array([[0.68096876]], dtype=float32), array([[0.7463452]], dtype=float32), array([[0.7208878]], dtype=float32), array([[0.482172]], dtype=float32), array([[0.79383904]], dtype=float32), array([[0.7888025]], dtype=float32), array([[0.60128546]], dtype=float32), array([[0.6156434]], dtype=float32), array([[0.70713854]], dtype=float32), array([[0.68682253]], dtype=float32), array([[0.69605726]], dtype=float32), array([[0.67519534]], dtype=float32), array([[0.69748163]], dtype=float32), array([[0.73610586]], dtype=float32), array([[0.6140088]], dtype=float32), array([[0.68049765]], dtype=float32), array([[0.64501584]], dtype=float32), array([[0.79955894]], dtype=float32), array([[0.6842214]], dtype=float32), array([[0.6216214]], dtype=float32), array([[0.7909907]], dtype=float32), array([[0.73544395]], dtype=float32), array([[0.5660753]], dtype=float32), array([[0.80746824]], dtype=float32), array([[0.5364663]], dtype=float32), array([[0.6625366]], dtype=float32), array([[0.7395557]], dtype=float32), array([[0.6316054]], dtype=float32), array([[0.47654024]], dtype=float32), array([[0.61449087]], dtype=float32), array([[0.7649306]], dtype=float32), array([[0.5909567]], dtype=float32), array([[0.6406489]], dtype=float32), array([[0.627608]], dtype=float32), array([[0.5551176]], dtype=float32), array([[0.57926]], dtype=float32), array([[0.65573996]], dtype=float32), array([[0.6577303]], dtype=float32), array([[0.6361365]], dtype=float32), array([[0.56173635]], dtype=float32), array([[0.76687217]], dtype=float32), array([[0.6122551]], dtype=float32), array([[0.61878395]], dtype=float32), array([[0.4834824]], dtype=float32), array([[0.7070106]], dtype=float32), array([[0.49329752]], dtype=float32), array([[0.6032042]], dtype=float32), array([[0.8733343]], dtype=float32), array([[0.61395]], dtype=float32), array([[0.69820285]], dtype=float32), array([[0.69797516]], dtype=float32), array([[0.79947495]], dtype=float32), array([[0.5672486]], dtype=float32), array([[0.62427354]], dtype=float32), array([[0.53857267]], dtype=float32), array([[0.6937047]], dtype=float32), array([[0.7487902]], dtype=float32), array([[0.7904955]], dtype=float32), array([[0.51844573]], dtype=float32), array([[0.64877367]], dtype=float32), array([[0.666431]], dtype=float32), array([[0.60370123]], dtype=float32), array([[0.7130786]], dtype=float32), array([[0.7564474]], dtype=float32), array([[0.66425323]], dtype=float32), array([[0.6455424]], dtype=float32), array([[0.5780803]], dtype=float32), array([[0.66857004]], dtype=float32), array([[0.673658]], dtype=float32), array([[0.74265635]], dtype=float32), array([[0.64887774]], dtype=float32), array([[0.66741884]], dtype=float32), array([[0.73398876]], dtype=float32), array([[0.5397588]], dtype=float32), array([[0.6088436]], dtype=float32), array([[0.5762136]], dtype=float32), array([[0.4954846]], dtype=float32), array([[0.7533767]], dtype=float32), array([[0.66222167]], dtype=float32), array([[0.76767814]], dtype=float32), array([[0.61130726]], dtype=float32), array([[0.81992877]], dtype=float32), array([[0.6076225]], dtype=float32), array([[0.580149]], dtype=float32), array([[0.5306909]], dtype=float32), array([[0.6889831]], dtype=float32), array([[0.50369024]], dtype=float32), array([[0.65511954]], dtype=float32), array([[0.60027933]], dtype=float32), array([[0.76364267]], dtype=float32), array([[0.8010815]], dtype=float32), array([[0.72509754]], dtype=float32), array([[0.52788043]], dtype=float32), array([[0.7728305]], dtype=float32), array([[0.83223146]], dtype=float32), array([[0.70732903]], dtype=float32), array([[0.7389298]], dtype=float32), array([[0.7003179]], dtype=float32), array([[0.7258821]], dtype=float32), array([[0.7441319]], dtype=float32), array([[0.797922]], dtype=float32), array([[0.54166985]], dtype=float32), array([[0.7186883]], dtype=float32), array([[0.814822]], dtype=float32), array([[0.67087513]], dtype=float32), array([[0.6318953]], dtype=float32), array([[0.51465863]], dtype=float32), array([[0.7363316]], dtype=float32), array([[0.42811713]], dtype=float32), array([[0.8298553]], dtype=float32), array([[0.62531006]], dtype=float32), array([[0.63212156]], dtype=float32), array([[0.77875197]], dtype=float32), array([[0.6960537]], dtype=float32), array([[0.65203667]], dtype=float32), array([[0.6600727]], dtype=float32), array([[0.5264362]], dtype=float32), array([[0.6331513]], dtype=float32), array([[0.656383]], dtype=float32), array([[0.56822765]], dtype=float32), array([[0.73352236]], dtype=float32), array([[0.72709906]], dtype=float32), array([[0.6772428]], dtype=float32), array([[0.5084406]], dtype=float32), array([[0.68646324]], dtype=float32), array([[0.61969924]], dtype=float32), array([[0.56766355]], dtype=float32), array([[0.71514124]], dtype=float32), array([[0.6916342]], dtype=float32), array([[0.65718746]], dtype=float32), array([[0.5930911]], dtype=float32), array([[0.5195955]], dtype=float32), array([[0.45132655]], dtype=float32), array([[0.5715619]], dtype=float32), array([[0.43897504]], dtype=float32), array([[0.6397927]], dtype=float32), array([[0.65456283]], dtype=float32), array([[0.7005704]], dtype=float32), array([[0.71335053]], dtype=float32), array([[0.63867515]], dtype=float32), array([[0.6403873]], dtype=float32), array([[0.71429056]], dtype=float32), array([[0.5961078]], dtype=float32), array([[0.7519593]], dtype=float32), array([[0.63844013]], dtype=float32), array([[0.7333151]], dtype=float32), array([[0.87064624]], dtype=float32), array([[0.6497795]], dtype=float32), array([[0.6714733]], dtype=float32), array([[0.5817482]], dtype=float32), array([[0.6274398]], dtype=float32), array([[0.6153632]], dtype=float32), array([[0.58977485]], dtype=float32), array([[0.7229098]], dtype=float32), array([[0.7604973]], dtype=float32), array([[0.65020037]], dtype=float32), array([[0.6045071]], dtype=float32), array([[0.74263275]], dtype=float32), array([[0.6724564]], dtype=float32), array([[0.81116575]], dtype=float32), array([[0.78037006]], dtype=float32), array([[0.621771]], dtype=float32), array([[0.6353511]], dtype=float32), array([[0.77931774]], dtype=float32), array([[0.7120278]], dtype=float32), array([[0.59813094]], dtype=float32), array([[0.6530756]], dtype=float32), array([[0.8079799]], dtype=float32), array([[0.5076214]], dtype=float32), array([[0.57512784]], dtype=float32), array([[0.62667364]], dtype=float32), array([[0.83687764]], dtype=float32), array([[0.62178373]], dtype=float32), array([[0.60627615]], dtype=float32), array([[0.58888817]], dtype=float32), array([[0.5545609]], dtype=float32), array([[0.7154008]], dtype=float32), array([[0.5807204]], dtype=float32), array([[0.6340127]], dtype=float32), array([[0.5738092]], dtype=float32), array([[0.7596706]], dtype=float32), array([[0.7562334]], dtype=float32), array([[0.73311394]], dtype=float32), array([[0.7031412]], dtype=float32), array([[0.66569066]], dtype=float32), array([[0.6350205]], dtype=float32), array([[0.86507595]], dtype=float32), array([[0.5069734]], dtype=float32), array([[0.7840886]], dtype=float32), array([[0.6205301]], dtype=float32), array([[0.68348485]], dtype=float32), array([[0.6445564]], dtype=float32), array([[0.78038776]], dtype=float32), array([[0.8383031]], dtype=float32), array([[0.758478]], dtype=float32), array([[0.7306195]], dtype=float32), array([[0.7541601]], dtype=float32), array([[0.6145859]], dtype=float32), array([[0.70651984]], dtype=float32), array([[0.6170752]], dtype=float32), array([[0.8217008]], dtype=float32), array([[0.58008844]], dtype=float32), array([[0.8268372]], dtype=float32), array([[0.81828785]], dtype=float32), array([[0.73445076]], dtype=float32), array([[0.5679461]], dtype=float32), array([[0.7426704]], dtype=float32), array([[0.66006494]], dtype=float32), array([[0.55566704]], dtype=float32), array([[0.7379721]], dtype=float32), array([[0.6899647]], dtype=float32), array([[0.64496183]], dtype=float32), array([[0.75636244]], dtype=float32), array([[0.6418703]], dtype=float32), array([[0.80589837]], dtype=float32), array([[0.6770563]], dtype=float32), array([[0.6897577]], dtype=float32), array([[0.79773754]], dtype=float32), array([[0.66241324]], dtype=float32), array([[0.60803837]], dtype=float32), array([[0.79146075]], dtype=float32), array([[0.6743217]], dtype=float32), array([[0.6430352]], dtype=float32), array([[0.6536341]], dtype=float32), array([[0.606435]], dtype=float32), array([[0.6322671]], dtype=float32), array([[0.8862647]], dtype=float32), array([[0.589921]], dtype=float32), array([[0.62683356]], dtype=float32), array([[0.62027866]], dtype=float32), array([[0.7126571]], dtype=float32), array([[0.6111409]], dtype=float32), array([[0.632825]], dtype=float32), array([[0.7968778]], dtype=float32), array([[0.6350634]], dtype=float32), array([[0.70663595]], dtype=float32), array([[0.59632176]], dtype=float32), array([[0.78259677]], dtype=float32), array([[0.51971585]], dtype=float32), array([[0.8625339]], dtype=float32), array([[0.65218]], dtype=float32), array([[0.6180526]], dtype=float32), array([[0.65739715]], dtype=float32), array([[0.7284205]], dtype=float32), array([[0.6203923]], dtype=float32), array([[0.62185705]], dtype=float32), array([[0.65409446]], dtype=float32), array([[0.63799274]], dtype=float32), array([[0.5676356]], dtype=float32), array([[0.8819903]], dtype=float32), array([[0.6700804]], dtype=float32), array([[0.6184737]], dtype=float32), array([[0.6992143]], dtype=float32), array([[0.6068295]], dtype=float32), array([[0.68068933]], dtype=float32), array([[0.773977]], dtype=float32), array([[0.6467161]], dtype=float32), array([[0.56802213]], dtype=float32), array([[0.61165875]], dtype=float32), array([[0.61463106]], dtype=float32), array([[0.6111218]], dtype=float32), array([[0.60065544]], dtype=float32), array([[0.79873776]], dtype=float32), array([[0.5304185]], dtype=float32), array([[0.60615015]], dtype=float32), array([[0.77104443]], dtype=float32), array([[0.52213]], dtype=float32), array([[0.70343506]], dtype=float32), array([[0.53355575]], dtype=float32), array([[0.66914445]], dtype=float32), array([[0.8225867]], dtype=float32), array([[0.6125331]], dtype=float32), array([[0.592894]], dtype=float32), array([[0.51720965]], dtype=float32), array([[0.60475504]], dtype=float32), array([[0.6588688]], dtype=float32), array([[0.58852106]], dtype=float32), array([[0.6625057]], dtype=float32), array([[0.6487665]], dtype=float32), array([[0.8620714]], dtype=float32), array([[0.6326979]], dtype=float32), array([[0.7169716]], dtype=float32), array([[0.6699868]], dtype=float32), array([[0.7030853]], dtype=float32), array([[0.67835903]], dtype=float32), array([[0.7044344]], dtype=float32), array([[0.7098315]], dtype=float32), array([[0.54831946]], dtype=float32), array([[0.51194286]], dtype=float32), array([[0.67615116]], dtype=float32), array([[0.69358486]], dtype=float32), array([[0.69510746]], dtype=float32), array([[0.8078751]], dtype=float32), array([[0.7996541]], dtype=float32), array([[0.64941853]], dtype=float32), array([[0.6717399]], dtype=float32), array([[0.68891245]], dtype=float32), array([[0.74968874]], dtype=float32), array([[0.6942868]], dtype=float32), array([[0.7154403]], dtype=float32), array([[0.6129569]], dtype=float32), array([[0.6243618]], dtype=float32), array([[0.6299681]], dtype=float32), array([[0.6211097]], dtype=float32), array([[0.74996483]], dtype=float32), array([[0.52264106]], dtype=float32), array([[0.7588452]], dtype=float32), array([[0.76222795]], dtype=float32), array([[0.6003895]], dtype=float32), array([[0.556291]], dtype=float32), array([[0.703673]], dtype=float32), array([[0.48549455]], dtype=float32), array([[0.6284931]], dtype=float32), array([[0.67555416]], dtype=float32), array([[0.6165037]], dtype=float32), array([[0.41926605]], dtype=float32), array([[0.7100997]], dtype=float32), array([[0.684126]], dtype=float32), array([[0.6668228]], dtype=float32), array([[0.630347]], dtype=float32), array([[0.74145347]], dtype=float32), array([[0.58139694]], dtype=float32), array([[0.58145726]], dtype=float32), array([[0.66879076]], dtype=float32), array([[0.4747014]], dtype=float32), array([[0.707619]], dtype=float32), array([[0.67340684]], dtype=float32), array([[0.7383647]], dtype=float32), array([[0.68126994]], dtype=float32), array([[0.5639715]], dtype=float32), array([[0.81270504]], dtype=float32), array([[0.66826355]], dtype=float32), array([[0.77352405]], dtype=float32), array([[0.5694919]], dtype=float32), array([[0.6106299]], dtype=float32), array([[0.4735947]], dtype=float32), array([[0.5074585]], dtype=float32), array([[0.6384318]], dtype=float32), array([[0.7190919]], dtype=float32), array([[0.5898863]], dtype=float32), array([[0.6364791]], dtype=float32), array([[0.5644176]], dtype=float32), array([[0.6391318]], dtype=float32), array([[0.55869293]], dtype=float32), array([[0.713253]], dtype=float32), array([[0.8081733]], dtype=float32), array([[0.8133478]], dtype=float32), array([[0.66613734]], dtype=float32), array([[0.5772637]], dtype=float32), array([[0.86259615]], dtype=float32), array([[0.6627064]], dtype=float32), array([[0.67138517]], dtype=float32), array([[0.7298348]], dtype=float32), array([[0.67746556]], dtype=float32), array([[0.5824019]], dtype=float32), array([[0.61174816]], dtype=float32), array([[0.8625028]], dtype=float32), array([[0.72675395]], dtype=float32), array([[0.64205176]], dtype=float32), array([[0.7371187]], dtype=float32), array([[0.59746134]], dtype=float32), array([[0.73166716]], dtype=float32), array([[0.7363603]], dtype=float32), array([[0.667544]], dtype=float32), array([[0.5782312]], dtype=float32), array([[0.7028239]], dtype=float32), array([[0.684276]], dtype=float32), array([[0.5444584]], dtype=float32), array([[0.73274004]], dtype=float32), array([[0.5534381]], dtype=float32), array([[0.59749836]], dtype=float32), array([[0.62652266]], dtype=float32), array([[0.66100466]], dtype=float32), array([[0.60064745]], dtype=float32), array([[0.78688633]], dtype=float32), array([[0.5877543]], dtype=float32), array([[0.6221628]], dtype=float32), array([[0.7250171]], dtype=float32), array([[0.6886447]], dtype=float32), array([[0.73180056]], dtype=float32), array([[0.7179333]], dtype=float32), array([[0.42770523]], dtype=float32), array([[0.66994977]], dtype=float32), array([[0.6061059]], dtype=float32), array([[0.7900426]], dtype=float32), array([[0.6819285]], dtype=float32), array([[0.6444123]], dtype=float32), array([[0.7827438]], dtype=float32), array([[0.61118376]], dtype=float32), array([[0.58743954]], dtype=float32), array([[0.54587495]], dtype=float32), array([[0.70044494]], dtype=float32), array([[0.58029616]], dtype=float32), array([[0.6397497]], dtype=float32), array([[0.56196666]], dtype=float32), array([[0.664121]], dtype=float32), array([[0.5866082]], dtype=float32), array([[0.76973134]], dtype=float32), array([[0.6250982]], dtype=float32), array([[0.8011886]], dtype=float32), array([[0.6249999]], dtype=float32), array([[0.70364726]], dtype=float32), array([[0.823048]], dtype=float32), array([[0.6190631]], dtype=float32), array([[0.6472646]], dtype=float32), array([[0.74549395]], dtype=float32), array([[0.61195135]], dtype=float32), array([[0.80635506]], dtype=float32), array([[0.6119199]], dtype=float32), array([[0.6986229]], dtype=float32), array([[0.66982675]], dtype=float32), array([[0.57716715]], dtype=float32), array([[0.7127365]], dtype=float32), array([[0.62633216]], dtype=float32), array([[0.6490853]], dtype=float32), array([[0.663289]], dtype=float32), array([[0.80204976]], dtype=float32), array([[0.55219805]], dtype=float32), array([[0.69133997]], dtype=float32), array([[0.5969628]], dtype=float32), array([[0.74030256]], dtype=float32), array([[0.56108296]], dtype=float32), array([[0.54173446]], dtype=float32), array([[0.65813035]], dtype=float32), array([[0.553596]], dtype=float32), array([[0.6929253]], dtype=float32), array([[0.5428649]], dtype=float32), array([[0.46600008]], dtype=float32), array([[0.58377457]], dtype=float32), array([[0.4486854]], dtype=float32), array([[0.6751728]], dtype=float32), array([[0.5740223]], dtype=float32), array([[0.40085852]], dtype=float32), array([[0.6577362]], dtype=float32), array([[0.6364851]], dtype=float32), array([[0.6548745]], dtype=float32), array([[0.5822041]], dtype=float32), array([[0.8038426]], dtype=float32), array([[0.6068573]], dtype=float32), array([[0.7304495]], dtype=float32), array([[0.39553002]], dtype=float32), array([[0.58414555]], dtype=float32), array([[0.79851353]], dtype=float32), array([[0.61217093]], dtype=float32), array([[0.5103836]], dtype=float32), array([[0.7692691]], dtype=float32), array([[0.64774394]], dtype=float32), array([[0.6664894]], dtype=float32), array([[0.6331204]], dtype=float32), array([[0.6281697]], dtype=float32), array([[0.6419196]], dtype=float32), array([[0.7907866]], dtype=float32), array([[0.6254866]], dtype=float32), array([[0.52146393]], dtype=float32), array([[0.61215425]], dtype=float32), array([[0.62717074]], dtype=float32), array([[0.55144984]], dtype=float32), array([[0.50090355]], dtype=float32), array([[0.71537936]], dtype=float32), array([[0.5646355]], dtype=float32), array([[0.7934517]], dtype=float32), array([[0.5750014]], dtype=float32), array([[0.69425905]], dtype=float32), array([[0.7954265]], dtype=float32), array([[0.68642855]], dtype=float32), array([[0.71262693]], dtype=float32), array([[0.6561886]], dtype=float32), array([[0.7420491]], dtype=float32), array([[0.7490755]], dtype=float32), array([[0.6201756]], dtype=float32), array([[0.5744051]], dtype=float32), array([[0.61213654]], dtype=float32), array([[0.4757037]], dtype=float32), array([[0.7918825]], dtype=float32), array([[0.7187966]], dtype=float32), array([[0.63823444]], dtype=float32), array([[0.71041346]], dtype=float32), array([[0.5998384]], dtype=float32), array([[0.69970584]], dtype=float32), array([[0.6378272]], dtype=float32), array([[0.645519]], dtype=float32), array([[0.69596195]], dtype=float32), array([[0.5969657]], dtype=float32), array([[0.70755947]], dtype=float32), array([[0.49807674]], dtype=float32), array([[0.70519805]], dtype=float32), array([[0.7700793]], dtype=float32), array([[0.47318262]], dtype=float32), array([[0.53788126]], dtype=float32), array([[0.6261618]], dtype=float32), array([[0.63776255]], dtype=float32), array([[0.7891695]], dtype=float32), array([[0.6371114]], dtype=float32), array([[0.7892656]], dtype=float32), array([[0.6525363]], dtype=float32), array([[0.6180923]], dtype=float32), array([[0.6948289]], dtype=float32), array([[0.59837115]], dtype=float32), array([[0.61961806]], dtype=float32), array([[0.58651465]], dtype=float32), array([[0.7286659]], dtype=float32), array([[0.5263775]], dtype=float32), array([[0.6415038]], dtype=float32), array([[0.657287]], dtype=float32), array([[0.6350347]], dtype=float32), array([[0.6128684]], dtype=float32), array([[0.7746001]], dtype=float32), array([[0.67896503]], dtype=float32), array([[0.7262114]], dtype=float32), array([[0.5809407]], dtype=float32), array([[0.80452293]], dtype=float32), array([[0.510298]], dtype=float32), array([[0.7019097]], dtype=float32), array([[0.6883924]], dtype=float32), array([[0.5540989]], dtype=float32), array([[0.6815057]], dtype=float32), array([[0.6359085]], dtype=float32), array([[0.6306617]], dtype=float32), array([[0.5147698]], dtype=float32), array([[0.71930903]], dtype=float32), array([[0.5319445]], dtype=float32), array([[0.72991014]], dtype=float32), array([[0.70548326]], dtype=float32), array([[0.5553379]], dtype=float32), array([[0.64372545]], dtype=float32), array([[0.81101364]], dtype=float32), array([[0.6271058]], dtype=float32), array([[0.6365354]], dtype=float32), array([[0.5248657]], dtype=float32), array([[0.701168]], dtype=float32), array([[0.74035406]], dtype=float32), array([[0.64827275]], dtype=float32), array([[0.74621797]], dtype=float32), array([[0.7283617]], dtype=float32), array([[0.7347084]], dtype=float32), array([[0.74368286]], dtype=float32), array([[0.5909488]], dtype=float32), array([[0.51464105]], dtype=float32), array([[0.50639707]], dtype=float32), array([[0.5289896]], dtype=float32), array([[0.74122334]], dtype=float32), array([[0.5874315]], dtype=float32), array([[0.6789322]], dtype=float32), array([[0.6882754]], dtype=float32), array([[0.77251893]], dtype=float32), array([[0.60419583]], dtype=float32), array([[0.7572017]], dtype=float32), array([[0.6943594]], dtype=float32), array([[0.39879254]], dtype=float32), array([[0.6295805]], dtype=float32), array([[0.55783015]], dtype=float32), array([[0.7106346]], dtype=float32), array([[0.5330757]], dtype=float32), array([[0.7945505]], dtype=float32), array([[0.75343645]], dtype=float32), array([[0.61755687]], dtype=float32), array([[0.80790883]], dtype=float32), array([[0.815225]], dtype=float32), array([[0.8137094]], dtype=float32), array([[0.58223695]], dtype=float32), array([[0.7164501]], dtype=float32), array([[0.7315159]], dtype=float32), array([[0.70368433]], dtype=float32), array([[0.8177255]], dtype=float32), array([[0.62981486]], dtype=float32), array([[0.58616203]], dtype=float32), array([[0.8141018]], dtype=float32), array([[0.6824913]], dtype=float32), array([[0.59592354]], dtype=float32), array([[0.73028684]], dtype=float32), array([[0.45225787]], dtype=float32), array([[0.8148555]], dtype=float32), array([[0.7222348]], dtype=float32), array([[0.710186]], dtype=float32), array([[0.7789997]], dtype=float32), array([[0.6697246]], dtype=float32), array([[0.7068466]], dtype=float32), array([[0.6693696]], dtype=float32), array([[0.7000555]], dtype=float32), array([[0.585137]], dtype=float32), array([[0.656598]], dtype=float32), array([[0.6816335]], dtype=float32), array([[0.5449685]], dtype=float32), array([[0.7416553]], dtype=float32), array([[0.57861483]], dtype=float32), array([[0.7319342]], dtype=float32), array([[0.7653108]], dtype=float32), array([[0.6716808]], dtype=float32), array([[0.66235083]], dtype=float32), array([[0.6576193]], dtype=float32), array([[0.6094225]], dtype=float32), array([[0.6744056]], dtype=float32), array([[0.68109465]], dtype=float32), array([[0.60041255]], dtype=float32), array([[0.63317823]], dtype=float32), array([[0.7608708]], dtype=float32), array([[0.46738905]], dtype=float32), array([[0.6651038]], dtype=float32), array([[0.71166444]], dtype=float32), array([[0.5409171]], dtype=float32), array([[0.56850326]], dtype=float32), array([[0.70439905]], dtype=float32), array([[0.64729977]], dtype=float32), array([[0.7946583]], dtype=float32), array([[0.5297677]], dtype=float32), array([[0.47438425]], dtype=float32), array([[0.64462215]], dtype=float32), array([[0.6906488]], dtype=float32), array([[0.56930745]], dtype=float32), array([[0.67029154]], dtype=float32), array([[0.4896688]], dtype=float32), array([[0.7803166]], dtype=float32), array([[0.72163033]], dtype=float32), array([[0.85457474]], dtype=float32), array([[0.66422755]], dtype=float32), array([[0.81107897]], dtype=float32), array([[0.78247064]], dtype=float32), array([[0.65567726]], dtype=float32), array([[0.7678611]], dtype=float32), array([[0.5328268]], dtype=float32), array([[0.65910363]], dtype=float32), array([[0.67705107]], dtype=float32), array([[0.57551134]], dtype=float32), array([[0.58911085]], dtype=float32), array([[0.5823331]], dtype=float32), array([[0.7492746]], dtype=float32), array([[0.47155863]], dtype=float32), array([[0.5901292]], dtype=float32), array([[0.57591563]], dtype=float32), array([[0.5933322]], dtype=float32), array([[0.66206557]], dtype=float32), array([[0.5255281]], dtype=float32), array([[0.552029]], dtype=float32), array([[0.6855084]], dtype=float32), array([[0.58584785]], dtype=float32), array([[0.8872889]], dtype=float32), array([[0.65976083]], dtype=float32), array([[0.99999994]], dtype=float32), array([[0.6004987]], dtype=float32), array([[0.78368306]], dtype=float32), array([[0.6722726]], dtype=float32), array([[0.53949976]], dtype=float32), array([[0.7064119]], dtype=float32), array([[0.7067683]], dtype=float32), array([[0.7177863]], dtype=float32), array([[0.5710008]], dtype=float32), array([[0.6015457]], dtype=float32), array([[0.7308908]], dtype=float32), array([[0.8081281]], dtype=float32), array([[0.686123]], dtype=float32), array([[0.78197193]], dtype=float32), array([[0.6186388]], dtype=float32), array([[0.6866728]], dtype=float32), array([[0.67056644]], dtype=float32), array([[0.71037346]], dtype=float32), array([[0.5887516]], dtype=float32), array([[0.6131575]], dtype=float32), array([[0.71293837]], dtype=float32), array([[0.6906235]], dtype=float32), array([[0.50119835]], dtype=float32), array([[0.6282731]], dtype=float32), array([[0.79270864]], dtype=float32), array([[0.50237375]], dtype=float32), array([[0.62483585]], dtype=float32), array([[0.6482547]], dtype=float32), array([[0.6754973]], dtype=float32), array([[0.8136806]], dtype=float32), array([[0.6518047]], dtype=float32), array([[0.81745833]], dtype=float32), array([[0.7127973]], dtype=float32), array([[0.72496444]], dtype=float32), array([[0.6226109]], dtype=float32), array([[0.6916412]], dtype=float32), array([[0.53420806]], dtype=float32), array([[0.64627063]], dtype=float32), array([[0.65853345]], dtype=float32), array([[0.65943384]], dtype=float32), array([[0.6729396]], dtype=float32), array([[0.6305812]], dtype=float32), array([[0.68272185]], dtype=float32), array([[0.619789]], dtype=float32), array([[0.7126299]], dtype=float32), array([[0.63042736]], dtype=float32), array([[0.8149259]], dtype=float32), array([[0.7469224]], dtype=float32), array([[0.6132335]], dtype=float32), array([[0.79434323]], dtype=float32), array([[0.5881753]], dtype=float32), array([[0.72104764]], dtype=float32), array([[0.51772773]], dtype=float32), array([[0.5655897]], dtype=float32), array([[0.64281905]], dtype=float32), array([[0.55690104]], dtype=float32), array([[0.7205635]], dtype=float32), array([[0.6271984]], dtype=float32), array([[0.68014145]], dtype=float32), array([[0.78344023]], dtype=float32), array([[0.62019676]], dtype=float32), array([[0.5422341]], dtype=float32), array([[0.8385924]], dtype=float32), array([[0.6660019]], dtype=float32), array([[0.81716037]], dtype=float32), array([[0.62136936]], dtype=float32), array([[0.683555]], dtype=float32), array([[0.7730054]], dtype=float32), array([[0.7467729]], dtype=float32), array([[0.474881]], dtype=float32), array([[0.65728706]], dtype=float32), array([[0.6106928]], dtype=float32), array([[0.6596295]], dtype=float32), array([[0.6460178]], dtype=float32), array([[0.6235222]], dtype=float32), array([[0.5925559]], dtype=float32), array([[0.6818904]], dtype=float32), array([[0.5109368]], dtype=float32), array([[0.8290404]], dtype=float32), array([[0.4612249]], dtype=float32), array([[0.8668717]], dtype=float32), array([[0.6568754]], dtype=float32), array([[0.80460995]], dtype=float32), array([[0.6316087]], dtype=float32), array([[0.69006205]], dtype=float32), array([[0.71012825]], dtype=float32), array([[0.7866672]], dtype=float32), array([[0.50366724]], dtype=float32), array([[0.83980596]], dtype=float32), array([[0.83983433]], dtype=float32), array([[0.680831]], dtype=float32), array([[0.71239173]], dtype=float32), array([[0.6896595]], dtype=float32), array([[0.6831145]], dtype=float32), array([[0.6698388]], dtype=float32), array([[0.49323848]], dtype=float32), array([[0.6167542]], dtype=float32), array([[0.738495]], dtype=float32), array([[0.6797373]], dtype=float32), array([[0.63331336]], dtype=float32), array([[0.81777596]], dtype=float32), array([[0.58741134]], dtype=float32), array([[0.5918352]], dtype=float32), array([[0.6272581]], dtype=float32), array([[0.5979416]], dtype=float32), array([[0.7104064]], dtype=float32), array([[0.64214706]], dtype=float32), array([[0.8201627]], dtype=float32), array([[0.5836576]], dtype=float32), array([[0.6657275]], dtype=float32), array([[0.64617527]], dtype=float32), array([[0.66877496]], dtype=float32), array([[0.72373605]], dtype=float32), array([[0.7366345]], dtype=float32), array([[0.61354166]], dtype=float32), array([[0.6008632]], dtype=float32), array([[0.6309715]], dtype=float32), array([[0.643193]], dtype=float32), array([[0.623252]], dtype=float32), array([[0.63848144]], dtype=float32), array([[0.57722485]], dtype=float32), array([[0.6486344]], dtype=float32), array([[0.52135444]], dtype=float32), array([[0.74571735]], dtype=float32), array([[0.6816772]], dtype=float32), array([[0.888813]], dtype=float32), array([[0.7699085]], dtype=float32), array([[0.7820092]], dtype=float32), array([[0.57439244]], dtype=float32), array([[0.6745582]], dtype=float32), array([[0.5269021]], dtype=float32), array([[0.6296955]], dtype=float32), array([[0.70046353]], dtype=float32), array([[0.6816891]], dtype=float32), array([[0.4912218]], dtype=float32), array([[0.68368506]], dtype=float32), array([[0.65472543]], dtype=float32), array([[0.41867977]], dtype=float32), array([[0.5361376]], dtype=float32), array([[0.7883411]], dtype=float32), array([[0.55143225]], dtype=float32), array([[0.7187571]], dtype=float32), array([[0.64840776]], dtype=float32), array([[0.63357526]], dtype=float32), array([[0.5844928]], dtype=float32), array([[0.5902009]], dtype=float32), array([[0.62466]], dtype=float32), array([[0.39695066]], dtype=float32), array([[0.7214123]], dtype=float32), array([[0.6487544]], dtype=float32), array([[0.68268424]], dtype=float32), array([[0.53652424]], dtype=float32), array([[0.5836803]], dtype=float32), array([[0.759403]], dtype=float32), array([[0.66759837]], dtype=float32), array([[0.5711814]], dtype=float32), array([[0.6587857]], dtype=float32), array([[0.7546781]], dtype=float32), array([[0.76912856]], dtype=float32), array([[0.7320013]], dtype=float32), array([[0.7092147]], dtype=float32), array([[0.61833847]], dtype=float32), array([[0.48201424]], dtype=float32), array([[0.6424769]], dtype=float32), array([[0.67401016]], dtype=float32), array([[0.70003086]], dtype=float32), array([[0.66181374]], dtype=float32), array([[0.60674447]], dtype=float32), array([[0.7494806]], dtype=float32), array([[0.7654786]], dtype=float32), array([[0.63844097]], dtype=float32), array([[0.5058201]], dtype=float32), array([[0.5923183]], dtype=float32), array([[0.80701125]], dtype=float32), array([[0.5521383]], dtype=float32), array([[0.6715329]], dtype=float32), array([[0.7081113]], dtype=float32), array([[0.6081873]], dtype=float32), array([[0.63683856]], dtype=float32), array([[0.6567549]], dtype=float32), array([[0.5269848]], dtype=float32), array([[0.7879861]], dtype=float32), array([[0.6964736]], dtype=float32), array([[0.50968575]], dtype=float32), array([[0.7823665]], dtype=float32), array([[0.6348108]], dtype=float32), array([[0.75712526]], dtype=float32), array([[0.5001879]], dtype=float32), array([[0.5912443]], dtype=float32), array([[0.6281493]], dtype=float32), array([[0.85949564]], dtype=float32), array([[0.7105678]], dtype=float32), array([[0.7186359]], dtype=float32), array([[0.5554994]], dtype=float32), array([[0.74749506]], dtype=float32), array([[0.6973813]], dtype=float32), array([[0.55224705]], dtype=float32), array([[0.59175014]], dtype=float32), array([[0.54939234]], dtype=float32), array([[0.6031848]], dtype=float32), array([[0.5752321]], dtype=float32), array([[0.81802356]], dtype=float32), array([[0.66839457]], dtype=float32), array([[0.6710532]], dtype=float32), array([[0.6059592]], dtype=float32), array([[0.7143035]], dtype=float32), array([[0.66506267]], dtype=float32), array([[0.837713]], dtype=float32), array([[0.75062954]], dtype=float32), array([[0.690009]], dtype=float32), array([[0.530263]], dtype=float32), array([[0.6929552]], dtype=float32), array([[0.70273435]], dtype=float32), array([[0.5948782]], dtype=float32), array([[0.77049744]], dtype=float32), array([[0.6388911]], dtype=float32), array([[0.6881388]], dtype=float32), array([[0.6212121]], dtype=float32), array([[0.6862967]], dtype=float32), array([[0.7250128]], dtype=float32), array([[0.56396973]], dtype=float32), array([[0.5176654]], dtype=float32), array([[0.5240295]], dtype=float32), array([[0.61002076]], dtype=float32), array([[0.65546227]], dtype=float32), array([[0.66798496]], dtype=float32), array([[0.6860517]], dtype=float32), array([[0.58303034]], dtype=float32), array([[0.6569053]], dtype=float32), array([[0.63407433]], dtype=float32), array([[0.6272794]], dtype=float32), array([[0.61824036]], dtype=float32), array([[0.59136325]], dtype=float32), array([[0.6836252]], dtype=float32), array([[0.7623478]], dtype=float32), array([[0.74352026]], dtype=float32), array([[0.611201]], dtype=float32), array([[0.56486064]], dtype=float32), array([[0.7431992]], dtype=float32), array([[0.52822864]], dtype=float32), array([[0.70485663]], dtype=float32), array([[0.6688696]], dtype=float32), array([[0.6527893]], dtype=float32), array([[0.48428783]], dtype=float32), array([[0.5870089]], dtype=float32), array([[0.53592765]], dtype=float32), array([[0.69813114]], dtype=float32), array([[0.64412117]], dtype=float32), array([[0.7133118]], dtype=float32), array([[0.78997904]], dtype=float32), array([[0.7958155]], dtype=float32), array([[0.77679265]], dtype=float32), array([[0.62691075]], dtype=float32), array([[0.7146695]], dtype=float32), array([[0.66138756]], dtype=float32), array([[0.6838933]], dtype=float32), array([[0.6495239]], dtype=float32), array([[0.7555785]], dtype=float32), array([[0.639324]], dtype=float32), array([[0.4918449]], dtype=float32), array([[0.7069692]], dtype=float32), array([[0.85892534]], dtype=float32), array([[0.8194348]], dtype=float32), array([[0.7808359]], dtype=float32), array([[0.6763377]], dtype=float32), array([[0.58911383]], dtype=float32), array([[0.577063]], dtype=float32), array([[0.7124601]], dtype=float32), array([[0.67343867]], dtype=float32), array([[0.63856775]], dtype=float32), array([[0.6552116]], dtype=float32), array([[0.6529292]], dtype=float32), array([[0.87989604]], dtype=float32), array([[0.6686884]], dtype=float32), array([[0.7152972]], dtype=float32), array([[0.72269964]], dtype=float32), array([[0.65213513]], dtype=float32), array([[0.50525206]], dtype=float32), array([[0.76548266]], dtype=float32), array([[0.6066489]], dtype=float32), array([[0.502993]], dtype=float32), array([[0.66745394]], dtype=float32), array([[0.78332174]], dtype=float32), array([[0.5902666]], dtype=float32), array([[0.7728208]], dtype=float32), array([[0.744176]], dtype=float32), array([[0.57689]], dtype=float32), array([[0.60969496]], dtype=float32), array([[0.50087255]], dtype=float32), array([[0.6344142]], dtype=float32), array([[0.65020466]], dtype=float32), array([[0.6605041]], dtype=float32), array([[0.5957755]], dtype=float32), array([[0.69278806]], dtype=float32), array([[0.3921919]], dtype=float32), array([[0.6360883]], dtype=float32), array([[0.6578362]], dtype=float32), array([[0.6784272]], dtype=float32), array([[0.63184357]], dtype=float32), array([[0.56303537]], dtype=float32), array([[0.53617215]], dtype=float32), array([[0.55292475]], dtype=float32), array([[0.69413376]], dtype=float32), array([[0.6478119]], dtype=float32), array([[0.6174488]], dtype=float32), array([[0.875605]], dtype=float32), array([[0.62219393]], dtype=float32), array([[0.5138179]], dtype=float32), array([[0.6030731]], dtype=float32), array([[0.6464019]], dtype=float32), array([[0.6604159]], dtype=float32), array([[0.77902865]], dtype=float32), array([[0.6056527]], dtype=float32), array([[0.6947546]], dtype=float32), array([[0.6596844]], dtype=float32), array([[0.6489832]], dtype=float32), array([[0.6930303]], dtype=float32), array([[0.634034]], dtype=float32), array([[0.6712631]], dtype=float32), array([[0.5933329]], dtype=float32), array([[0.74896437]], dtype=float32), array([[0.6208181]], dtype=float32), array([[0.7435273]], dtype=float32), array([[0.74964035]], dtype=float32), array([[0.67461354]], dtype=float32), array([[0.66285896]], dtype=float32), array([[0.52809066]], dtype=float32), array([[0.7154768]], dtype=float32), array([[0.69586253]], dtype=float32), array([[0.67207694]], dtype=float32), array([[0.60295224]], dtype=float32), array([[0.64378107]], dtype=float32), array([[0.5649116]], dtype=float32), array([[0.6104992]], dtype=float32), array([[0.5136148]], dtype=float32), array([[0.7709372]], dtype=float32), array([[0.5967201]], dtype=float32), array([[0.7391796]], dtype=float32), array([[0.62041545]], dtype=float32), array([[0.7121069]], dtype=float32), array([[0.51364684]], dtype=float32), array([[0.6889875]], dtype=float32), array([[0.52446556]], dtype=float32), array([[0.55983824]], dtype=float32), array([[0.70078003]], dtype=float32), array([[0.6166426]], dtype=float32), array([[0.75983983]], dtype=float32), array([[0.60873044]], dtype=float32), array([[0.67835283]], dtype=float32), array([[0.65872097]], dtype=float32), array([[0.74551797]], dtype=float32), array([[0.7249745]], dtype=float32), array([[0.64741313]], dtype=float32), array([[0.6081712]], dtype=float32), array([[0.8244815]], dtype=float32), array([[0.47202653]], dtype=float32), array([[0.5961321]], dtype=float32), array([[0.7442189]], dtype=float32), array([[0.5546717]], dtype=float32), array([[0.73337805]], dtype=float32), array([[0.6431197]], dtype=float32), array([[0.71933115]], dtype=float32), array([[0.7530368]], dtype=float32), array([[0.602551]], dtype=float32), array([[0.6610629]], dtype=float32), array([[0.6758317]], dtype=float32), array([[0.453354]], dtype=float32), array([[0.72917354]], dtype=float32), array([[0.55708283]], dtype=float32), array([[0.7058476]], dtype=float32), array([[0.67252743]], dtype=float32), array([[0.5183085]], dtype=float32), array([[0.768885]], dtype=float32), array([[0.7839492]], dtype=float32), array([[0.503664]], dtype=float32), array([[0.68241155]], dtype=float32), array([[0.6335354]], dtype=float32), array([[0.71262884]], dtype=float32), array([[0.6968404]], dtype=float32), array([[0.5794511]], dtype=float32), array([[0.68813086]], dtype=float32), array([[0.6555884]], dtype=float32), array([[0.5086132]], dtype=float32), array([[0.633114]], dtype=float32), array([[0.6556829]], dtype=float32), array([[0.29217678]], dtype=float32), array([[0.8490149]], dtype=float32), array([[0.74050313]], dtype=float32), array([[0.77727926]], dtype=float32), array([[0.6795968]], dtype=float32), array([[0.6502907]], dtype=float32), array([[0.729514]], dtype=float32), array([[0.7543205]], dtype=float32), array([[0.6539708]], dtype=float32), array([[0.8705765]], dtype=float32), array([[0.7224438]], dtype=float32), array([[0.73222697]], dtype=float32), array([[0.5829456]], dtype=float32), array([[0.59441495]], dtype=float32), array([[0.6555223]], dtype=float32), array([[0.79568505]], dtype=float32), array([[0.7536342]], dtype=float32), array([[0.63576776]], dtype=float32), array([[0.6576505]], dtype=float32), array([[0.7089726]], dtype=float32), array([[0.6654316]], dtype=float32), array([[0.7419183]], dtype=float32), array([[0.72673273]], dtype=float32), array([[0.57344854]], dtype=float32), array([[0.7181599]], dtype=float32), array([[0.6573123]], dtype=float32), array([[0.72015595]], dtype=float32), array([[0.59690785]], dtype=float32), array([[0.6335085]], dtype=float32), array([[0.84134513]], dtype=float32), array([[0.67376137]], dtype=float32), array([[0.59324]], dtype=float32), array([[0.7006117]], dtype=float32), array([[0.79867625]], dtype=float32), array([[0.51713955]], dtype=float32), array([[0.6425437]], dtype=float32), array([[0.7442631]], dtype=float32), array([[0.7334731]], dtype=float32), array([[0.5658052]], dtype=float32), array([[0.79647774]], dtype=float32), array([[0.64639753]], dtype=float32), array([[0.67867666]], dtype=float32), array([[0.78394926]], dtype=float32), array([[0.69218194]], dtype=float32), array([[0.7096517]], dtype=float32), array([[0.6171868]], dtype=float32), array([[0.5178384]], dtype=float32), array([[0.58092624]], dtype=float32), array([[0.724615]], dtype=float32), array([[0.5522791]], dtype=float32), array([[0.5954543]], dtype=float32), array([[0.61305106]], dtype=float32), array([[0.64133686]], dtype=float32), array([[0.5337627]], dtype=float32), array([[0.8499052]], dtype=float32), array([[0.536872]], dtype=float32), array([[0.6576314]], dtype=float32), array([[0.75275475]], dtype=float32), array([[0.49558586]], dtype=float32), array([[0.56682867]], dtype=float32), array([[0.65540725]], dtype=float32), array([[0.67814845]], dtype=float32), array([[0.67643666]], dtype=float32), array([[0.6501574]], dtype=float32), array([[0.7249135]], dtype=float32), array([[0.6995862]], dtype=float32), array([[0.6231133]], dtype=float32), array([[0.75079393]], dtype=float32), array([[0.7495256]], dtype=float32), array([[0.78214186]], dtype=float32), array([[0.6217375]], dtype=float32), array([[0.658514]], dtype=float32), array([[0.5948126]], dtype=float32), array([[0.7605436]], dtype=float32), array([[0.76914287]], dtype=float32), array([[0.6437317]], dtype=float32), array([[0.5302597]], dtype=float32), array([[0.67366475]], dtype=float32), array([[0.7452672]], dtype=float32), array([[0.49751928]], dtype=float32), array([[0.6064903]], dtype=float32), array([[0.73532057]], dtype=float32), array([[0.82780135]], dtype=float32), array([[0.690636]], dtype=float32), array([[0.7460169]], dtype=float32), array([[0.5709648]], dtype=float32), array([[0.57373685]], dtype=float32), array([[0.70605934]], dtype=float32), array([[0.55967295]], dtype=float32), array([[0.65963066]], dtype=float32), array([[0.6027963]], dtype=float32), array([[0.784281]], dtype=float32), array([[0.5528257]], dtype=float32), array([[0.59385806]], dtype=float32), array([[0.7497721]], dtype=float32), array([[0.67701495]], dtype=float32), array([[0.712626]], dtype=float32), array([[0.7525351]], dtype=float32), array([[0.6878414]], dtype=float32), array([[0.47555625]], dtype=float32), array([[0.50727034]], dtype=float32), array([[0.76231796]], dtype=float32), array([[0.6245048]], dtype=float32), array([[0.5768775]], dtype=float32), array([[0.61175483]], dtype=float32), array([[0.68809044]], dtype=float32), array([[0.71546257]], dtype=float32), array([[0.7739068]], dtype=float32), array([[0.6326834]], dtype=float32), array([[0.6315685]], dtype=float32), array([[0.7192806]], dtype=float32), array([[0.6498211]], dtype=float32), array([[0.6686193]], dtype=float32), array([[0.7427609]], dtype=float32), array([[0.6636346]], dtype=float32), array([[0.7043513]], dtype=float32), array([[0.58746547]], dtype=float32), array([[0.7980603]], dtype=float32), array([[0.7909657]], dtype=float32), array([[0.7247901]], dtype=float32), array([[0.7405534]], dtype=float32), array([[0.7055011]], dtype=float32), array([[0.66179186]], dtype=float32), array([[0.5642686]], dtype=float32), array([[0.6373593]], dtype=float32), array([[0.5461254]], dtype=float32), array([[0.73874676]], dtype=float32), array([[0.587209]], dtype=float32), array([[0.5855449]], dtype=float32), array([[0.8449446]], dtype=float32), array([[0.7614967]], dtype=float32), array([[0.7725383]], dtype=float32), array([[0.67379844]], dtype=float32), array([[0.504231]], dtype=float32), array([[0.84510875]], dtype=float32), array([[0.81535196]], dtype=float32), array([[0.6983249]], dtype=float32), array([[0.7756754]], dtype=float32), array([[0.4822712]], dtype=float32), array([[0.69002354]], dtype=float32), array([[0.7241411]], dtype=float32), array([[0.5928683]], dtype=float32), array([[0.58164847]], dtype=float32), array([[0.5633955]], dtype=float32), array([[0.61528105]], dtype=float32), array([[0.7807934]], dtype=float32), array([[0.53559375]], dtype=float32), array([[0.71668446]], dtype=float32), array([[0.7197741]], dtype=float32), array([[0.67820746]], dtype=float32), array([[0.6857019]], dtype=float32), array([[0.7204287]], dtype=float32), array([[0.7630793]], dtype=float32), array([[0.65985286]], dtype=float32), array([[0.5312338]], dtype=float32), array([[0.68669987]], dtype=float32), array([[0.76544344]], dtype=float32), array([[0.7960043]], dtype=float32), array([[0.6278508]], dtype=float32), array([[0.5593977]], dtype=float32), array([[0.6755257]], dtype=float32), array([[0.5543656]], dtype=float32), array([[0.5728544]], dtype=float32), array([[0.65615946]], dtype=float32), array([[0.6555345]], dtype=float32), array([[0.6929798]], dtype=float32), array([[0.8008979]], dtype=float32), array([[0.48104137]], dtype=float32), array([[0.5423504]], dtype=float32), array([[0.8048069]], dtype=float32), array([[0.8491278]], dtype=float32), array([[0.650893]], dtype=float32), array([[0.7937871]], dtype=float32), array([[0.6125974]], dtype=float32), array([[0.8038331]], dtype=float32), array([[0.80854046]], dtype=float32), array([[0.7409639]], dtype=float32), array([[0.5472648]], dtype=float32), array([[0.6539135]], dtype=float32), array([[0.7075496]], dtype=float32), array([[0.59956455]], dtype=float32), array([[0.56458914]], dtype=float32), array([[0.60622656]], dtype=float32), array([[0.5726733]], dtype=float32), array([[0.54589915]], dtype=float32), array([[0.74994236]], dtype=float32), array([[0.6495422]], dtype=float32), array([[0.6139198]], dtype=float32), array([[0.7408873]], dtype=float32), array([[0.61804473]], dtype=float32), array([[0.5674031]], dtype=float32), array([[0.52552986]], dtype=float32), array([[0.75196666]], dtype=float32), array([[0.5129503]], dtype=float32), array([[0.5906048]], dtype=float32), array([[0.6960108]], dtype=float32), array([[0.6431626]], dtype=float32), array([[0.5548935]], dtype=float32), array([[0.526807]], dtype=float32), array([[0.79201907]], dtype=float32), array([[0.58655715]], dtype=float32), array([[0.6196116]], dtype=float32), array([[0.77996594]], dtype=float32), array([[0.8457017]], dtype=float32), array([[0.72411335]], dtype=float32), array([[0.4839372]], dtype=float32), array([[0.655946]], dtype=float32), array([[0.7708684]], dtype=float32), array([[0.6418912]], dtype=float32), array([[0.6117341]], dtype=float32), array([[0.6272625]], dtype=float32), array([[0.5818228]], dtype=float32), array([[0.76679444]], dtype=float32), array([[0.68691653]], dtype=float32), array([[0.5458133]], dtype=float32), array([[0.700403]], dtype=float32), array([[0.6459086]], dtype=float32), array([[0.5884957]], dtype=float32), array([[0.61614174]], dtype=float32), array([[0.5894939]], dtype=float32), array([[0.6244973]], dtype=float32), array([[0.7279739]], dtype=float32), array([[0.6312413]], dtype=float32), array([[0.6434785]], dtype=float32), array([[0.5476469]], dtype=float32), array([[0.6697892]], dtype=float32), array([[0.57800746]], dtype=float32), array([[0.59501606]], dtype=float32), array([[0.7938317]], dtype=float32), array([[0.78645027]], dtype=float32), array([[0.60065126]], dtype=float32), array([[0.59550697]], dtype=float32), array([[0.66405165]], dtype=float32), array([[0.7023932]], dtype=float32), array([[0.6944343]], dtype=float32), array([[0.7072463]], dtype=float32), array([[0.66881615]], dtype=float32), array([[0.74128366]], dtype=float32), array([[0.8014345]], dtype=float32), array([[0.48828602]], dtype=float32), array([[0.6182079]], dtype=float32), array([[0.68670785]], dtype=float32), array([[0.74982584]], dtype=float32), array([[0.760883]], dtype=float32), array([[0.77094096]], dtype=float32), array([[0.70892465]], dtype=float32), array([[0.7823851]], dtype=float32), array([[0.5919237]], dtype=float32), array([[0.7032115]], dtype=float32), array([[0.70035446]], dtype=float32), array([[0.7023166]], dtype=float32), array([[0.6518693]], dtype=float32), array([[0.71900034]], dtype=float32), array([[0.68152404]], dtype=float32), array([[0.65179175]], dtype=float32), array([[0.5925231]], dtype=float32), array([[0.6542777]], dtype=float32), array([[0.60368115]], dtype=float32), array([[0.72080135]], dtype=float32), array([[0.5984016]], dtype=float32), array([[0.598094]], dtype=float32), array([[0.5980468]], dtype=float32), array([[0.8378193]], dtype=float32), array([[0.64024115]], dtype=float32), array([[0.7492291]], dtype=float32), array([[0.6147498]], dtype=float32), array([[0.6822075]], dtype=float32), array([[0.6264693]], dtype=float32), array([[0.67777145]], dtype=float32), array([[0.54327357]], dtype=float32), array([[0.5614193]], dtype=float32), array([[0.8470452]], dtype=float32), array([[0.842401]], dtype=float32), array([[0.6402832]], dtype=float32), array([[0.7539599]], dtype=float32), array([[0.6865858]], dtype=float32), array([[0.74853647]], dtype=float32), array([[0.8772049]], dtype=float32), array([[0.6373324]], dtype=float32), array([[0.66806036]], dtype=float32), array([[0.6674086]], dtype=float32), array([[0.5719721]], dtype=float32), array([[0.7182561]], dtype=float32), array([[0.8061193]], dtype=float32), array([[0.7150463]], dtype=float32), array([[0.57000107]], dtype=float32), array([[0.6805099]], dtype=float32), array([[0.6256172]], dtype=float32), array([[0.7694871]], dtype=float32), array([[0.7726362]], dtype=float32), array([[0.5699432]], dtype=float32), array([[0.7267952]], dtype=float32), array([[0.5784817]], dtype=float32), array([[0.6704076]], dtype=float32), array([[0.6497152]], dtype=float32), array([[0.5477721]], dtype=float32), array([[0.5606344]], dtype=float32), array([[0.7672082]], dtype=float32), array([[0.64954275]], dtype=float32), array([[0.63474756]], dtype=float32), array([[0.64486384]], dtype=float32), array([[0.56890583]], dtype=float32), array([[0.49981257]], dtype=float32), array([[0.74537975]], dtype=float32), array([[0.5838499]], dtype=float32), array([[0.6777508]], dtype=float32), array([[0.5683992]], dtype=float32), array([[0.64287615]], dtype=float32), array([[0.4569084]], dtype=float32), array([[0.71820116]], dtype=float32), array([[0.70417964]], dtype=float32), array([[0.71602505]], dtype=float32), array([[0.6330254]], dtype=float32), array([[0.7522582]], dtype=float32), array([[0.7508428]], dtype=float32), array([[0.62374544]], dtype=float32), array([[0.59470135]], dtype=float32), array([[0.65339315]], dtype=float32), array([[0.743453]], dtype=float32), array([[0.6884838]], dtype=float32), array([[0.7351129]], dtype=float32), array([[0.7497306]], dtype=float32), array([[0.6667329]], dtype=float32), array([[0.7145217]], dtype=float32), array([[0.71370304]], dtype=float32), array([[0.64139175]], dtype=float32), array([[0.70629656]], dtype=float32), array([[0.7716536]], dtype=float32), array([[0.65412223]], dtype=float32), array([[0.47340947]], dtype=float32), array([[0.68621033]], dtype=float32), array([[0.78410375]], dtype=float32), array([[0.5413372]], dtype=float32), array([[0.60146797]], dtype=float32), array([[0.7081397]], dtype=float32), array([[0.59718]], dtype=float32), array([[0.73787045]], dtype=float32), array([[0.6436045]], dtype=float32), array([[0.6585086]], dtype=float32), array([[0.50652814]], dtype=float32), array([[0.8517827]], dtype=float32), array([[0.605417]], dtype=float32), array([[0.7690459]], dtype=float32), array([[0.7254611]], dtype=float32), array([[0.9415958]], dtype=float32), array([[0.56742877]], dtype=float32), array([[0.65151477]], dtype=float32), array([[0.60329056]], dtype=float32), array([[0.72959054]], dtype=float32), array([[0.7478528]], dtype=float32), array([[0.7001422]], dtype=float32), array([[0.768188]], dtype=float32), array([[0.8335776]], dtype=float32), array([[0.5730579]], dtype=float32), array([[0.8768528]], dtype=float32), array([[0.610989]], dtype=float32), array([[0.72679746]], dtype=float32), array([[0.79290074]], dtype=float32), array([[0.79467356]], dtype=float32), array([[0.5444012]], dtype=float32), array([[0.7250128]], dtype=float32), array([[0.6851084]], dtype=float32), array([[0.5578991]], dtype=float32), array([[0.8249206]], dtype=float32), array([[0.6209315]], dtype=float32), array([[0.5392476]], dtype=float32), array([[0.7444153]], dtype=float32), array([[0.6718165]], dtype=float32), array([[0.748366]], dtype=float32), array([[0.80270946]], dtype=float32), array([[0.5748987]], dtype=float32), array([[0.49627715]], dtype=float32), array([[0.63772535]], dtype=float32), array([[0.7866409]], dtype=float32), array([[0.6252471]], dtype=float32), array([[0.63078874]], dtype=float32), array([[0.6680714]], dtype=float32), array([[0.7207625]], dtype=float32), array([[0.8326794]], dtype=float32), array([[0.7482246]], dtype=float32), array([[0.5790633]], dtype=float32), array([[0.7560934]], dtype=float32), array([[0.75282764]], dtype=float32), array([[0.59589076]], dtype=float32), array([[0.66277504]], dtype=float32), array([[0.7743096]], dtype=float32), array([[0.7457287]], dtype=float32), array([[0.8862783]], dtype=float32), array([[0.70484155]], dtype=float32), array([[0.58298457]], dtype=float32), array([[0.68446755]], dtype=float32), array([[0.759958]], dtype=float32), array([[0.5653143]], dtype=float32), array([[0.66218966]], dtype=float32), array([[0.67586935]], dtype=float32), array([[0.68780506]], dtype=float32), array([[0.57950103]], dtype=float32), array([[0.6076782]], dtype=float32), array([[0.69780576]], dtype=float32), array([[0.5479109]], dtype=float32), array([[0.51263547]], dtype=float32), array([[0.59156]], dtype=float32), array([[0.5514043]], dtype=float32), array([[0.5748738]], dtype=float32), array([[0.74487966]], dtype=float32), array([[0.67679536]], dtype=float32), array([[0.6730692]], dtype=float32), array([[0.6136654]], dtype=float32), array([[0.65747535]], dtype=float32), array([[0.68784136]], dtype=float32), array([[0.75290173]], dtype=float32), array([[0.6116246]], dtype=float32), array([[0.60197586]], dtype=float32), array([[0.6748673]], dtype=float32), array([[0.63073385]], dtype=float32), array([[0.8414998]], dtype=float32), array([[0.5305919]], dtype=float32), array([[0.6786182]], dtype=float32), array([[0.67302305]], dtype=float32), array([[0.6283585]], dtype=float32), array([[0.5959393]], dtype=float32), array([[0.58103555]], dtype=float32), array([[0.78859484]], dtype=float32), array([[0.51453364]], dtype=float32), array([[0.696965]], dtype=float32), array([[0.6999932]], dtype=float32), array([[0.64578897]], dtype=float32), array([[0.6476052]], dtype=float32), array([[0.5946466]], dtype=float32), array([[0.682649]], dtype=float32), array([[0.56059915]], dtype=float32), array([[0.70651984]], dtype=float32), array([[0.66899276]], dtype=float32), array([[0.7325204]], dtype=float32), array([[0.66526365]], dtype=float32), array([[0.73112226]], dtype=float32), array([[0.65106535]], dtype=float32), array([[0.605185]], dtype=float32), array([[0.5587466]], dtype=float32), array([[0.7329745]], dtype=float32), array([[0.49685737]], dtype=float32), array([[0.5841135]], dtype=float32), array([[0.89994407]], dtype=float32), array([[0.6713208]], dtype=float32), array([[0.716455]], dtype=float32), array([[0.6835661]], dtype=float32), array([[0.7893265]], dtype=float32), array([[0.7309448]], dtype=float32), array([[0.63959765]], dtype=float32), array([[0.79839516]], dtype=float32), array([[0.76436144]], dtype=float32), array([[0.6997191]], dtype=float32), array([[0.6243639]], dtype=float32), array([[0.6936582]], dtype=float32), array([[0.6569088]], dtype=float32), array([[0.53841394]], dtype=float32), array([[0.6278306]], dtype=float32), array([[0.69947594]], dtype=float32), array([[0.6752098]], dtype=float32), array([[0.6703901]], dtype=float32), array([[0.7199756]], dtype=float32), array([[0.66310614]], dtype=float32), array([[0.84865296]], dtype=float32), array([[0.7036332]], dtype=float32), array([[0.6345426]], dtype=float32), array([[0.5770165]], dtype=float32), array([[0.65466547]], dtype=float32), array([[0.6035245]], dtype=float32), array([[0.57742596]], dtype=float32), array([[0.5395236]], dtype=float32), array([[0.3488133]], dtype=float32), array([[0.5656293]], dtype=float32), array([[0.712795]], dtype=float32), array([[0.6457341]], dtype=float32), array([[0.5923022]], dtype=float32), array([[0.6912547]], dtype=float32), array([[0.6028011]], dtype=float32), array([[0.6640384]], dtype=float32), array([[0.61035395]], dtype=float32), array([[0.7147255]], dtype=float32), array([[0.7969289]], dtype=float32), array([[0.6434649]], dtype=float32), array([[0.5954431]], dtype=float32), array([[0.5598804]], dtype=float32), array([[0.71485406]], dtype=float32), array([[0.6184082]], dtype=float32), array([[0.64546514]], dtype=float32), array([[0.4507618]], dtype=float32), array([[0.66659766]], dtype=float32), array([[0.6456317]], dtype=float32), array([[0.7155534]], dtype=float32), array([[0.8064076]], dtype=float32), array([[0.6251469]], dtype=float32), array([[0.62245667]], dtype=float32), array([[0.7899357]], dtype=float32), array([[0.6070291]], dtype=float32), array([[0.6632534]], dtype=float32), array([[0.7218745]], dtype=float32), array([[0.6590424]], dtype=float32), array([[0.6846412]], dtype=float32), array([[0.7507685]], dtype=float32), array([[0.69592524]], dtype=float32), array([[0.70225894]], dtype=float32), array([[0.84393203]], dtype=float32), array([[0.561972]], dtype=float32), array([[0.59681195]], dtype=float32), array([[0.6047932]], dtype=float32), array([[0.68333745]], dtype=float32), array([[0.6809267]], dtype=float32), array([[0.8294719]], dtype=float32), array([[0.5763549]], dtype=float32), array([[0.70842874]], dtype=float32), array([[0.61004126]], dtype=float32), array([[0.6684295]], dtype=float32), array([[0.7368251]], dtype=float32), array([[0.5887331]], dtype=float32), array([[0.64391255]], dtype=float32), array([[0.79164666]], dtype=float32), array([[0.723716]], dtype=float32), array([[0.5796553]], dtype=float32), array([[0.62630874]], dtype=float32), array([[0.7265698]], dtype=float32), array([[0.6555051]], dtype=float32), array([[0.63464385]], dtype=float32), array([[0.5786624]], dtype=float32), array([[0.8989734]], dtype=float32), array([[0.8017274]], dtype=float32), array([[0.61827034]], dtype=float32), array([[0.65741396]], dtype=float32), array([[0.589712]], dtype=float32), array([[0.510364]], dtype=float32), array([[0.55869114]], dtype=float32), array([[0.6656084]], dtype=float32), array([[0.69803715]], dtype=float32), array([[0.7176385]], dtype=float32), array([[0.5883214]], dtype=float32), array([[0.50309956]], dtype=float32), array([[0.62433255]], dtype=float32), array([[0.718837]], dtype=float32), array([[0.6770004]], dtype=float32), array([[0.73259556]], dtype=float32), array([[0.7132675]], dtype=float32), array([[0.75572556]], dtype=float32), array([[0.67299974]], dtype=float32), array([[0.73420054]], dtype=float32), array([[0.6734755]], dtype=float32), array([[0.65930617]], dtype=float32), array([[0.75462186]], dtype=float32), array([[0.76786613]], dtype=float32), array([[0.6565294]], dtype=float32), array([[0.6755439]], dtype=float32), array([[0.72457]], dtype=float32), array([[0.5777669]], dtype=float32), array([[0.58786553]], dtype=float32), array([[0.7630743]], dtype=float32), array([[0.546968]], dtype=float32), array([[0.5421015]], dtype=float32), array([[0.7496053]], dtype=float32), array([[0.6109613]], dtype=float32), array([[0.798032]], dtype=float32), array([[0.7239632]], dtype=float32), array([[0.6514435]], dtype=float32), array([[0.7397585]], dtype=float32), array([[0.5297387]], dtype=float32), array([[0.7998337]], dtype=float32), array([[0.74815035]], dtype=float32), array([[0.7407695]], dtype=float32), array([[0.6448964]], dtype=float32), array([[0.39669695]], dtype=float32), array([[0.6179215]], dtype=float32), array([[0.6103288]], dtype=float32), array([[0.47242594]], dtype=float32), array([[0.54896075]], dtype=float32), array([[0.7491858]], dtype=float32), array([[0.57599586]], dtype=float32), array([[0.76438594]], dtype=float32), array([[0.6636926]], dtype=float32), array([[0.6432233]], dtype=float32), array([[0.80636376]], dtype=float32), array([[0.81789017]], dtype=float32), array([[0.724813]], dtype=float32), array([[0.606576]], dtype=float32), array([[0.6195648]], dtype=float32), array([[0.52695906]], dtype=float32), array([[0.6555829]], dtype=float32), array([[0.6975045]], dtype=float32), array([[0.7844537]], dtype=float32), array([[0.5819139]], dtype=float32), array([[0.6709048]], dtype=float32), array([[0.688303]], dtype=float32), array([[0.68675005]], dtype=float32), array([[0.71209705]], dtype=float32), array([[0.62052834]], dtype=float32), array([[0.6244106]], dtype=float32), array([[0.71038747]], dtype=float32), array([[0.65249383]], dtype=float32), array([[0.69871444]], dtype=float32), array([[0.6139471]], dtype=float32), array([[0.5443407]], dtype=float32), array([[0.6235315]], dtype=float32), array([[0.6119524]], dtype=float32), array([[0.6833874]], dtype=float32), array([[0.6091069]], dtype=float32), array([[0.7232324]], dtype=float32), array([[0.6294519]], dtype=float32), array([[0.7454802]], dtype=float32), array([[0.59372705]], dtype=float32), array([[0.5515034]], dtype=float32), array([[0.7349374]], dtype=float32), array([[0.80287665]], dtype=float32), array([[0.5932703]], dtype=float32), array([[0.72560644]], dtype=float32), array([[0.77185595]], dtype=float32), array([[0.56627655]], dtype=float32), array([[0.6652664]], dtype=float32), array([[0.78659314]], dtype=float32), array([[0.6451702]], dtype=float32), array([[0.7212703]], dtype=float32), array([[0.57412064]], dtype=float32), array([[0.6056332]], dtype=float32), array([[0.7904099]], dtype=float32), array([[0.8007784]], dtype=float32), array([[0.6331002]], dtype=float32), array([[0.8282413]], dtype=float32), array([[0.674478]], dtype=float32), array([[0.7559451]], dtype=float32), array([[0.54654986]], dtype=float32), array([[0.5143481]], dtype=float32), array([[0.81859684]], dtype=float32), array([[0.7156086]], dtype=float32), array([[0.7418904]], dtype=float32), array([[0.7779416]], dtype=float32), array([[0.71990967]], dtype=float32), array([[0.7782588]], dtype=float32), array([[0.5366781]], dtype=float32), array([[0.5297136]], dtype=float32), array([[0.6846471]], dtype=float32), array([[0.66257143]], dtype=float32), array([[0.7838346]], dtype=float32), array([[0.75369334]], dtype=float32), array([[0.7415765]], dtype=float32), array([[0.6322584]], dtype=float32), array([[0.6302892]], dtype=float32), array([[0.6146009]], dtype=float32), array([[0.7349243]], dtype=float32), array([[0.67289007]], dtype=float32), array([[0.56450033]], dtype=float32), array([[0.6261812]], dtype=float32), array([[0.5218497]], dtype=float32), array([[0.66269094]], dtype=float32), array([[0.6292803]], dtype=float32), array([[0.55678105]], dtype=float32), array([[0.63194007]], dtype=float32), array([[0.6598834]], dtype=float32), array([[0.70882577]], dtype=float32), array([[0.8580028]], dtype=float32), array([[0.5764985]], dtype=float32), array([[0.7267583]], dtype=float32), array([[0.7439318]], dtype=float32), array([[0.71706927]], dtype=float32), array([[0.56621695]], dtype=float32), array([[0.63393474]], dtype=float32), array([[0.65965223]], dtype=float32), array([[0.72899675]], dtype=float32), array([[0.8520215]], dtype=float32), array([[0.6537235]], dtype=float32), array([[0.67837226]], dtype=float32), array([[0.627114]], dtype=float32), array([[0.66248596]], dtype=float32), array([[0.55738986]], dtype=float32), array([[0.7663819]], dtype=float32), array([[0.5909945]], dtype=float32), array([[0.69965446]], dtype=float32), array([[0.70429647]], dtype=float32), array([[0.70076096]], dtype=float32), array([[0.6166139]], dtype=float32), array([[0.4548787]], dtype=float32), array([[0.5548819]], dtype=float32), array([[0.66738164]], dtype=float32), array([[0.5822798]], dtype=float32), array([[0.66472477]], dtype=float32), array([[0.6026614]], dtype=float32), array([[0.5731374]], dtype=float32), array([[0.67958224]], dtype=float32), array([[0.7967179]], dtype=float32), array([[0.71074426]], dtype=float32), array([[0.52237386]], dtype=float32), array([[0.6434039]], dtype=float32), array([[0.6298671]], dtype=float32), array([[0.7027818]], dtype=float32), array([[0.82831335]], dtype=float32), array([[0.5993061]], dtype=float32), array([[0.7927896]], dtype=float32), array([[0.6535306]], dtype=float32), array([[0.62808347]], dtype=float32), array([[0.703198]], dtype=float32), array([[0.6730904]], dtype=float32), array([[0.73313487]], dtype=float32), array([[0.5699562]], dtype=float32), array([[0.6279186]], dtype=float32), array([[0.77281356]], dtype=float32), array([[0.7000069]], dtype=float32), array([[0.7204752]], dtype=float32), array([[0.71518743]], dtype=float32), array([[0.4960378]], dtype=float32), array([[0.6281109]], dtype=float32), array([[0.6994781]], dtype=float32), array([[0.6076108]], dtype=float32), array([[0.82048523]], dtype=float32), array([[0.51161516]], dtype=float32), array([[0.5530435]], dtype=float32), array([[0.7505845]], dtype=float32), array([[0.5078245]], dtype=float32), array([[0.79718393]], dtype=float32), array([[0.75251997]], dtype=float32), array([[0.6338651]], dtype=float32), array([[0.6169458]], dtype=float32), array([[0.6557944]], dtype=float32), array([[0.79090285]], dtype=float32), array([[0.6052072]], dtype=float32), array([[0.7503906]], dtype=float32), array([[0.66651344]], dtype=float32), array([[0.67864686]], dtype=float32), array([[0.59575164]], dtype=float32), array([[0.8246107]], dtype=float32), array([[0.5005948]], dtype=float32), array([[0.61535776]], dtype=float32), array([[0.64012265]], dtype=float32), array([[0.80581194]], dtype=float32), array([[0.64546543]], dtype=float32), array([[0.6282841]], dtype=float32), array([[0.59672624]], dtype=float32), array([[0.41853672]], dtype=float32), array([[0.713537]], dtype=float32), array([[1.]], dtype=float32), array([[0.78390723]], dtype=float32), array([[0.76756334]], dtype=float32), array([[0.58602273]], dtype=float32), array([[0.501354]], dtype=float32), array([[0.702593]], dtype=float32), array([[0.58423126]], dtype=float32), array([[0.6517496]], dtype=float32), array([[0.75842327]], dtype=float32), array([[0.709803]], dtype=float32), array([[0.68078846]], dtype=float32), array([[0.63405144]], dtype=float32), array([[0.6628909]], dtype=float32), array([[0.56718886]], dtype=float32), array([[0.6274513]], dtype=float32), array([[0.67737556]], dtype=float32), array([[0.75424707]], dtype=float32), array([[0.52001065]], dtype=float32), array([[0.86537665]], dtype=float32), array([[0.6767671]], dtype=float32), array([[0.66683686]], dtype=float32), array([[0.53900826]], dtype=float32), array([[0.74363345]], dtype=float32), array([[0.4834965]], dtype=float32), array([[0.6074002]], dtype=float32), array([[0.5709752]], dtype=float32), array([[0.72180927]], dtype=float32), array([[0.5757069]], dtype=float32), array([[0.8050621]], dtype=float32), array([[0.7667154]], dtype=float32), array([[0.69283885]], dtype=float32), array([[0.70851284]], dtype=float32), array([[0.7346101]], dtype=float32), array([[0.51944923]], dtype=float32), array([[0.7402893]], dtype=float32), array([[0.6704481]], dtype=float32), array([[0.6378223]], dtype=float32), array([[0.47802117]], dtype=float32), array([[0.63695884]], dtype=float32), array([[0.7294048]], dtype=float32), array([[0.87091804]], dtype=float32), array([[0.5456427]], dtype=float32), array([[0.60771954]], dtype=float32), array([[0.6551701]], dtype=float32), array([[0.6494503]], dtype=float32), array([[0.77150166]], dtype=float32), array([[0.58816135]], dtype=float32), array([[0.654106]], dtype=float32), array([[0.77032715]], dtype=float32), array([[0.65343845]], dtype=float32), array([[0.5916101]], dtype=float32), array([[0.6132404]], dtype=float32), array([[0.66399324]], dtype=float32), array([[0.6246373]], dtype=float32), array([[0.7293978]], dtype=float32), array([[0.74098843]], dtype=float32), array([[0.83125234]], dtype=float32), array([[0.56138253]], dtype=float32), array([[0.671993]], dtype=float32), array([[0.57349604]], dtype=float32), array([[0.48359686]], dtype=float32), array([[0.56858015]], dtype=float32), array([[0.6442966]], dtype=float32), array([[0.7581639]], dtype=float32), array([[0.81771994]], dtype=float32), array([[0.65794265]], dtype=float32), array([[0.6961356]], dtype=float32), array([[0.5043922]], dtype=float32), array([[0.59897095]], dtype=float32), array([[0.7656964]], dtype=float32), array([[0.7973761]], dtype=float32), array([[0.61376697]], dtype=float32), array([[0.5223508]], dtype=float32), array([[0.7077931]], dtype=float32), array([[0.5882666]], dtype=float32), array([[0.6755672]], dtype=float32), array([[0.66013837]], dtype=float32), array([[0.82264936]], dtype=float32), array([[0.59826404]], dtype=float32), array([[0.6384473]], dtype=float32), array([[0.79426825]], dtype=float32), array([[0.68662107]], dtype=float32), array([[0.6760285]], dtype=float32), array([[0.8166641]], dtype=float32), array([[0.6525055]], dtype=float32), array([[0.66608834]], dtype=float32), array([[0.6344676]], dtype=float32), array([[0.7370187]], dtype=float32), array([[0.7070179]], dtype=float32), array([[0.69221646]], dtype=float32), array([[0.60383594]], dtype=float32), array([[0.6112837]], dtype=float32), array([[0.70297706]], dtype=float32), array([[0.6333668]], dtype=float32), array([[0.62047416]], dtype=float32), array([[0.65348125]], dtype=float32), array([[0.70040584]], dtype=float32), array([[0.6202898]], dtype=float32), array([[0.7083937]], dtype=float32), array([[0.7486226]], dtype=float32), array([[0.6859623]], dtype=float32), array([[0.623122]], dtype=float32), array([[0.6518189]], dtype=float32), array([[0.64844584]], dtype=float32), array([[0.6905276]], dtype=float32), array([[0.6655039]], dtype=float32), array([[0.5074122]], dtype=float32), array([[0.7539822]], dtype=float32), array([[0.6947187]], dtype=float32), array([[0.49423182]], dtype=float32), array([[0.6383941]], dtype=float32), array([[0.7921989]], dtype=float32), array([[0.6151936]], dtype=float32), array([[0.8330687]], dtype=float32), array([[0.72793144]], dtype=float32), array([[0.6868345]], dtype=float32), array([[0.68067455]], dtype=float32), array([[0.537132]], dtype=float32), array([[0.51598376]], dtype=float32), array([[0.688874]], dtype=float32), array([[0.7291125]], dtype=float32), array([[0.7295749]], dtype=float32), array([[0.7558336]], dtype=float32), array([[0.7040649]], dtype=float32), array([[0.61582553]], dtype=float32), array([[0.59510815]], dtype=float32), array([[0.75976217]], dtype=float32), array([[0.6919494]], dtype=float32), array([[0.768388]], dtype=float32), array([[0.51833826]], dtype=float32), array([[0.69847584]], dtype=float32), array([[0.6790943]], dtype=float32), array([[0.5269408]], dtype=float32), array([[0.78185123]], dtype=float32), array([[0.70161533]], dtype=float32), array([[0.77950704]], dtype=float32), array([[0.5146268]], dtype=float32), array([[0.6770908]], dtype=float32), array([[0.74805915]], dtype=float32), array([[0.6082035]], dtype=float32), array([[0.7560504]], dtype=float32), array([[0.72481114]], dtype=float32), array([[0.6134222]], dtype=float32), array([[0.65402824]], dtype=float32), array([[0.733567]], dtype=float32), array([[0.7171587]], dtype=float32), array([[0.6203356]], dtype=float32), array([[0.6549306]], dtype=float32), array([[0.59710693]], dtype=float32), array([[0.89710176]], dtype=float32), array([[0.6895731]], dtype=float32), array([[0.693974]], dtype=float32), array([[0.65843]], dtype=float32), array([[0.65180826]], dtype=float32), array([[0.6428007]], dtype=float32), array([[0.6635566]], dtype=float32), array([[0.7404599]], dtype=float32), array([[0.5676086]], dtype=float32), array([[0.6765834]], dtype=float32), array([[0.5600182]], dtype=float32), array([[0.6932412]], dtype=float32), array([[0.6870299]], dtype=float32), array([[0.5372616]], dtype=float32), array([[0.7277376]], dtype=float32), array([[0.8075122]], dtype=float32), array([[0.72819424]], dtype=float32), array([[0.53029186]], dtype=float32), array([[0.72218597]], dtype=float32), array([[0.7038748]], dtype=float32), array([[0.7405789]], dtype=float32), array([[0.75029606]], dtype=float32), array([[0.67398894]], dtype=float32), array([[0.5596585]], dtype=float32), array([[0.7015208]], dtype=float32), array([[0.7486348]], dtype=float32), array([[0.6383214]], dtype=float32), array([[0.7275331]], dtype=float32), array([[0.589991]], dtype=float32), array([[0.5469786]], dtype=float32), array([[0.4822964]], dtype=float32), array([[0.8326682]], dtype=float32), array([[0.6477807]], dtype=float32), array([[0.5290562]], dtype=float32), array([[0.7147057]], dtype=float32), array([[0.79069924]], dtype=float32), array([[0.6847892]], dtype=float32), array([[0.71117795]], dtype=float32), array([[0.7057364]], dtype=float32), array([[0.49286705]], dtype=float32), array([[0.6819427]], dtype=float32), array([[0.7465832]], dtype=float32), array([[0.84086126]], dtype=float32), array([[0.6035266]], dtype=float32), array([[0.61151963]], dtype=float32), array([[0.67667115]], dtype=float32), array([[0.55953753]], dtype=float32), array([[0.48912805]], dtype=float32), array([[0.64970255]], dtype=float32), array([[0.6942059]], dtype=float32), array([[0.71804416]], dtype=float32), array([[0.5671597]], dtype=float32), array([[0.64125746]], dtype=float32), array([[0.7912235]], dtype=float32), array([[0.4410845]], dtype=float32), array([[0.7310552]], dtype=float32), array([[0.5780883]], dtype=float32), array([[0.64818865]], dtype=float32), array([[0.56536484]], dtype=float32), array([[0.6569808]], dtype=float32), array([[0.8740524]], dtype=float32), array([[0.69279826]], dtype=float32), array([[0.7405198]], dtype=float32), array([[0.640643]], dtype=float32), array([[0.73781526]], dtype=float32), array([[0.48402733]], dtype=float32), array([[0.6529337]], dtype=float32), array([[0.7264693]], dtype=float32), array([[0.77941763]], dtype=float32), array([[0.75982517]], dtype=float32), array([[0.70398724]], dtype=float32), array([[0.74407977]], dtype=float32), array([[0.80907464]], dtype=float32), array([[0.6420673]], dtype=float32), array([[0.6241729]], dtype=float32), array([[0.4660601]], dtype=float32), array([[0.79946166]], dtype=float32), array([[0.43722522]], dtype=float32), array([[0.51355267]], dtype=float32), array([[0.689182]], dtype=float32), array([[0.6447881]], dtype=float32), array([[0.48264563]], dtype=float32), array([[0.6522458]], dtype=float32), array([[0.5084909]], dtype=float32), array([[0.82032204]], dtype=float32), array([[0.6166454]], dtype=float32), array([[0.58666945]], dtype=float32), array([[0.78133994]], dtype=float32), array([[0.7551628]], dtype=float32), array([[0.66602945]], dtype=float32), array([[0.7509208]], dtype=float32), array([[0.7384369]], dtype=float32), array([[0.7646003]], dtype=float32), array([[0.72962344]], dtype=float32), array([[0.5689086]], dtype=float32), array([[0.651903]], dtype=float32), array([[0.68074495]], dtype=float32), array([[0.6139624]], dtype=float32), array([[0.58764184]], dtype=float32), array([[0.60246295]], dtype=float32), array([[0.6805551]], dtype=float32), array([[0.66562474]], dtype=float32), array([[0.7856294]], dtype=float32), array([[0.61329865]], dtype=float32), array([[0.74530315]], dtype=float32), array([[0.77363735]], dtype=float32), array([[0.5699585]], dtype=float32), array([[0.69881463]], dtype=float32), array([[0.63507414]], dtype=float32), array([[0.6295055]], dtype=float32), array([[0.46314847]], dtype=float32), array([[0.548013]], dtype=float32), array([[0.6518164]], dtype=float32), array([[0.5513865]], dtype=float32), array([[0.5912647]], dtype=float32), array([[0.659019]], dtype=float32), array([[0.7302462]], dtype=float32), array([[0.60890275]], dtype=float32), array([[0.8454199]], dtype=float32), array([[0.59630764]], dtype=float32), array([[0.6966293]], dtype=float32), array([[0.84259003]], dtype=float32), array([[0.71421343]], dtype=float32), array([[0.78187317]], dtype=float32), array([[0.702422]], dtype=float32), array([[0.6994608]], dtype=float32), array([[0.72390246]], dtype=float32), array([[0.5771209]], dtype=float32), array([[0.8084735]], dtype=float32), array([[0.67050517]], dtype=float32), array([[0.6902094]], dtype=float32), array([[0.64195687]], dtype=float32), array([[0.38197255]], dtype=float32), array([[0.70841515]], dtype=float32), array([[0.57157636]], dtype=float32), array([[0.47067994]], dtype=float32), array([[0.6117331]], dtype=float32), array([[0.6827191]], dtype=float32), array([[0.6130904]], dtype=float32), array([[0.5446552]], dtype=float32), array([[0.6375883]], dtype=float32), array([[0.62374306]], dtype=float32), array([[0.665921]], dtype=float32), array([[0.71901375]], dtype=float32), array([[0.51548547]], dtype=float32), array([[0.6202898]], dtype=float32), array([[0.5837002]], dtype=float32), array([[0.5959004]], dtype=float32), array([[0.67369175]], dtype=float32), array([[0.82823765]], dtype=float32), array([[0.61339176]], dtype=float32), array([[0.72021675]], dtype=float32), array([[0.68266314]], dtype=float32), array([[0.5889902]], dtype=float32), array([[0.7576069]], dtype=float32), array([[0.73875004]], dtype=float32), array([[0.54860544]], dtype=float32), array([[0.70231855]], dtype=float32), array([[0.787488]], dtype=float32), array([[0.48829406]], dtype=float32), array([[0.57045007]], dtype=float32), array([[0.6591347]], dtype=float32), array([[0.47518346]], dtype=float32), array([[0.7483187]], dtype=float32), array([[0.5796933]], dtype=float32), array([[0.6162183]], dtype=float32), array([[0.67995816]], dtype=float32), array([[0.5849336]], dtype=float32), array([[0.7276318]], dtype=float32), array([[0.7118117]], dtype=float32), array([[0.60196966]], dtype=float32), array([[0.5112564]], dtype=float32), array([[0.7393031]], dtype=float32), array([[0.72205675]], dtype=float32), array([[0.7616002]], dtype=float32), array([[0.7010709]], dtype=float32), array([[0.7355021]], dtype=float32), array([[0.6149838]], dtype=float32), array([[0.509723]], dtype=float32), array([[0.6055838]], dtype=float32), array([[0.7232059]], dtype=float32), array([[0.71659255]], dtype=float32), array([[0.5781163]], dtype=float32), array([[0.7048189]], dtype=float32), array([[0.72241086]], dtype=float32), array([[0.800823]], dtype=float32), array([[0.8929876]], dtype=float32), array([[0.8010771]], dtype=float32), array([[0.6119613]], dtype=float32), array([[0.6164402]], dtype=float32), array([[0.41491842]], dtype=float32), array([[0.74943954]], dtype=float32), array([[0.73701036]], dtype=float32), array([[0.62741363]], dtype=float32), array([[0.73638046]], dtype=float32), array([[0.6499045]], dtype=float32), array([[0.6330658]], dtype=float32), array([[0.5239427]], dtype=float32), array([[0.6555029]], dtype=float32), array([[0.56890196]], dtype=float32), array([[0.8133678]], dtype=float32), array([[0.86308306]], dtype=float32), array([[0.69549465]], dtype=float32), array([[0.82054853]], dtype=float32), array([[0.7590415]], dtype=float32), array([[0.7227814]], dtype=float32), array([[0.60864764]], dtype=float32), array([[0.8223279]], dtype=float32), array([[0.44678277]], dtype=float32), array([[0.55216587]], dtype=float32), array([[0.6501132]], dtype=float32), array([[0.80222255]], dtype=float32), array([[0.6872761]], dtype=float32), array([[0.87243855]], dtype=float32), array([[0.7512743]], dtype=float32), array([[0.74820083]], dtype=float32), array([[0.59796417]], dtype=float32), array([[0.7953665]], dtype=float32), array([[0.6871538]], dtype=float32), array([[0.6747861]], dtype=float32), array([[0.70777303]], dtype=float32), array([[0.6986141]], dtype=float32), array([[0.64918876]], dtype=float32), array([[0.75057805]], dtype=float32), array([[0.70393425]], dtype=float32), array([[0.648967]], dtype=float32), array([[0.6987995]], dtype=float32), array([[0.4805922]], dtype=float32), array([[0.5744517]], dtype=float32), array([[0.6134596]], dtype=float32), array([[0.73711336]], dtype=float32), array([[0.67194355]], dtype=float32), array([[0.6298636]], dtype=float32), array([[0.5983536]], dtype=float32), array([[0.42402285]], dtype=float32), array([[0.6335034]], dtype=float32), array([[0.72952944]], dtype=float32), array([[0.6262379]], dtype=float32), array([[0.7864579]], dtype=float32), array([[0.6243887]], dtype=float32), array([[0.769263]], dtype=float32), array([[0.7572551]], dtype=float32), array([[0.7865009]], dtype=float32), array([[0.8124287]], dtype=float32), array([[0.7200389]], dtype=float32), array([[0.52156353]], dtype=float32), array([[0.76669776]], dtype=float32), array([[0.6332762]], dtype=float32), array([[0.71940076]], dtype=float32), array([[0.66406107]], dtype=float32), array([[0.6321428]], dtype=float32), array([[0.4656864]], dtype=float32), array([[0.6526901]], dtype=float32), array([[0.4837585]], dtype=float32), array([[0.6393537]], dtype=float32), array([[0.7407089]], dtype=float32), array([[0.5692034]], dtype=float32), array([[0.7155274]], dtype=float32), array([[0.62514126]], dtype=float32), array([[0.6334401]], dtype=float32), array([[0.6192564]], dtype=float32), array([[0.8348423]], dtype=float32), array([[0.6548198]], dtype=float32), array([[0.82203996]], dtype=float32), array([[0.6179906]], dtype=float32), array([[0.7498766]], dtype=float32), array([[0.5928578]], dtype=float32), array([[0.623794]], dtype=float32), array([[0.68232965]], dtype=float32), array([[0.8137684]], dtype=float32), array([[0.7379004]], dtype=float32), array([[0.69180465]], dtype=float32), array([[0.6720881]], dtype=float32), array([[0.640533]], dtype=float32), array([[0.65783286]], dtype=float32), array([[0.84227]], dtype=float32), array([[0.6448224]], dtype=float32), array([[0.5871021]], dtype=float32), array([[0.66301215]], dtype=float32), array([[0.73753726]], dtype=float32), array([[0.7442868]], dtype=float32), array([[0.68661344]], dtype=float32), array([[0.6618811]], dtype=float32), array([[0.6465763]], dtype=float32), array([[0.65189683]], dtype=float32), array([[0.6034433]], dtype=float32), array([[0.6715853]], dtype=float32), array([[0.6931242]], dtype=float32), array([[0.5980405]], dtype=float32), array([[0.6873082]], dtype=float32), array([[0.5517458]], dtype=float32), array([[0.6743534]], dtype=float32), array([[0.548494]], dtype=float32), array([[0.60642624]], dtype=float32), array([[0.80233985]], dtype=float32), array([[0.82631385]], dtype=float32), array([[0.7430521]], dtype=float32), array([[0.62479997]], dtype=float32), array([[0.71954536]], dtype=float32), array([[0.6569797]], dtype=float32), array([[0.62275165]], dtype=float32), array([[0.57324755]], dtype=float32), array([[0.5747464]], dtype=float32), array([[0.73095834]], dtype=float32), array([[0.54171443]], dtype=float32), array([[0.53858054]], dtype=float32), array([[0.81394845]], dtype=float32), array([[0.805943]], dtype=float32), array([[0.6556815]], dtype=float32), array([[0.6360053]], dtype=float32), array([[0.5753195]], dtype=float32), array([[0.61854804]], dtype=float32), array([[0.69578534]], dtype=float32), array([[0.57751906]], dtype=float32), array([[0.79454947]], dtype=float32), array([[0.5524469]], dtype=float32), array([[0.50456023]], dtype=float32), array([[0.5853965]], dtype=float32), array([[0.65589464]], dtype=float32), array([[0.7790501]], dtype=float32), array([[0.61566913]], dtype=float32), array([[0.59792554]], dtype=float32), array([[0.7674893]], dtype=float32), array([[0.6805623]], dtype=float32), array([[0.5436032]], dtype=float32), array([[0.675037]], dtype=float32), array([[0.79338276]], dtype=float32), array([[0.66407025]], dtype=float32), array([[0.5664183]], dtype=float32), array([[0.787727]], dtype=float32), array([[0.8101958]], dtype=float32), array([[0.73481095]], dtype=float32), array([[0.6536983]], dtype=float32), array([[0.6465638]], dtype=float32), array([[0.71108997]], dtype=float32), array([[0.5539622]], dtype=float32), array([[0.6528348]], dtype=float32), array([[0.5695553]], dtype=float32), array([[0.619665]], dtype=float32), array([[0.79832816]], dtype=float32), array([[0.7349236]], dtype=float32), array([[0.43122983]], dtype=float32), array([[0.70113575]], dtype=float32), array([[0.57166034]], dtype=float32), array([[0.6927645]], dtype=float32), array([[0.752222]], dtype=float32), array([[0.53983486]], dtype=float32), array([[0.40586528]], dtype=float32), array([[0.6911942]], dtype=float32), array([[0.82663924]], dtype=float32), array([[0.6224536]], dtype=float32), array([[0.737268]], dtype=float32), array([[0.6956548]], dtype=float32), array([[0.8254771]], dtype=float32), array([[0.60512376]], dtype=float32), array([[0.65944815]], dtype=float32), array([[0.75384337]], dtype=float32), array([[0.7149174]], dtype=float32), array([[0.5811665]], dtype=float32), array([[0.7427929]], dtype=float32), array([[0.7156055]], dtype=float32), array([[0.51402915]], dtype=float32), array([[0.7555155]], dtype=float32), array([[0.615435]], dtype=float32), array([[0.5542857]], dtype=float32), array([[0.58908814]], dtype=float32), array([[0.56478465]], dtype=float32), array([[0.60116446]], dtype=float32), array([[0.62501997]], dtype=float32), array([[0.7507765]], dtype=float32), array([[0.6704827]], dtype=float32), array([[0.5308278]], dtype=float32), array([[0.730336]], dtype=float32), array([[0.55215174]], dtype=float32), array([[0.53380734]], dtype=float32), array([[0.87652624]], dtype=float32), array([[0.44975847]], dtype=float32), array([[0.5801899]], dtype=float32), array([[0.6449331]], dtype=float32), array([[0.7244481]], dtype=float32), array([[0.6386035]], dtype=float32), array([[0.599241]], dtype=float32), array([[0.70997286]], dtype=float32), array([[0.5922815]], dtype=float32), array([[0.63710916]], dtype=float32), array([[0.9338064]], dtype=float32), array([[0.74438596]], dtype=float32), array([[0.7783766]], dtype=float32), array([[0.7654944]], dtype=float32), array([[0.7129511]], dtype=float32), array([[0.6575285]], dtype=float32), array([[0.6162783]], dtype=float32), array([[0.61703014]], dtype=float32), array([[0.717548]], dtype=float32), array([[0.6970596]], dtype=float32), array([[0.67761195]], dtype=float32), array([[0.75325125]], dtype=float32), array([[0.68941873]], dtype=float32), array([[0.80107874]], dtype=float32), array([[0.6942247]], dtype=float32), array([[0.515844]], dtype=float32), array([[0.5954021]], dtype=float32), array([[0.6437042]], dtype=float32), array([[0.5633662]], dtype=float32), array([[0.65220237]], dtype=float32), array([[0.59955883]], dtype=float32), array([[0.76167023]], dtype=float32), array([[0.63013804]], dtype=float32), array([[0.7126246]], dtype=float32), array([[0.70474124]], dtype=float32), array([[0.66946703]], dtype=float32), array([[0.6966989]], dtype=float32), array([[0.65205604]], dtype=float32), array([[0.49501026]], dtype=float32), array([[0.69339144]], dtype=float32), array([[0.82339907]], dtype=float32), array([[0.71258056]], dtype=float32), array([[0.6848136]], dtype=float32), array([[0.6705085]], dtype=float32), array([[0.597508]], dtype=float32), array([[0.7017537]], dtype=float32), array([[0.5806913]], dtype=float32), array([[0.5885139]], dtype=float32), array([[0.62392485]], dtype=float32), array([[0.73249704]], dtype=float32), array([[0.5126382]], dtype=float32), array([[0.78124785]], dtype=float32), array([[0.80426526]], dtype=float32), array([[0.52640986]], dtype=float32), array([[0.66188705]], dtype=float32), array([[0.6334416]], dtype=float32), array([[0.7258649]], dtype=float32), array([[0.63100755]], dtype=float32), array([[0.747594]], dtype=float32), array([[0.738384]], dtype=float32), array([[0.43807802]], dtype=float32), array([[0.58519363]], dtype=float32), array([[0.6696506]], dtype=float32), array([[0.7443614]], dtype=float32), array([[0.5338681]], dtype=float32), array([[0.47022092]], dtype=float32), array([[0.70111835]], dtype=float32), array([[0.5115687]], dtype=float32), array([[0.7468079]], dtype=float32), array([[0.69820154]], dtype=float32), array([[0.647354]], dtype=float32), array([[0.73702765]], dtype=float32), array([[0.6817886]], dtype=float32), array([[0.6576683]], dtype=float32), array([[0.5214026]], dtype=float32), array([[0.66617584]], dtype=float32), array([[0.6420015]], dtype=float32), array([[0.615921]], dtype=float32), array([[0.7390185]], dtype=float32), array([[0.6505474]], dtype=float32), array([[0.5417857]], dtype=float32), array([[0.6005168]], dtype=float32), array([[0.6316322]], dtype=float32), array([[0.63135594]], dtype=float32), array([[0.7078223]], dtype=float32), array([[0.6005044]], dtype=float32), array([[0.6777719]], dtype=float32), array([[0.6344757]], dtype=float32), array([[0.606958]], dtype=float32), array([[0.5784601]], dtype=float32), array([[0.67781633]], dtype=float32), array([[0.67603165]], dtype=float32), array([[0.6751344]], dtype=float32), array([[0.58307976]], dtype=float32), array([[0.689893]], dtype=float32), array([[0.6286433]], dtype=float32)]\n"
     ]
    }
   ],
   "source": [
    "# function to iterate over the entire dataset. \n",
    "a = 0 \n",
    "similarity_score = []\n",
    "\n",
    "for a in range(0,4023):\n",
    "  a = cosine_similarity([sentence_vecs[a]],[sentence_vecs2[a]])\n",
    "  similarity_score.append(a)\n",
    "\n",
    "print(similarity_score)"
   ]
  },
  {
   "cell_type": "markdown",
   "metadata": {
    "id": "7pmPzUeiEKWe"
   },
   "source": [
    "- The similarity score of first row(text1[0],text2[0]) is 0.5.\n",
    "- The range of cosine similarity is between 0 - 1. \n",
    "- The closer the cosine value to 1, the smaller the angle and the greater the match between vectors.\n",
    "- similarity(A,B) = A.B / |A|*|B| where 'A' and 'B' are two non-zero vectors. "
   ]
  },
  {
   "cell_type": "markdown",
   "metadata": {
    "id": "WaAcEqyWM5hS"
   },
   "source": [
    "#Final Submission "
   ]
  },
  {
   "cell_type": "code",
   "execution_count": null,
   "metadata": {
    "colab": {
     "base_uri": "https://localhost:8080/",
     "height": 402
    },
    "id": "dq_XgK6-YsPM",
    "outputId": "77be21f4-7741-4bbe-a0dd-7cdbc046c740"
   },
   "outputs": [
    {
     "data": {
      "text/html": [
       "<div>\n",
       "<style scoped>\n",
       "    .dataframe tbody tr th:only-of-type {\n",
       "        vertical-align: middle;\n",
       "    }\n",
       "\n",
       "    .dataframe tbody tr th {\n",
       "        vertical-align: top;\n",
       "    }\n",
       "\n",
       "    .dataframe thead th {\n",
       "        text-align: right;\n",
       "    }\n",
       "</style>\n",
       "<table border=\"1\" class=\"dataframe\">\n",
       "  <thead>\n",
       "    <tr style=\"text-align: right;\">\n",
       "      <th></th>\n",
       "      <th>Unique_ID</th>\n",
       "      <th>text1</th>\n",
       "      <th>text2</th>\n",
       "      <th>Cosine_Score</th>\n",
       "    </tr>\n",
       "  </thead>\n",
       "  <tbody>\n",
       "    <tr>\n",
       "      <th>0</th>\n",
       "      <td>0</td>\n",
       "      <td>savvy searchers fail to spot ads internet sear...</td>\n",
       "      <td>newcastle 2-1 bolton kieron dyer smashed home ...</td>\n",
       "      <td>0.519699</td>\n",
       "    </tr>\n",
       "    <tr>\n",
       "      <th>1</th>\n",
       "      <td>1</td>\n",
       "      <td>millions to miss out on the net by 2025  40% o...</td>\n",
       "      <td>nasdaq planning $100m share sale the owner of ...</td>\n",
       "      <td>0.672457</td>\n",
       "    </tr>\n",
       "    <tr>\n",
       "      <th>2</th>\n",
       "      <td>2</td>\n",
       "      <td>young debut cut short by ginepri fifteen-year-...</td>\n",
       "      <td>ruddock backs yapp s credentials wales coach m...</td>\n",
       "      <td>0.709068</td>\n",
       "    </tr>\n",
       "    <tr>\n",
       "      <th>3</th>\n",
       "      <td>3</td>\n",
       "      <td>diageo to buy us wine firm diageo  the world s...</td>\n",
       "      <td>mci shares climb on takeover bid shares in us ...</td>\n",
       "      <td>0.762647</td>\n",
       "    </tr>\n",
       "    <tr>\n",
       "      <th>4</th>\n",
       "      <td>4</td>\n",
       "      <td>be careful how you code a new european directi...</td>\n",
       "      <td>media gadgets get moving pocket-sized devices ...</td>\n",
       "      <td>0.611398</td>\n",
       "    </tr>\n",
       "    <tr>\n",
       "      <th>...</th>\n",
       "      <td>...</td>\n",
       "      <td>...</td>\n",
       "      <td>...</td>\n",
       "      <td>...</td>\n",
       "    </tr>\n",
       "    <tr>\n",
       "      <th>4018</th>\n",
       "      <td>4018</td>\n",
       "      <td>labour plans maternity pay rise maternity pay ...</td>\n",
       "      <td>no seasonal lift for house market a swathe of ...</td>\n",
       "      <td>0.676032</td>\n",
       "    </tr>\n",
       "    <tr>\n",
       "      <th>4019</th>\n",
       "      <td>4019</td>\n",
       "      <td>high fuel costs hit us airlines two of the lar...</td>\n",
       "      <td>new media battle for bafta awards the bbc lead...</td>\n",
       "      <td>0.675134</td>\n",
       "    </tr>\n",
       "    <tr>\n",
       "      <th>4020</th>\n",
       "      <td>4020</td>\n",
       "      <td>britons growing  digitally obese  gadget lover...</td>\n",
       "      <td>film star fox behind theatre bid leading actor...</td>\n",
       "      <td>0.583080</td>\n",
       "    </tr>\n",
       "    <tr>\n",
       "      <th>4021</th>\n",
       "      <td>4021</td>\n",
       "      <td>holmes is hit by hamstring injury kelly holmes...</td>\n",
       "      <td>tsunami  to hit sri lanka banks  sri lanka s b...</td>\n",
       "      <td>0.689893</td>\n",
       "    </tr>\n",
       "    <tr>\n",
       "      <th>4022</th>\n",
       "      <td>4022</td>\n",
       "      <td>nuclear dumpsite  plan attacked plans to allow...</td>\n",
       "      <td>x factor show gets second series tv talent sho...</td>\n",
       "      <td>0.628643</td>\n",
       "    </tr>\n",
       "  </tbody>\n",
       "</table>\n",
       "<p>4023 rows × 4 columns</p>\n",
       "</div>"
      ],
      "text/plain": [
       "      Unique_ID  ... Cosine_Score\n",
       "0             0  ...     0.519699\n",
       "1             1  ...     0.672457\n",
       "2             2  ...     0.709068\n",
       "3             3  ...     0.762647\n",
       "4             4  ...     0.611398\n",
       "...         ...  ...          ...\n",
       "4018       4018  ...     0.676032\n",
       "4019       4019  ...     0.675134\n",
       "4020       4020  ...     0.583080\n",
       "4021       4021  ...     0.689893\n",
       "4022       4022  ...     0.628643\n",
       "\n",
       "[4023 rows x 4 columns]"
      ]
     },
     "execution_count": 48,
     "metadata": {
      "tags": []
     },
     "output_type": "execute_result"
    }
   ],
   "source": [
    "flatten_score = list(chain.from_iterable(similarity_score)) #Since it is a 2D array\n",
    "Cosine_Score = pd.DataFrame(flatten_score)\n",
    "df['Cosine_Score'] = Cosine_Score\n",
    "df_alter = df.copy()\n",
    "df_alter"
   ]
  },
  {
   "cell_type": "code",
   "execution_count": null,
   "metadata": {
    "colab": {
     "base_uri": "https://localhost:8080/",
     "height": 402
    },
    "id": "N_jRIVxuZT52",
    "outputId": "f1ab9e3f-12cd-43ab-d3bd-66b84b35675d"
   },
   "outputs": [
    {
     "data": {
      "text/html": [
       "<div>\n",
       "<style scoped>\n",
       "    .dataframe tbody tr th:only-of-type {\n",
       "        vertical-align: middle;\n",
       "    }\n",
       "\n",
       "    .dataframe tbody tr th {\n",
       "        vertical-align: top;\n",
       "    }\n",
       "\n",
       "    .dataframe thead th {\n",
       "        text-align: right;\n",
       "    }\n",
       "</style>\n",
       "<table border=\"1\" class=\"dataframe\">\n",
       "  <thead>\n",
       "    <tr style=\"text-align: right;\">\n",
       "      <th></th>\n",
       "      <th>Unique_ID</th>\n",
       "      <th>Cosine_Score</th>\n",
       "    </tr>\n",
       "  </thead>\n",
       "  <tbody>\n",
       "    <tr>\n",
       "      <th>0</th>\n",
       "      <td>0</td>\n",
       "      <td>0.519699</td>\n",
       "    </tr>\n",
       "    <tr>\n",
       "      <th>1</th>\n",
       "      <td>1</td>\n",
       "      <td>0.672457</td>\n",
       "    </tr>\n",
       "    <tr>\n",
       "      <th>2</th>\n",
       "      <td>2</td>\n",
       "      <td>0.709068</td>\n",
       "    </tr>\n",
       "    <tr>\n",
       "      <th>3</th>\n",
       "      <td>3</td>\n",
       "      <td>0.762647</td>\n",
       "    </tr>\n",
       "    <tr>\n",
       "      <th>4</th>\n",
       "      <td>4</td>\n",
       "      <td>0.611398</td>\n",
       "    </tr>\n",
       "    <tr>\n",
       "      <th>...</th>\n",
       "      <td>...</td>\n",
       "      <td>...</td>\n",
       "    </tr>\n",
       "    <tr>\n",
       "      <th>4018</th>\n",
       "      <td>4018</td>\n",
       "      <td>0.676032</td>\n",
       "    </tr>\n",
       "    <tr>\n",
       "      <th>4019</th>\n",
       "      <td>4019</td>\n",
       "      <td>0.675134</td>\n",
       "    </tr>\n",
       "    <tr>\n",
       "      <th>4020</th>\n",
       "      <td>4020</td>\n",
       "      <td>0.583080</td>\n",
       "    </tr>\n",
       "    <tr>\n",
       "      <th>4021</th>\n",
       "      <td>4021</td>\n",
       "      <td>0.689893</td>\n",
       "    </tr>\n",
       "    <tr>\n",
       "      <th>4022</th>\n",
       "      <td>4022</td>\n",
       "      <td>0.628643</td>\n",
       "    </tr>\n",
       "  </tbody>\n",
       "</table>\n",
       "<p>4023 rows × 2 columns</p>\n",
       "</div>"
      ],
      "text/plain": [
       "      Unique_ID  Cosine_Score\n",
       "0             0      0.519699\n",
       "1             1      0.672457\n",
       "2             2      0.709068\n",
       "3             3      0.762647\n",
       "4             4      0.611398\n",
       "...         ...           ...\n",
       "4018       4018      0.676032\n",
       "4019       4019      0.675134\n",
       "4020       4020      0.583080\n",
       "4021       4021      0.689893\n",
       "4022       4022      0.628643\n",
       "\n",
       "[4023 rows x 2 columns]"
      ]
     },
     "execution_count": 49,
     "metadata": {
      "tags": []
     },
     "output_type": "execute_result"
    }
   ],
   "source": [
    "df_alter = df.drop(['text1','text2'],axis=1)\n",
    "df_alter.reset_index(drop=True, inplace=True)\n",
    "df_alter"
   ]
  },
  {
   "cell_type": "code",
   "execution_count": null,
   "metadata": {
    "colab": {
     "base_uri": "https://localhost:8080/",
     "height": 17
    },
    "id": "BVyp55HLag34",
    "outputId": "8e33dfce-43bc-4c01-dd0e-9eab027e4344"
   },
   "outputs": [
    {
     "data": {
      "application/javascript": [
       "\n",
       "    async function download(id, filename, size) {\n",
       "      if (!google.colab.kernel.accessAllowed) {\n",
       "        return;\n",
       "      }\n",
       "      const div = document.createElement('div');\n",
       "      const label = document.createElement('label');\n",
       "      label.textContent = `Downloading \"${filename}\": `;\n",
       "      div.appendChild(label);\n",
       "      const progress = document.createElement('progress');\n",
       "      progress.max = size;\n",
       "      div.appendChild(progress);\n",
       "      document.body.appendChild(div);\n",
       "\n",
       "      const buffers = [];\n",
       "      let downloaded = 0;\n",
       "\n",
       "      const channel = await google.colab.kernel.comms.open(id);\n",
       "      // Send a message to notify the kernel that we're ready.\n",
       "      channel.send({})\n",
       "\n",
       "      for await (const message of channel.messages) {\n",
       "        // Send a message to notify the kernel that we're ready.\n",
       "        channel.send({})\n",
       "        if (message.buffers) {\n",
       "          for (const buffer of message.buffers) {\n",
       "            buffers.push(buffer);\n",
       "            downloaded += buffer.byteLength;\n",
       "            progress.value = downloaded;\n",
       "          }\n",
       "        }\n",
       "      }\n",
       "      const blob = new Blob(buffers, {type: 'application/binary'});\n",
       "      const a = document.createElement('a');\n",
       "      a.href = window.URL.createObjectURL(blob);\n",
       "      a.download = filename;\n",
       "      div.appendChild(a);\n",
       "      a.click();\n",
       "      div.remove();\n",
       "    }\n",
       "  "
      ],
      "text/plain": [
       "<IPython.core.display.Javascript object>"
      ]
     },
     "metadata": {
      "tags": []
     },
     "output_type": "display_data"
    },
    {
     "data": {
      "application/javascript": [
       "download(\"download_b8678a59-9024-4094-b300-438de1c66158\", \"STS.csv\", 95028)"
      ],
      "text/plain": [
       "<IPython.core.display.Javascript object>"
      ]
     },
     "metadata": {
      "tags": []
     },
     "output_type": "display_data"
    }
   ],
   "source": [
    "from google.colab import files\n",
    "\n",
    "df_alter.to_csv('STS.csv', index=False)\n",
    "files.download('STS.csv')"
   ]
  },
  {
   "cell_type": "markdown",
   "metadata": {
    "id": "H3JYoyFtcDVT"
   },
   "source": [
    "**References**: \n",
    "- https://arxiv.org/pdf/1908.10084.pdf\n",
    "- https://www.sbert.net/docs/usage/semantic_textual_similarity.html"
   ]
  },
  {
   "cell_type": "code",
   "execution_count": null,
   "metadata": {
    "id": "og_PFupleE5J"
   },
   "outputs": [],
   "source": []
  }
 ],
 "metadata": {
  "accelerator": "GPU",
  "colab": {
   "name": "STS_Internship.ipynb",
   "provenance": []
  },
  "kernelspec": {
   "display_name": "Python 3",
   "language": "python",
   "name": "python3"
  },
  "language_info": {
   "codemirror_mode": {
    "name": "ipython",
    "version": 3
   },
   "file_extension": ".py",
   "mimetype": "text/x-python",
   "name": "python",
   "nbconvert_exporter": "python",
   "pygments_lexer": "ipython3",
   "version": "3.7.3"
  }
 },
 "nbformat": 4,
 "nbformat_minor": 1
}
